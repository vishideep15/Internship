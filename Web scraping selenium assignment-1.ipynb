{
 "cells": [
  {
   "cell_type": "markdown",
   "metadata": {},
   "source": [
    "Q1: Write a python program to scrape data for “Data Analyst” Job position in \n",
    "“Bangalore” location. You have to scrape the job-title, job-location, company_name,\n",
    "experience_required. You have to scrape first 10 jobs data.\n",
    "This task will be done in following steps:\n",
    "1. first get the webpage https://www.naukri.com/\n",
    "2. Enter “Data Analyst” in “Skill,Designations,Companies” field and enter “Bangalore” \n",
    "in “enter the location” field.\n",
    "3. Then click the search button.\n",
    "4. Then scrape the data for the first 10 jobs results you get.\n",
    "5. Finally create a dataframe of the scraped data."
   ]
  },
  {
   "cell_type": "code",
   "execution_count": 120,
   "metadata": {},
   "outputs": [],
   "source": [
    "\n",
    "import selenium\n",
    "import pandas as pd\n",
    "from selenium import webdriver"
   ]
  },
  {
   "cell_type": "code",
   "execution_count": 121,
   "metadata": {},
   "outputs": [],
   "source": [
    "##connect to web driver\n",
    "driver=webdriver.Chrome(\"chromedriver.exe\")"
   ]
  },
  {
   "cell_type": "code",
   "execution_count": 122,
   "metadata": {},
   "outputs": [],
   "source": [
    "##opening the naukri.com page\n",
    "url='https://www.naukri.com/'\n",
    "driver.get(url)"
   ]
  },
  {
   "cell_type": "code",
   "execution_count": 123,
   "metadata": {},
   "outputs": [
    {
     "data": {
      "text/plain": [
       "<selenium.webdriver.remote.webelement.WebElement (session=\"7a203d1a6d5bb4c4b8195552e5b18c3e\", element=\"fa6217d9-036b-410b-8130-ddd273260a43\")>"
      ]
     },
     "execution_count": 123,
     "metadata": {},
     "output_type": "execute_result"
    }
   ],
   "source": [
    "search_job=driver.find_element_by_xpath('//input[@class=\"sugInp\"]')\n",
    "search_job"
   ]
  },
  {
   "cell_type": "code",
   "execution_count": 124,
   "metadata": {},
   "outputs": [],
   "source": [
    "##write on the search bar\n",
    "search_job.send_keys(\"Data Analyst\")"
   ]
  },
  {
   "cell_type": "code",
   "execution_count": 125,
   "metadata": {},
   "outputs": [],
   "source": [
    "## finding element for job location bar\n",
    "search_loc=driver.find_element_by_id(\"qsb-location-sugg\")\n",
    "search_loc.send_keys(\"Bangalore\")"
   ]
  },
  {
   "cell_type": "code",
   "execution_count": 126,
   "metadata": {},
   "outputs": [],
   "source": [
    "##do click using xpath function\n",
    "search_btn=driver.find_element_by_xpath(\"//button[@class='btn']\")\n",
    "search_btn.click()"
   ]
  },
  {
   "cell_type": "code",
   "execution_count": 127,
   "metadata": {},
   "outputs": [
    {
     "data": {
      "text/plain": [
       "[<selenium.webdriver.remote.webelement.WebElement (session=\"7a203d1a6d5bb4c4b8195552e5b18c3e\", element=\"50e294e1-e698-4bb5-912e-ae0ffb07a95b\")>,\n",
       " <selenium.webdriver.remote.webelement.WebElement (session=\"7a203d1a6d5bb4c4b8195552e5b18c3e\", element=\"52b5e179-3684-4d5a-bd14-7223e699e3f0\")>,\n",
       " <selenium.webdriver.remote.webelement.WebElement (session=\"7a203d1a6d5bb4c4b8195552e5b18c3e\", element=\"808d9089-56b0-4c5d-9b01-86b73c37cd60\")>,\n",
       " <selenium.webdriver.remote.webelement.WebElement (session=\"7a203d1a6d5bb4c4b8195552e5b18c3e\", element=\"cff8dc1a-b981-4b81-98b9-bbbb7206f977\")>,\n",
       " <selenium.webdriver.remote.webelement.WebElement (session=\"7a203d1a6d5bb4c4b8195552e5b18c3e\", element=\"2492a143-9cce-4dc7-8fab-78fcf70f3cf8\")>,\n",
       " <selenium.webdriver.remote.webelement.WebElement (session=\"7a203d1a6d5bb4c4b8195552e5b18c3e\", element=\"80443ba7-5b9f-453e-9397-f96225434a76\")>,\n",
       " <selenium.webdriver.remote.webelement.WebElement (session=\"7a203d1a6d5bb4c4b8195552e5b18c3e\", element=\"be5f5c05-cc71-485c-83ae-ffc114436f9a\")>,\n",
       " <selenium.webdriver.remote.webelement.WebElement (session=\"7a203d1a6d5bb4c4b8195552e5b18c3e\", element=\"92720e67-7137-4365-9064-73e5c35bb88b\")>,\n",
       " <selenium.webdriver.remote.webelement.WebElement (session=\"7a203d1a6d5bb4c4b8195552e5b18c3e\", element=\"b7c59827-0f93-48ef-aa71-6bea06e6dc02\")>,\n",
       " <selenium.webdriver.remote.webelement.WebElement (session=\"7a203d1a6d5bb4c4b8195552e5b18c3e\", element=\"d873775c-8b4d-4a28-9259-47a74e27dd62\")>,\n",
       " <selenium.webdriver.remote.webelement.WebElement (session=\"7a203d1a6d5bb4c4b8195552e5b18c3e\", element=\"b71a6a7b-01e3-4338-acf8-bc324ebe16bf\")>,\n",
       " <selenium.webdriver.remote.webelement.WebElement (session=\"7a203d1a6d5bb4c4b8195552e5b18c3e\", element=\"956050a6-0faa-48f5-b487-58c09ee89923\")>,\n",
       " <selenium.webdriver.remote.webelement.WebElement (session=\"7a203d1a6d5bb4c4b8195552e5b18c3e\", element=\"80086e3a-61ac-4b99-b3ba-5bc4360c4f6d\")>,\n",
       " <selenium.webdriver.remote.webelement.WebElement (session=\"7a203d1a6d5bb4c4b8195552e5b18c3e\", element=\"4a6cb3ab-8760-4b4a-a401-701ad4fe06ae\")>,\n",
       " <selenium.webdriver.remote.webelement.WebElement (session=\"7a203d1a6d5bb4c4b8195552e5b18c3e\", element=\"eda934ca-c94a-4ea1-80a4-40b56e1ed6e9\")>,\n",
       " <selenium.webdriver.remote.webelement.WebElement (session=\"7a203d1a6d5bb4c4b8195552e5b18c3e\", element=\"d1613d7c-f1f7-4a91-91bf-5269f3f51c04\")>,\n",
       " <selenium.webdriver.remote.webelement.WebElement (session=\"7a203d1a6d5bb4c4b8195552e5b18c3e\", element=\"1b557fc0-f1d6-4f00-b4ab-f38198b1c7e0\")>,\n",
       " <selenium.webdriver.remote.webelement.WebElement (session=\"7a203d1a6d5bb4c4b8195552e5b18c3e\", element=\"b28aa8b6-074e-4fe9-b100-400c24de1382\")>,\n",
       " <selenium.webdriver.remote.webelement.WebElement (session=\"7a203d1a6d5bb4c4b8195552e5b18c3e\", element=\"b3a32f09-df89-4af4-8aeb-d47a8c92b971\")>,\n",
       " <selenium.webdriver.remote.webelement.WebElement (session=\"7a203d1a6d5bb4c4b8195552e5b18c3e\", element=\"dfdb6b0c-a9a2-4fbd-a227-e8a90f2d67fe\")>]"
      ]
     },
     "execution_count": 127,
     "metadata": {},
     "output_type": "execute_result"
    }
   ],
   "source": [
    "##extract the tags having the job titles\n",
    "titles_tags=driver.find_elements_by_xpath(\"//a[@class='title fw500 ellipsis']\")\n",
    "titles_tags"
   ]
  },
  {
   "cell_type": "code",
   "execution_count": 128,
   "metadata": {},
   "outputs": [
    {
     "data": {
      "text/plain": [
       "['Senior Data Analyst',\n",
       " 'Tcs Hiring For Senior Data Analyst (bfsi domain)',\n",
       " 'Business Data Analyst',\n",
       " 'Business Data Analyst',\n",
       " 'Business Data Analyst - Google Data Studio & SQL',\n",
       " 'Senior Data Analyst',\n",
       " 'Tcs Hiring For MDM (master data management) Data Analyst (bfsi domain)',\n",
       " 'Senior Data Analyst IDAM Services',\n",
       " 'Data Analyst/Sr.Data Engineer',\n",
       " 'SENIOR DATA ANALYST',\n",
       " 'Executive Data Analyst',\n",
       " 'Senior Data Analyst IN4',\n",
       " 'Analyst & Designer - Software - Data Analysis',\n",
       " 'Data Analyst - I/II',\n",
       " 'Systems and Data Analyst, Safety and Provisioning',\n",
       " 'Data Analyst',\n",
       " 'Business Data Analyst - MIS & Reporting',\n",
       " 'Sr Data Analyst',\n",
       " 'Senior Data Analyst',\n",
       " 'Senior Data Analyst']"
      ]
     },
     "execution_count": 128,
     "metadata": {},
     "output_type": "execute_result"
    }
   ],
   "source": [
    "job_titles=[]\n",
    "for i in titles_tags:\n",
    "    job_titles.append(i.text)\n",
    "\n",
    "job_titles"
   ]
  },
  {
   "cell_type": "code",
   "execution_count": 129,
   "metadata": {},
   "outputs": [
    {
     "data": {
      "text/plain": [
       "[<selenium.webdriver.remote.webelement.WebElement (session=\"7a203d1a6d5bb4c4b8195552e5b18c3e\", element=\"f2ed63d7-7d46-4cfd-bae6-910d0e727dd5\")>,\n",
       " <selenium.webdriver.remote.webelement.WebElement (session=\"7a203d1a6d5bb4c4b8195552e5b18c3e\", element=\"e5c2b379-b78b-4c8e-b617-9eafc05e7478\")>,\n",
       " <selenium.webdriver.remote.webelement.WebElement (session=\"7a203d1a6d5bb4c4b8195552e5b18c3e\", element=\"c0b45aeb-6eba-42fa-9c6f-43da47dc4a15\")>,\n",
       " <selenium.webdriver.remote.webelement.WebElement (session=\"7a203d1a6d5bb4c4b8195552e5b18c3e\", element=\"0d41ab17-a17d-4f65-af05-3179804fee0b\")>,\n",
       " <selenium.webdriver.remote.webelement.WebElement (session=\"7a203d1a6d5bb4c4b8195552e5b18c3e\", element=\"5d3d6010-ed23-4dcd-b40c-b805f3fb6ab7\")>,\n",
       " <selenium.webdriver.remote.webelement.WebElement (session=\"7a203d1a6d5bb4c4b8195552e5b18c3e\", element=\"36b8dc61-6065-4ff2-8305-732e591b9e43\")>,\n",
       " <selenium.webdriver.remote.webelement.WebElement (session=\"7a203d1a6d5bb4c4b8195552e5b18c3e\", element=\"1713324b-d31d-4232-ae70-30975ac2ae1f\")>,\n",
       " <selenium.webdriver.remote.webelement.WebElement (session=\"7a203d1a6d5bb4c4b8195552e5b18c3e\", element=\"42250afa-26cf-41a5-b2e9-0bef28459b8b\")>,\n",
       " <selenium.webdriver.remote.webelement.WebElement (session=\"7a203d1a6d5bb4c4b8195552e5b18c3e\", element=\"0d230258-74a8-4a12-8da5-ee675cf30b8f\")>,\n",
       " <selenium.webdriver.remote.webelement.WebElement (session=\"7a203d1a6d5bb4c4b8195552e5b18c3e\", element=\"f4be68d1-702a-411c-a14a-2db05cf89a05\")>,\n",
       " <selenium.webdriver.remote.webelement.WebElement (session=\"7a203d1a6d5bb4c4b8195552e5b18c3e\", element=\"01c3c5ac-dafb-4534-b11e-deb7d6bb53df\")>,\n",
       " <selenium.webdriver.remote.webelement.WebElement (session=\"7a203d1a6d5bb4c4b8195552e5b18c3e\", element=\"834efec3-696e-4ba1-bd63-1bef6b15f543\")>,\n",
       " <selenium.webdriver.remote.webelement.WebElement (session=\"7a203d1a6d5bb4c4b8195552e5b18c3e\", element=\"21571886-709f-4c3a-9741-d5df2e4ee68f\")>,\n",
       " <selenium.webdriver.remote.webelement.WebElement (session=\"7a203d1a6d5bb4c4b8195552e5b18c3e\", element=\"809c4a06-6974-4669-80cf-3bf81d095cee\")>,\n",
       " <selenium.webdriver.remote.webelement.WebElement (session=\"7a203d1a6d5bb4c4b8195552e5b18c3e\", element=\"c841ada9-955f-4155-8ad6-d56563d88f11\")>,\n",
       " <selenium.webdriver.remote.webelement.WebElement (session=\"7a203d1a6d5bb4c4b8195552e5b18c3e\", element=\"eb72ceec-b7b5-4413-9481-34865550023b\")>,\n",
       " <selenium.webdriver.remote.webelement.WebElement (session=\"7a203d1a6d5bb4c4b8195552e5b18c3e\", element=\"5507744d-7f26-431a-a33b-181589af2864\")>,\n",
       " <selenium.webdriver.remote.webelement.WebElement (session=\"7a203d1a6d5bb4c4b8195552e5b18c3e\", element=\"de384bd1-2537-4eaf-aacc-a6ba0ed4512b\")>,\n",
       " <selenium.webdriver.remote.webelement.WebElement (session=\"7a203d1a6d5bb4c4b8195552e5b18c3e\", element=\"f7564772-ecbd-48fd-8132-980a130614f1\")>,\n",
       " <selenium.webdriver.remote.webelement.WebElement (session=\"7a203d1a6d5bb4c4b8195552e5b18c3e\", element=\"6356488f-ee3c-4900-b317-aadaa58c4acc\")>]"
      ]
     },
     "execution_count": 129,
     "metadata": {},
     "output_type": "execute_result"
    }
   ],
   "source": [
    "## extract all the tags having the company names\n",
    "companies_tags=driver.find_elements_by_xpath(\"//a[@class='subTitle ellipsis fleft']\")\n",
    "companies_tags"
   ]
  },
  {
   "cell_type": "code",
   "execution_count": 130,
   "metadata": {},
   "outputs": [
    {
     "data": {
      "text/plain": [
       "['Gaussian Networks Private Limited',\n",
       " 'Tata Consultancy Services Ltd.',\n",
       " 'Trigent Software',\n",
       " 'Trigent Software',\n",
       " 'AVE-Promagne',\n",
       " 'Virtusa Consulting Services Pvt Ltd',\n",
       " 'Tata Consultancy Services Ltd.',\n",
       " 'GlaxoSmithKline Pharmaceuticals Limited',\n",
       " 'SYREN TECHNOLOGIES PRIVATE LIMITED',\n",
       " 'McAfee Software (India) Pvt. Ltd',\n",
       " 'Gokaldas Exports Ltd',\n",
       " 'Walmart Labs',\n",
       " 'HyreFox Consultants Pvt Ltd',\n",
       " 'Philips India Limited',\n",
       " 'AECOM India Private Limited',\n",
       " 'IBM India Pvt. Limited',\n",
       " 'INTERTRUST GROUP',\n",
       " 'Empower Retirement',\n",
       " 'Flipkart',\n",
       " 'Flipkart']"
      ]
     },
     "execution_count": 130,
     "metadata": {},
     "output_type": "execute_result"
    }
   ],
   "source": [
    "company_names=[]\n",
    "for i in companies_tags:\n",
    "    company_names.append(i.text)\n",
    "    \n",
    "company_names"
   ]
  },
  {
   "cell_type": "code",
   "execution_count": 131,
   "metadata": {},
   "outputs": [
    {
     "data": {
      "text/plain": [
       "[<selenium.webdriver.remote.webelement.WebElement (session=\"7a203d1a6d5bb4c4b8195552e5b18c3e\", element=\"f3999bb0-ef49-4d11-ba50-ff1d32960551\")>,\n",
       " <selenium.webdriver.remote.webelement.WebElement (session=\"7a203d1a6d5bb4c4b8195552e5b18c3e\", element=\"4ea11491-adec-4458-bba1-cfa31089d8e5\")>,\n",
       " <selenium.webdriver.remote.webelement.WebElement (session=\"7a203d1a6d5bb4c4b8195552e5b18c3e\", element=\"e1dc9c01-44f9-4102-ad7b-7e33553dbcd0\")>,\n",
       " <selenium.webdriver.remote.webelement.WebElement (session=\"7a203d1a6d5bb4c4b8195552e5b18c3e\", element=\"17946759-e9f1-4b0e-8bf0-52fd3acc43b6\")>,\n",
       " <selenium.webdriver.remote.webelement.WebElement (session=\"7a203d1a6d5bb4c4b8195552e5b18c3e\", element=\"4f117061-be6e-49b1-ba70-ef05ff458546\")>,\n",
       " <selenium.webdriver.remote.webelement.WebElement (session=\"7a203d1a6d5bb4c4b8195552e5b18c3e\", element=\"6855580f-bfe6-42b8-a9c0-c49b338822e7\")>,\n",
       " <selenium.webdriver.remote.webelement.WebElement (session=\"7a203d1a6d5bb4c4b8195552e5b18c3e\", element=\"b1c6f5cd-bdf5-41a3-9898-6aeff043b83c\")>,\n",
       " <selenium.webdriver.remote.webelement.WebElement (session=\"7a203d1a6d5bb4c4b8195552e5b18c3e\", element=\"eb5bfb00-5031-4d1e-bb67-41ac0cea50b3\")>,\n",
       " <selenium.webdriver.remote.webelement.WebElement (session=\"7a203d1a6d5bb4c4b8195552e5b18c3e\", element=\"7f45b475-2655-45b4-9a62-9038e24d729b\")>,\n",
       " <selenium.webdriver.remote.webelement.WebElement (session=\"7a203d1a6d5bb4c4b8195552e5b18c3e\", element=\"4a447e4a-d601-4280-ae74-203112cf5255\")>,\n",
       " <selenium.webdriver.remote.webelement.WebElement (session=\"7a203d1a6d5bb4c4b8195552e5b18c3e\", element=\"c38889ca-edf2-481b-9c22-7b5fe8040f57\")>,\n",
       " <selenium.webdriver.remote.webelement.WebElement (session=\"7a203d1a6d5bb4c4b8195552e5b18c3e\", element=\"812b50b3-4576-4a64-af35-566ff536ed91\")>,\n",
       " <selenium.webdriver.remote.webelement.WebElement (session=\"7a203d1a6d5bb4c4b8195552e5b18c3e\", element=\"494ce06f-e848-41fd-8d51-4b13cf83fdef\")>,\n",
       " <selenium.webdriver.remote.webelement.WebElement (session=\"7a203d1a6d5bb4c4b8195552e5b18c3e\", element=\"b7b22ea0-2bc1-47ed-a16c-64aebae4bcbc\")>,\n",
       " <selenium.webdriver.remote.webelement.WebElement (session=\"7a203d1a6d5bb4c4b8195552e5b18c3e\", element=\"c3794269-9388-4377-9ec6-a8e5600f36bb\")>,\n",
       " <selenium.webdriver.remote.webelement.WebElement (session=\"7a203d1a6d5bb4c4b8195552e5b18c3e\", element=\"07035533-55cf-4962-80e2-fd8edc44aac4\")>,\n",
       " <selenium.webdriver.remote.webelement.WebElement (session=\"7a203d1a6d5bb4c4b8195552e5b18c3e\", element=\"c8dff40e-2be4-437f-9a74-fd0a85be1627\")>,\n",
       " <selenium.webdriver.remote.webelement.WebElement (session=\"7a203d1a6d5bb4c4b8195552e5b18c3e\", element=\"51c4fbf2-2a15-4c46-a84a-7dd8cb7641c8\")>,\n",
       " <selenium.webdriver.remote.webelement.WebElement (session=\"7a203d1a6d5bb4c4b8195552e5b18c3e\", element=\"b81ab604-f386-49b2-8981-77860e39a404\")>,\n",
       " <selenium.webdriver.remote.webelement.WebElement (session=\"7a203d1a6d5bb4c4b8195552e5b18c3e\", element=\"dd6626bd-5d24-44d0-aef5-215c65bd43d8\")>]"
      ]
     },
     "execution_count": 131,
     "metadata": {},
     "output_type": "execute_result"
    }
   ],
   "source": [
    "locations_tags=driver.find_elements_by_xpath(\"//li[@class='fleft grey-text br2 placeHolderLi location']\")\n",
    "locations_tags"
   ]
  },
  {
   "cell_type": "code",
   "execution_count": 132,
   "metadata": {},
   "outputs": [
    {
     "data": {
      "text/plain": [
       "['Gurgaon/Gurugram, Bangalore/Bengaluru',\n",
       " 'Chennai, Bangalore/Bengaluru',\n",
       " 'Bangalore/Bengaluru',\n",
       " 'Bangalore/Bengaluru',\n",
       " 'Bangalore/Bengaluru',\n",
       " 'Hyderabad/Secunderabad, Pune, Gurgaon/Gurugram, Chennai, Bangalore/Bengaluru, Mumbai (All Areas)\\n(WFH during Covid)',\n",
       " 'Chennai, Bangalore/Bengaluru',\n",
       " 'Bangalore/Bengaluru',\n",
       " 'Hyderabad/Secunderabad, Chennai, Bangalore/Bengaluru\\n(WFH during Covid)',\n",
       " 'Bangalore/Bengaluru',\n",
       " 'Bangalore/Bengaluru',\n",
       " 'Bangalore/Bengaluru',\n",
       " 'Bangalore/Bengaluru',\n",
       " 'Bangalore/Bengaluru',\n",
       " 'Bangalore/Bengaluru',\n",
       " 'Bengaluru/Bangalore',\n",
       " 'Mumbai, Bangalore/Bengaluru',\n",
       " 'Bangalore/Bengaluru',\n",
       " 'Bangalore/Bengaluru',\n",
       " 'Bangalore/Bengaluru']"
      ]
     },
     "execution_count": 132,
     "metadata": {},
     "output_type": "execute_result"
    }
   ],
   "source": [
    "company_locations=[]\n",
    "for i in locations_tags:\n",
    "    company_locations.append(i.text)\n",
    "    \n",
    "company_locations"
   ]
  },
  {
   "cell_type": "code",
   "execution_count": 133,
   "metadata": {},
   "outputs": [
    {
     "data": {
      "text/plain": [
       "[<selenium.webdriver.remote.webelement.WebElement (session=\"7a203d1a6d5bb4c4b8195552e5b18c3e\", element=\"52c3bf07-74c8-45bb-9053-d1f2be30e2cc\")>,\n",
       " <selenium.webdriver.remote.webelement.WebElement (session=\"7a203d1a6d5bb4c4b8195552e5b18c3e\", element=\"de7a6fa0-d30b-44e7-a613-a8c811c168fe\")>,\n",
       " <selenium.webdriver.remote.webelement.WebElement (session=\"7a203d1a6d5bb4c4b8195552e5b18c3e\", element=\"78525252-37ee-4f2f-ae42-ded34b8c0870\")>,\n",
       " <selenium.webdriver.remote.webelement.WebElement (session=\"7a203d1a6d5bb4c4b8195552e5b18c3e\", element=\"cc4d4abb-be36-4ce5-8eba-8dcde7481434\")>,\n",
       " <selenium.webdriver.remote.webelement.WebElement (session=\"7a203d1a6d5bb4c4b8195552e5b18c3e\", element=\"c01ab684-a443-42f8-8514-a365cff9b9cf\")>,\n",
       " <selenium.webdriver.remote.webelement.WebElement (session=\"7a203d1a6d5bb4c4b8195552e5b18c3e\", element=\"1b0b5c79-9e36-451c-8dd9-f54c51b0b268\")>,\n",
       " <selenium.webdriver.remote.webelement.WebElement (session=\"7a203d1a6d5bb4c4b8195552e5b18c3e\", element=\"c01041cf-d7ff-4a73-8abb-ad9332303ea2\")>,\n",
       " <selenium.webdriver.remote.webelement.WebElement (session=\"7a203d1a6d5bb4c4b8195552e5b18c3e\", element=\"c6038d54-fc1b-4210-ae9c-cd39bd44caf9\")>,\n",
       " <selenium.webdriver.remote.webelement.WebElement (session=\"7a203d1a6d5bb4c4b8195552e5b18c3e\", element=\"37e686b3-4f7e-4f30-b146-4727b64e86db\")>,\n",
       " <selenium.webdriver.remote.webelement.WebElement (session=\"7a203d1a6d5bb4c4b8195552e5b18c3e\", element=\"479f0016-336f-4a90-874e-daef8b581e47\")>,\n",
       " <selenium.webdriver.remote.webelement.WebElement (session=\"7a203d1a6d5bb4c4b8195552e5b18c3e\", element=\"4b401229-1acb-4052-ace2-6f859dc08b0b\")>,\n",
       " <selenium.webdriver.remote.webelement.WebElement (session=\"7a203d1a6d5bb4c4b8195552e5b18c3e\", element=\"1a7a4381-9286-44ff-99f6-80676a59860b\")>,\n",
       " <selenium.webdriver.remote.webelement.WebElement (session=\"7a203d1a6d5bb4c4b8195552e5b18c3e\", element=\"88e47177-4343-47d3-815e-89acbf171152\")>,\n",
       " <selenium.webdriver.remote.webelement.WebElement (session=\"7a203d1a6d5bb4c4b8195552e5b18c3e\", element=\"793722ca-c8d1-47c0-9a1f-7e07da47df5e\")>,\n",
       " <selenium.webdriver.remote.webelement.WebElement (session=\"7a203d1a6d5bb4c4b8195552e5b18c3e\", element=\"ea272897-2fa5-4a66-8fd5-44afa33d1270\")>,\n",
       " <selenium.webdriver.remote.webelement.WebElement (session=\"7a203d1a6d5bb4c4b8195552e5b18c3e\", element=\"82081ab2-da62-455c-85c7-2b7e1d229cf2\")>,\n",
       " <selenium.webdriver.remote.webelement.WebElement (session=\"7a203d1a6d5bb4c4b8195552e5b18c3e\", element=\"64909c61-6671-43b7-8180-50112b82e35d\")>,\n",
       " <selenium.webdriver.remote.webelement.WebElement (session=\"7a203d1a6d5bb4c4b8195552e5b18c3e\", element=\"c60c5af9-7376-4e8a-873e-2b5142728073\")>,\n",
       " <selenium.webdriver.remote.webelement.WebElement (session=\"7a203d1a6d5bb4c4b8195552e5b18c3e\", element=\"8dce781c-cea5-42af-bc0e-5e8326d2d874\")>,\n",
       " <selenium.webdriver.remote.webelement.WebElement (session=\"7a203d1a6d5bb4c4b8195552e5b18c3e\", element=\"8e166db4-0d0f-4999-8a72-74c4829ba339\")>]"
      ]
     },
     "execution_count": 133,
     "metadata": {},
     "output_type": "execute_result"
    }
   ],
   "source": [
    "experience_required=driver.find_elements_by_xpath(\"//li[@class='fleft grey-text br2 placeHolderLi experience']\")\n",
    "experience_required"
   ]
  },
  {
   "cell_type": "code",
   "execution_count": 134,
   "metadata": {},
   "outputs": [
    {
     "data": {
      "text/plain": [
       "['3-5 Yrs',\n",
       " '6-11 Yrs',\n",
       " '5-10 Yrs',\n",
       " '5-10 Yrs',\n",
       " '3-8 Yrs',\n",
       " '8-12 Yrs',\n",
       " '6-11 Yrs',\n",
       " '4-8 Yrs',\n",
       " '4-9 Yrs',\n",
       " '6-8 Yrs',\n",
       " '0-3 Yrs',\n",
       " '8-10 Yrs',\n",
       " '5-7 Yrs',\n",
       " '3-6 Yrs',\n",
       " '2-7 Yrs',\n",
       " '1-4 Yrs',\n",
       " '3-8 Yrs',\n",
       " '5-8 Yrs',\n",
       " '2-3 Yrs',\n",
       " '3-8 Yrs']"
      ]
     },
     "execution_count": 134,
     "metadata": {},
     "output_type": "execute_result"
    }
   ],
   "source": [
    "experience_req=[]\n",
    "for i in experience_required:\n",
    "    experience_req.append(i.text)\n",
    "    \n",
    "experience_req"
   ]
  },
  {
   "cell_type": "code",
   "execution_count": 135,
   "metadata": {},
   "outputs": [
    {
     "name": "stdout",
     "output_type": "stream",
     "text": [
      "20 20 20 20\n"
     ]
    }
   ],
   "source": [
    "print(len(job_titles), len(company_names), len(company_locations), len(experience_req))"
   ]
  },
  {
   "cell_type": "code",
   "execution_count": 137,
   "metadata": {},
   "outputs": [
    {
     "data": {
      "text/html": [
       "<div>\n",
       "<style scoped>\n",
       "    .dataframe tbody tr th:only-of-type {\n",
       "        vertical-align: middle;\n",
       "    }\n",
       "\n",
       "    .dataframe tbody tr th {\n",
       "        vertical-align: top;\n",
       "    }\n",
       "\n",
       "    .dataframe thead th {\n",
       "        text-align: right;\n",
       "    }\n",
       "</style>\n",
       "<table border=\"1\" class=\"dataframe\">\n",
       "  <thead>\n",
       "    <tr style=\"text-align: right;\">\n",
       "      <th></th>\n",
       "      <th>Title</th>\n",
       "      <th>Company</th>\n",
       "      <th>Location</th>\n",
       "      <th>Experience</th>\n",
       "    </tr>\n",
       "  </thead>\n",
       "  <tbody>\n",
       "    <tr>\n",
       "      <th>0</th>\n",
       "      <td>Senior Data Analyst</td>\n",
       "      <td>Gaussian Networks Private Limited</td>\n",
       "      <td>Gurgaon/Gurugram, Bangalore/Bengaluru</td>\n",
       "      <td>3-5 Yrs</td>\n",
       "    </tr>\n",
       "    <tr>\n",
       "      <th>1</th>\n",
       "      <td>Tcs Hiring For Senior Data Analyst (bfsi domain)</td>\n",
       "      <td>Tata Consultancy Services Ltd.</td>\n",
       "      <td>Chennai, Bangalore/Bengaluru</td>\n",
       "      <td>6-11 Yrs</td>\n",
       "    </tr>\n",
       "    <tr>\n",
       "      <th>2</th>\n",
       "      <td>Business Data Analyst</td>\n",
       "      <td>Trigent Software</td>\n",
       "      <td>Bangalore/Bengaluru</td>\n",
       "      <td>5-10 Yrs</td>\n",
       "    </tr>\n",
       "    <tr>\n",
       "      <th>3</th>\n",
       "      <td>Business Data Analyst</td>\n",
       "      <td>Trigent Software</td>\n",
       "      <td>Bangalore/Bengaluru</td>\n",
       "      <td>5-10 Yrs</td>\n",
       "    </tr>\n",
       "    <tr>\n",
       "      <th>4</th>\n",
       "      <td>Business Data Analyst - Google Data Studio &amp; SQL</td>\n",
       "      <td>AVE-Promagne</td>\n",
       "      <td>Bangalore/Bengaluru</td>\n",
       "      <td>3-8 Yrs</td>\n",
       "    </tr>\n",
       "    <tr>\n",
       "      <th>5</th>\n",
       "      <td>Senior Data Analyst</td>\n",
       "      <td>Virtusa Consulting Services Pvt Ltd</td>\n",
       "      <td>Hyderabad/Secunderabad, Pune, Gurgaon/Gurugram...</td>\n",
       "      <td>8-12 Yrs</td>\n",
       "    </tr>\n",
       "    <tr>\n",
       "      <th>6</th>\n",
       "      <td>Tcs Hiring For MDM (master data management) Da...</td>\n",
       "      <td>Tata Consultancy Services Ltd.</td>\n",
       "      <td>Chennai, Bangalore/Bengaluru</td>\n",
       "      <td>6-11 Yrs</td>\n",
       "    </tr>\n",
       "    <tr>\n",
       "      <th>7</th>\n",
       "      <td>Senior Data Analyst IDAM Services</td>\n",
       "      <td>GlaxoSmithKline Pharmaceuticals Limited</td>\n",
       "      <td>Bangalore/Bengaluru</td>\n",
       "      <td>4-8 Yrs</td>\n",
       "    </tr>\n",
       "    <tr>\n",
       "      <th>8</th>\n",
       "      <td>Data Analyst/Sr.Data Engineer</td>\n",
       "      <td>SYREN TECHNOLOGIES PRIVATE LIMITED</td>\n",
       "      <td>Hyderabad/Secunderabad, Chennai, Bangalore/Ben...</td>\n",
       "      <td>4-9 Yrs</td>\n",
       "    </tr>\n",
       "    <tr>\n",
       "      <th>9</th>\n",
       "      <td>SENIOR DATA ANALYST</td>\n",
       "      <td>McAfee Software (India) Pvt. Ltd</td>\n",
       "      <td>Bangalore/Bengaluru</td>\n",
       "      <td>6-8 Yrs</td>\n",
       "    </tr>\n",
       "  </tbody>\n",
       "</table>\n",
       "</div>"
      ],
      "text/plain": [
       "                                               Title  \\\n",
       "0                                Senior Data Analyst   \n",
       "1   Tcs Hiring For Senior Data Analyst (bfsi domain)   \n",
       "2                              Business Data Analyst   \n",
       "3                              Business Data Analyst   \n",
       "4   Business Data Analyst - Google Data Studio & SQL   \n",
       "5                                Senior Data Analyst   \n",
       "6  Tcs Hiring For MDM (master data management) Da...   \n",
       "7                  Senior Data Analyst IDAM Services   \n",
       "8                      Data Analyst/Sr.Data Engineer   \n",
       "9                                SENIOR DATA ANALYST   \n",
       "\n",
       "                                   Company  \\\n",
       "0        Gaussian Networks Private Limited   \n",
       "1           Tata Consultancy Services Ltd.   \n",
       "2                         Trigent Software   \n",
       "3                         Trigent Software   \n",
       "4                             AVE-Promagne   \n",
       "5      Virtusa Consulting Services Pvt Ltd   \n",
       "6           Tata Consultancy Services Ltd.   \n",
       "7  GlaxoSmithKline Pharmaceuticals Limited   \n",
       "8       SYREN TECHNOLOGIES PRIVATE LIMITED   \n",
       "9         McAfee Software (India) Pvt. Ltd   \n",
       "\n",
       "                                            Location Experience  \n",
       "0              Gurgaon/Gurugram, Bangalore/Bengaluru    3-5 Yrs  \n",
       "1                       Chennai, Bangalore/Bengaluru   6-11 Yrs  \n",
       "2                                Bangalore/Bengaluru   5-10 Yrs  \n",
       "3                                Bangalore/Bengaluru   5-10 Yrs  \n",
       "4                                Bangalore/Bengaluru    3-8 Yrs  \n",
       "5  Hyderabad/Secunderabad, Pune, Gurgaon/Gurugram...   8-12 Yrs  \n",
       "6                       Chennai, Bangalore/Bengaluru   6-11 Yrs  \n",
       "7                                Bangalore/Bengaluru    4-8 Yrs  \n",
       "8  Hyderabad/Secunderabad, Chennai, Bangalore/Ben...    4-9 Yrs  \n",
       "9                                Bangalore/Bengaluru    6-8 Yrs  "
      ]
     },
     "execution_count": 137,
     "metadata": {},
     "output_type": "execute_result"
    }
   ],
   "source": [
    "jobs=pd.DataFrame({})\n",
    "jobs['Title']=job_titles\n",
    "jobs['Company']=company_names\n",
    "jobs['Location']=company_locations\n",
    "jobs['Experience']=experience_req\n",
    "jobs[0:10]"
   ]
  },
  {
   "cell_type": "markdown",
   "metadata": {},
   "source": [
    "Q2: Write a python program to scrape data for “Data Scientist” Job position in \n",
    "“Bangalore” location. You have to scrape the job-title, job-location,\n",
    "company_name, full job-description. You have to scrape first 10 jobs data.\n",
    "This task will be done in following steps:\n",
    "1. first get the webpage https://www.naukri.com/\n",
    "2. Enter “Data Scientist” in “Skill,Designations,Companies” field and enter \n",
    "“Bangalore” in “enter the location” field.\n",
    "3. Then click the search button.\n",
    "4. Then scrape the data for the first 10 jobs results you get.\n",
    "5. Finally create a dataframe of the scraped data."
   ]
  },
  {
   "cell_type": "code",
   "execution_count": 139,
   "metadata": {},
   "outputs": [],
   "source": [
    "\n",
    "import selenium\n",
    "import pandas as pd\n",
    "from selenium import webdriver"
   ]
  },
  {
   "cell_type": "code",
   "execution_count": 140,
   "metadata": {},
   "outputs": [],
   "source": [
    "##connect to web driver\n",
    "driver=webdriver.Chrome(\"chromedriver.exe\")"
   ]
  },
  {
   "cell_type": "code",
   "execution_count": 141,
   "metadata": {},
   "outputs": [],
   "source": [
    "##opening the naukri.com page\n",
    "url='https://www.naukri.com/'\n",
    "driver.get(url)"
   ]
  },
  {
   "cell_type": "code",
   "execution_count": 142,
   "metadata": {},
   "outputs": [
    {
     "data": {
      "text/plain": [
       "<selenium.webdriver.remote.webelement.WebElement (session=\"eabb06acd001134093df1fe8ae69cf46\", element=\"c11c311e-5746-409a-863f-9e7d1f123cf9\")>"
      ]
     },
     "execution_count": 142,
     "metadata": {},
     "output_type": "execute_result"
    }
   ],
   "source": [
    "search_job=driver.find_element_by_xpath('//input[@class=\"sugInp\"]')\n",
    "search_job"
   ]
  },
  {
   "cell_type": "code",
   "execution_count": 143,
   "metadata": {},
   "outputs": [],
   "source": [
    "##write on the search bar\n",
    "search_job.send_keys(\"Data Scientist\")"
   ]
  },
  {
   "cell_type": "code",
   "execution_count": 144,
   "metadata": {},
   "outputs": [],
   "source": [
    "## finding element for job location bar\n",
    "search_loc=driver.find_element_by_id(\"qsb-location-sugg\")\n",
    "search_loc.send_keys(\"Bangalore\")"
   ]
  },
  {
   "cell_type": "code",
   "execution_count": 145,
   "metadata": {},
   "outputs": [],
   "source": [
    "##do click using xpath function\n",
    "search_btn=driver.find_element_by_xpath(\"//button[@class='btn']\")\n",
    "search_btn.click()"
   ]
  },
  {
   "cell_type": "code",
   "execution_count": 146,
   "metadata": {},
   "outputs": [
    {
     "data": {
      "text/plain": [
       "[<selenium.webdriver.remote.webelement.WebElement (session=\"eabb06acd001134093df1fe8ae69cf46\", element=\"867fa5d2-7300-4602-b767-65b4de6e789d\")>,\n",
       " <selenium.webdriver.remote.webelement.WebElement (session=\"eabb06acd001134093df1fe8ae69cf46\", element=\"795d31e4-ef2f-43ee-ad55-a2f560d39f4e\")>,\n",
       " <selenium.webdriver.remote.webelement.WebElement (session=\"eabb06acd001134093df1fe8ae69cf46\", element=\"d72dfd45-3c7a-44a8-bc8b-0baf309e101d\")>,\n",
       " <selenium.webdriver.remote.webelement.WebElement (session=\"eabb06acd001134093df1fe8ae69cf46\", element=\"794eb80e-736e-4015-bd6b-2a9b19743af1\")>,\n",
       " <selenium.webdriver.remote.webelement.WebElement (session=\"eabb06acd001134093df1fe8ae69cf46\", element=\"976cab9e-b91a-4e97-98ed-ad4c326f196a\")>,\n",
       " <selenium.webdriver.remote.webelement.WebElement (session=\"eabb06acd001134093df1fe8ae69cf46\", element=\"5322ee2e-a791-4166-9982-cc95b31d6a82\")>,\n",
       " <selenium.webdriver.remote.webelement.WebElement (session=\"eabb06acd001134093df1fe8ae69cf46\", element=\"e4a786f6-05af-4374-bd35-1783d5eafacf\")>,\n",
       " <selenium.webdriver.remote.webelement.WebElement (session=\"eabb06acd001134093df1fe8ae69cf46\", element=\"db6811ca-7ee6-4f91-acc1-ddbfff03ab47\")>,\n",
       " <selenium.webdriver.remote.webelement.WebElement (session=\"eabb06acd001134093df1fe8ae69cf46\", element=\"01a3f581-d036-4632-a838-9d70deab1265\")>,\n",
       " <selenium.webdriver.remote.webelement.WebElement (session=\"eabb06acd001134093df1fe8ae69cf46\", element=\"147b4c8e-9d36-4c8d-b07c-3a0bbc631483\")>,\n",
       " <selenium.webdriver.remote.webelement.WebElement (session=\"eabb06acd001134093df1fe8ae69cf46\", element=\"9481cd2d-63a2-481c-86fa-c51d69a0d86f\")>,\n",
       " <selenium.webdriver.remote.webelement.WebElement (session=\"eabb06acd001134093df1fe8ae69cf46\", element=\"e701f4ae-98fd-49ba-8829-e4618019eca6\")>,\n",
       " <selenium.webdriver.remote.webelement.WebElement (session=\"eabb06acd001134093df1fe8ae69cf46\", element=\"db640e2d-b5f5-4c97-be0d-aa727d390545\")>,\n",
       " <selenium.webdriver.remote.webelement.WebElement (session=\"eabb06acd001134093df1fe8ae69cf46\", element=\"d82c9d74-f25c-47fd-99c8-73097aca4104\")>,\n",
       " <selenium.webdriver.remote.webelement.WebElement (session=\"eabb06acd001134093df1fe8ae69cf46\", element=\"f9695610-bc6c-4fdf-bf33-8ca911bdbccf\")>,\n",
       " <selenium.webdriver.remote.webelement.WebElement (session=\"eabb06acd001134093df1fe8ae69cf46\", element=\"02abfea6-fba2-4ad4-9213-b273d93f62a3\")>,\n",
       " <selenium.webdriver.remote.webelement.WebElement (session=\"eabb06acd001134093df1fe8ae69cf46\", element=\"bb2b9d6a-faf6-4adf-822f-43ce9ca80c41\")>,\n",
       " <selenium.webdriver.remote.webelement.WebElement (session=\"eabb06acd001134093df1fe8ae69cf46\", element=\"a07d117d-d5e0-4d6d-b5a1-2cbf36d3ef69\")>,\n",
       " <selenium.webdriver.remote.webelement.WebElement (session=\"eabb06acd001134093df1fe8ae69cf46\", element=\"f89491dc-ee55-4a5e-b9d2-6d8adf60691d\")>,\n",
       " <selenium.webdriver.remote.webelement.WebElement (session=\"eabb06acd001134093df1fe8ae69cf46\", element=\"6a1eacc5-bf25-45b7-844b-c0c500ab22e3\")>]"
      ]
     },
     "execution_count": 146,
     "metadata": {},
     "output_type": "execute_result"
    }
   ],
   "source": [
    "##extract the tags having the job titles\n",
    "titles_tags=driver.find_elements_by_xpath(\"//a[@class='title fw500 ellipsis']\")\n",
    "titles_tags"
   ]
  },
  {
   "cell_type": "code",
   "execution_count": 147,
   "metadata": {},
   "outputs": [
    {
     "data": {
      "text/plain": [
       "['Hiring For Data Scientist',\n",
       " 'Lead Data Scientist BFSI',\n",
       " 'Associate Data Scientist',\n",
       " 'Data Scientist',\n",
       " 'Data Scientist',\n",
       " 'Data Scientist: Advanced Analytics',\n",
       " 'Senior Data Scientist',\n",
       " 'Senior Data Scientist',\n",
       " 'Sr Data Scientist',\n",
       " 'Sr Data Scientist',\n",
       " 'SENIOR DATA SCIENTIST',\n",
       " 'Senior Data Scientist IN4',\n",
       " 'Senior Data Scientist (Marketplace)',\n",
       " 'Hiring For Manager and Sr. Manager | Data Scientist',\n",
       " 'Requirement For Data Scientist - Mumbai & Bangalore',\n",
       " 'Data Scientist (Python & SQL)',\n",
       " 'Lead Data Scientist - Machine Learning/ Data Mining',\n",
       " 'Data Scientist- Senior Business Analyst/Lead Analyst',\n",
       " 'Data Scientist- Python/R (3+ Years)',\n",
       " 'Data Scientist - IN3']"
      ]
     },
     "execution_count": 147,
     "metadata": {},
     "output_type": "execute_result"
    }
   ],
   "source": [
    "job_titles=[]\n",
    "for i in titles_tags:\n",
    "    job_titles.append(i.text)\n",
    "\n",
    "job_titles"
   ]
  },
  {
   "cell_type": "code",
   "execution_count": 148,
   "metadata": {},
   "outputs": [
    {
     "data": {
      "text/plain": [
       "[<selenium.webdriver.remote.webelement.WebElement (session=\"eabb06acd001134093df1fe8ae69cf46\", element=\"3665eed4-ead0-4ba5-983f-f2da8842bfc5\")>,\n",
       " <selenium.webdriver.remote.webelement.WebElement (session=\"eabb06acd001134093df1fe8ae69cf46\", element=\"9666d5c3-8109-4e04-961d-1b94d94edb4b\")>,\n",
       " <selenium.webdriver.remote.webelement.WebElement (session=\"eabb06acd001134093df1fe8ae69cf46\", element=\"3f60a215-8de7-43f9-8cb1-80d868705ae0\")>,\n",
       " <selenium.webdriver.remote.webelement.WebElement (session=\"eabb06acd001134093df1fe8ae69cf46\", element=\"19fa15ad-e0f3-43b0-85a7-07898ba253d2\")>,\n",
       " <selenium.webdriver.remote.webelement.WebElement (session=\"eabb06acd001134093df1fe8ae69cf46\", element=\"49ddde5a-c050-4e66-9ce3-cfd30bf6f641\")>,\n",
       " <selenium.webdriver.remote.webelement.WebElement (session=\"eabb06acd001134093df1fe8ae69cf46\", element=\"bec61ace-a6d7-4230-928d-6a266fcfce22\")>,\n",
       " <selenium.webdriver.remote.webelement.WebElement (session=\"eabb06acd001134093df1fe8ae69cf46\", element=\"c98c99c9-7f35-4495-a25c-0fab1fc06ca4\")>,\n",
       " <selenium.webdriver.remote.webelement.WebElement (session=\"eabb06acd001134093df1fe8ae69cf46\", element=\"27e7ac00-49b3-457b-84f7-1a456dda8e6b\")>,\n",
       " <selenium.webdriver.remote.webelement.WebElement (session=\"eabb06acd001134093df1fe8ae69cf46\", element=\"250a48c5-b60b-4c87-871f-5e609dc7a7dd\")>,\n",
       " <selenium.webdriver.remote.webelement.WebElement (session=\"eabb06acd001134093df1fe8ae69cf46\", element=\"863ada15-a312-4978-9e4c-4b828933af28\")>,\n",
       " <selenium.webdriver.remote.webelement.WebElement (session=\"eabb06acd001134093df1fe8ae69cf46\", element=\"f50dcbe7-131c-4a63-870c-aa53e48f62e5\")>,\n",
       " <selenium.webdriver.remote.webelement.WebElement (session=\"eabb06acd001134093df1fe8ae69cf46\", element=\"3e3faf4d-63d1-434d-ac0e-a669a7c9ddbf\")>,\n",
       " <selenium.webdriver.remote.webelement.WebElement (session=\"eabb06acd001134093df1fe8ae69cf46\", element=\"acd11a48-3855-459e-ae46-d52e107ab689\")>,\n",
       " <selenium.webdriver.remote.webelement.WebElement (session=\"eabb06acd001134093df1fe8ae69cf46\", element=\"0badc89f-1678-4ac5-9d78-51392f0fd875\")>,\n",
       " <selenium.webdriver.remote.webelement.WebElement (session=\"eabb06acd001134093df1fe8ae69cf46\", element=\"040dffb5-77cb-4bb7-b0a6-450fe39f1a50\")>,\n",
       " <selenium.webdriver.remote.webelement.WebElement (session=\"eabb06acd001134093df1fe8ae69cf46\", element=\"17b08ab0-5a4c-49be-b512-53fd3184b54e\")>,\n",
       " <selenium.webdriver.remote.webelement.WebElement (session=\"eabb06acd001134093df1fe8ae69cf46\", element=\"6817b950-3380-4bf4-a0a0-3f7c3c6e156a\")>,\n",
       " <selenium.webdriver.remote.webelement.WebElement (session=\"eabb06acd001134093df1fe8ae69cf46\", element=\"e24f5a9e-0b65-4d73-8ff9-2001e945bc0b\")>,\n",
       " <selenium.webdriver.remote.webelement.WebElement (session=\"eabb06acd001134093df1fe8ae69cf46\", element=\"d69fda85-651d-4567-a45d-f28ea0400f0a\")>,\n",
       " <selenium.webdriver.remote.webelement.WebElement (session=\"eabb06acd001134093df1fe8ae69cf46\", element=\"12960b23-a905-477d-9a6c-11ab9ef239f8\")>]"
      ]
     },
     "execution_count": 148,
     "metadata": {},
     "output_type": "execute_result"
    }
   ],
   "source": [
    "## extract all the tags having the company names\n",
    "companies_tags=driver.find_elements_by_xpath(\"//a[@class='subTitle ellipsis fleft']\")\n",
    "companies_tags"
   ]
  },
  {
   "cell_type": "code",
   "execution_count": 149,
   "metadata": {},
   "outputs": [
    {
     "data": {
      "text/plain": [
       "['Tata Consultancy Services Ltd.',\n",
       " 'IBM India Pvt. Limited',\n",
       " 'Philips India Limited',\n",
       " 'Allegis Services India Pvt. Ltd.',\n",
       " 'Allegis Services India Pvt. Ltd.',\n",
       " 'IBM India Pvt. Limited',\n",
       " 'Walmart Labs',\n",
       " 'Airbnb',\n",
       " 'IBM India Pvt. Limited',\n",
       " 'IBM India Pvt. Limited',\n",
       " 'Happiest Minds Technologies Pvt.Ltd',\n",
       " 'Walmart Labs',\n",
       " 'Walmart Labs',\n",
       " 'Vision Beyond Resources India Private Limited',\n",
       " 'CRISIL LIMITED',\n",
       " 'AVE-Promagne',\n",
       " 'Wrackle Technologies Pvt Ltd',\n",
       " 'Evalueserve.com Pvt. Ltd',\n",
       " 'CRESCENDO GLOBAL LEADERSHIP HIRING INDIA PRIVATE L IMITED',\n",
       " 'Walmart Labs']"
      ]
     },
     "execution_count": 149,
     "metadata": {},
     "output_type": "execute_result"
    }
   ],
   "source": [
    "company_names=[]\n",
    "for i in companies_tags:\n",
    "    company_names.append(i.text)\n",
    "    \n",
    "company_names"
   ]
  },
  {
   "cell_type": "code",
   "execution_count": 150,
   "metadata": {},
   "outputs": [
    {
     "data": {
      "text/plain": [
       "[<selenium.webdriver.remote.webelement.WebElement (session=\"eabb06acd001134093df1fe8ae69cf46\", element=\"46d1c1fb-313e-412a-b24a-2d6f0f5dbedf\")>,\n",
       " <selenium.webdriver.remote.webelement.WebElement (session=\"eabb06acd001134093df1fe8ae69cf46\", element=\"f98de082-1789-48cb-b276-3030f6c0a83e\")>,\n",
       " <selenium.webdriver.remote.webelement.WebElement (session=\"eabb06acd001134093df1fe8ae69cf46\", element=\"014ffda4-81fe-47c8-961f-22f8432b3b88\")>,\n",
       " <selenium.webdriver.remote.webelement.WebElement (session=\"eabb06acd001134093df1fe8ae69cf46\", element=\"e7215a10-aaae-4818-a554-43723d642de8\")>,\n",
       " <selenium.webdriver.remote.webelement.WebElement (session=\"eabb06acd001134093df1fe8ae69cf46\", element=\"5afe4d5d-f14f-4d56-b503-25502ff3870b\")>,\n",
       " <selenium.webdriver.remote.webelement.WebElement (session=\"eabb06acd001134093df1fe8ae69cf46\", element=\"3859313d-f137-4cd6-99f3-aa18a06dcf5f\")>,\n",
       " <selenium.webdriver.remote.webelement.WebElement (session=\"eabb06acd001134093df1fe8ae69cf46\", element=\"61f5696c-4b66-40ab-8c25-d8b87d558acc\")>,\n",
       " <selenium.webdriver.remote.webelement.WebElement (session=\"eabb06acd001134093df1fe8ae69cf46\", element=\"4933d2a4-7fad-4871-879d-499d2f090972\")>,\n",
       " <selenium.webdriver.remote.webelement.WebElement (session=\"eabb06acd001134093df1fe8ae69cf46\", element=\"b39765a0-4951-4445-a92e-17121ac05e36\")>,\n",
       " <selenium.webdriver.remote.webelement.WebElement (session=\"eabb06acd001134093df1fe8ae69cf46\", element=\"a53c0b57-9782-43cf-930c-038c85e3224a\")>,\n",
       " <selenium.webdriver.remote.webelement.WebElement (session=\"eabb06acd001134093df1fe8ae69cf46\", element=\"0a04b671-d605-4399-8044-0efae1aa07bf\")>,\n",
       " <selenium.webdriver.remote.webelement.WebElement (session=\"eabb06acd001134093df1fe8ae69cf46\", element=\"dee1017c-e366-4983-804d-184c80aece35\")>,\n",
       " <selenium.webdriver.remote.webelement.WebElement (session=\"eabb06acd001134093df1fe8ae69cf46\", element=\"4bb4dec1-8356-4e6e-9aef-1057d079f98d\")>,\n",
       " <selenium.webdriver.remote.webelement.WebElement (session=\"eabb06acd001134093df1fe8ae69cf46\", element=\"72dae95c-e29a-4eb6-899e-eafef638fc68\")>,\n",
       " <selenium.webdriver.remote.webelement.WebElement (session=\"eabb06acd001134093df1fe8ae69cf46\", element=\"64e839b6-91db-4345-846f-c6786101ea72\")>,\n",
       " <selenium.webdriver.remote.webelement.WebElement (session=\"eabb06acd001134093df1fe8ae69cf46\", element=\"33a271d6-2be1-4d64-a234-22c1dc2430d0\")>,\n",
       " <selenium.webdriver.remote.webelement.WebElement (session=\"eabb06acd001134093df1fe8ae69cf46\", element=\"3d231540-af7a-4ebb-85bb-125a93278e0a\")>,\n",
       " <selenium.webdriver.remote.webelement.WebElement (session=\"eabb06acd001134093df1fe8ae69cf46\", element=\"9d422843-34d6-43fa-a251-67ca3a29d942\")>,\n",
       " <selenium.webdriver.remote.webelement.WebElement (session=\"eabb06acd001134093df1fe8ae69cf46\", element=\"8e875eb0-1e22-48aa-9bae-6948c12d7514\")>,\n",
       " <selenium.webdriver.remote.webelement.WebElement (session=\"eabb06acd001134093df1fe8ae69cf46\", element=\"87d1b582-3ea7-4bc1-8375-61d704f5a6d2\")>]"
      ]
     },
     "execution_count": 150,
     "metadata": {},
     "output_type": "execute_result"
    }
   ],
   "source": [
    "locations_tags=driver.find_elements_by_xpath(\"//li[@class='fleft grey-text br2 placeHolderLi location']\")\n",
    "locations_tags"
   ]
  },
  {
   "cell_type": "code",
   "execution_count": 151,
   "metadata": {},
   "outputs": [
    {
     "data": {
      "text/plain": [
       "['Chennai, Bangalore/Bengaluru, Mumbai (All Areas)\\n(WFH during Covid)',\n",
       " 'Bengaluru/Bangalore',\n",
       " 'Bangalore/Bengaluru',\n",
       " 'Bangalore/Bengaluru',\n",
       " 'Bangalore/Bengaluru',\n",
       " 'Bengaluru/Bangalore',\n",
       " 'Bangalore/Bengaluru',\n",
       " 'Bangalore/Bengaluru',\n",
       " 'Bengaluru/Bangalore',\n",
       " 'Bangalore/Bengaluru',\n",
       " 'Bangalore/Bengaluru',\n",
       " 'Bangalore/Bengaluru',\n",
       " 'Bangalore/Bengaluru',\n",
       " 'Noida, Mumbai, New Delhi, Gurgaon/Gurugram, Bangalore/Bengaluru',\n",
       " 'Bangalore/Bengaluru, Mumbai (All Areas)',\n",
       " 'Hyderabad/Secunderabad, Chennai, Bangalore/Bengaluru',\n",
       " 'Bangalore/Bengaluru',\n",
       " 'Gurgaon/Gurugram, Bangalore/Bengaluru',\n",
       " 'Bangalore/Bengaluru, Delhi / NCR, Mumbai (All Areas)',\n",
       " 'Bangalore/Bengaluru']"
      ]
     },
     "execution_count": 151,
     "metadata": {},
     "output_type": "execute_result"
    }
   ],
   "source": [
    "company_locations=[]\n",
    "for i in locations_tags:\n",
    "    company_locations.append(i.text)\n",
    "    \n",
    "company_locations"
   ]
  },
  {
   "cell_type": "code",
   "execution_count": 152,
   "metadata": {},
   "outputs": [
    {
     "data": {
      "text/plain": [
       "[<selenium.webdriver.remote.webelement.WebElement (session=\"eabb06acd001134093df1fe8ae69cf46\", element=\"c831c421-6a8b-4339-b51c-321f13d9ab58\")>,\n",
       " <selenium.webdriver.remote.webelement.WebElement (session=\"eabb06acd001134093df1fe8ae69cf46\", element=\"89d6cb6a-3029-4e63-b774-870c2d9c5865\")>,\n",
       " <selenium.webdriver.remote.webelement.WebElement (session=\"eabb06acd001134093df1fe8ae69cf46\", element=\"0dd40e63-7e9b-4f85-8e87-c6776ecb1b4f\")>,\n",
       " <selenium.webdriver.remote.webelement.WebElement (session=\"eabb06acd001134093df1fe8ae69cf46\", element=\"47079f7f-d66f-4842-802a-4f7d9e2c000c\")>,\n",
       " <selenium.webdriver.remote.webelement.WebElement (session=\"eabb06acd001134093df1fe8ae69cf46\", element=\"7c1f251f-0e59-41ba-a143-1ee5002f932b\")>,\n",
       " <selenium.webdriver.remote.webelement.WebElement (session=\"eabb06acd001134093df1fe8ae69cf46\", element=\"c0de7b19-079b-4bf6-bab1-26c97d22ee0c\")>,\n",
       " <selenium.webdriver.remote.webelement.WebElement (session=\"eabb06acd001134093df1fe8ae69cf46\", element=\"5c3a8145-4af0-4796-9361-15efb8c1dcb6\")>,\n",
       " <selenium.webdriver.remote.webelement.WebElement (session=\"eabb06acd001134093df1fe8ae69cf46\", element=\"748ef29e-e3d9-4b27-a890-34c2827d5c2c\")>,\n",
       " <selenium.webdriver.remote.webelement.WebElement (session=\"eabb06acd001134093df1fe8ae69cf46\", element=\"6ad14c42-1124-4425-9b39-313aaf065ef9\")>,\n",
       " <selenium.webdriver.remote.webelement.WebElement (session=\"eabb06acd001134093df1fe8ae69cf46\", element=\"1070faf5-8bf9-42b0-af02-d89c6000828b\")>,\n",
       " <selenium.webdriver.remote.webelement.WebElement (session=\"eabb06acd001134093df1fe8ae69cf46\", element=\"c7c7a196-bcb0-40bf-b45b-71db08fa6545\")>,\n",
       " <selenium.webdriver.remote.webelement.WebElement (session=\"eabb06acd001134093df1fe8ae69cf46\", element=\"d20b890a-e762-437e-866a-4612ff2b5f9b\")>,\n",
       " <selenium.webdriver.remote.webelement.WebElement (session=\"eabb06acd001134093df1fe8ae69cf46\", element=\"e3467800-0b36-4b98-a873-2a06dde9785c\")>,\n",
       " <selenium.webdriver.remote.webelement.WebElement (session=\"eabb06acd001134093df1fe8ae69cf46\", element=\"b664b0b5-2d72-4730-afa3-c60add7c5d7a\")>,\n",
       " <selenium.webdriver.remote.webelement.WebElement (session=\"eabb06acd001134093df1fe8ae69cf46\", element=\"6d96e666-b030-4870-9216-9bbcdac50838\")>,\n",
       " <selenium.webdriver.remote.webelement.WebElement (session=\"eabb06acd001134093df1fe8ae69cf46\", element=\"2563bf3d-5bdc-4b42-a8d7-b107fc325a59\")>,\n",
       " <selenium.webdriver.remote.webelement.WebElement (session=\"eabb06acd001134093df1fe8ae69cf46\", element=\"d727c988-407b-4f91-b732-0297c9f93741\")>,\n",
       " <selenium.webdriver.remote.webelement.WebElement (session=\"eabb06acd001134093df1fe8ae69cf46\", element=\"078152a2-ebf9-45ac-bc9b-4a946f856890\")>,\n",
       " <selenium.webdriver.remote.webelement.WebElement (session=\"eabb06acd001134093df1fe8ae69cf46\", element=\"35a239d7-e3a5-4b18-95a2-c5b81658a9ee\")>,\n",
       " <selenium.webdriver.remote.webelement.WebElement (session=\"eabb06acd001134093df1fe8ae69cf46\", element=\"5e4ce8cf-38f6-4b25-9c56-1aa8b8954b20\")>]"
      ]
     },
     "execution_count": 152,
     "metadata": {},
     "output_type": "execute_result"
    }
   ],
   "source": [
    "full_job_description=driver.find_elements_by_xpath(\"//div[@class='job-description fs12 grey-text']\")\n",
    "full_job_description"
   ]
  },
  {
   "cell_type": "code",
   "execution_count": 153,
   "metadata": {},
   "outputs": [
    {
     "data": {
      "text/plain": [
       "['Minimum 3 year of experience in being Applied Machine Learning Engineer roleExperience ...',\n",
       " 'IntroductionSoftware Developers at IBM are the backbone of our strategic initiatives to...',\n",
       " 'Use predictive modeling to increase and optimize customer experiences, revenue generati...',\n",
       " 'Proficient in writing optimized query using any one of the DB query language (Hive / Im...',\n",
       " 'Proficient in writing optimized query using any one of the DB query language (Hive / Im...',\n",
       " 'PhD / Masters in STEM-related fields with knowledge in Quantum ComputingRequired Techni...',\n",
       " 'As a Senior Data Scientist for Walmart, you ll have the opportunity to: Drive data-deri...',\n",
       " 'Professional industry experience in a quantitative analysis role (7+ years preferred) C...',\n",
       " 'Demonstrated extensive experience in building and deploying production quality models i...',\n",
       " 'Demonstrated extensive experience in building and deploying production quality models i...',\n",
       " 'Should possess extensive knowledge of and experience in applying data mining and machin...',\n",
       " 'Bachelor s degree in Engineering / Analytics or Master s Degree in Statistics / Compute...',\n",
       " 'o Solid experience working with state-of-the-art supervised and unsupervised machine le...',\n",
       " 'Hello, We are hiring on behalf of one of the largest BPO/ Consulting services.The skill...',\n",
       " 'CRISIL (formerly Credit Rating Information Services of India Limited) is an Indian anal...',\n",
       " 'Required Technical and Professional Expertise• 6+ years of industry work experience in ...',\n",
       " 'BS/ MS/ PhD in Computer Science, Statistics, Applied Math, or related areas from Premie...',\n",
       " 'from a reputed institute Experience with cloud computing infrastructure, such as AWS / ...',\n",
       " 'The overall experience of Minimum 2 to 6 years of hands-on experience in running Advanc...',\n",
       " 'BE / BTech from a reputed institution Should be a fast learner and quickly adapt to new...']"
      ]
     },
     "execution_count": 153,
     "metadata": {},
     "output_type": "execute_result"
    }
   ],
   "source": [
    "job_description=[]\n",
    "for i in full_job_description:\n",
    "    job_description.append(i.text)\n",
    "    \n",
    "job_description"
   ]
  },
  {
   "cell_type": "code",
   "execution_count": 154,
   "metadata": {
    "scrolled": true
   },
   "outputs": [
    {
     "data": {
      "text/html": [
       "<div>\n",
       "<style scoped>\n",
       "    .dataframe tbody tr th:only-of-type {\n",
       "        vertical-align: middle;\n",
       "    }\n",
       "\n",
       "    .dataframe tbody tr th {\n",
       "        vertical-align: top;\n",
       "    }\n",
       "\n",
       "    .dataframe thead th {\n",
       "        text-align: right;\n",
       "    }\n",
       "</style>\n",
       "<table border=\"1\" class=\"dataframe\">\n",
       "  <thead>\n",
       "    <tr style=\"text-align: right;\">\n",
       "      <th></th>\n",
       "      <th>Title</th>\n",
       "      <th>Company</th>\n",
       "      <th>Location</th>\n",
       "      <th>Job Description</th>\n",
       "    </tr>\n",
       "  </thead>\n",
       "  <tbody>\n",
       "    <tr>\n",
       "      <th>0</th>\n",
       "      <td>Hiring For Data Scientist</td>\n",
       "      <td>Tata Consultancy Services Ltd.</td>\n",
       "      <td>Chennai, Bangalore/Bengaluru, Mumbai (All Area...</td>\n",
       "      <td>Minimum 3 year of experience in being Applied ...</td>\n",
       "    </tr>\n",
       "    <tr>\n",
       "      <th>1</th>\n",
       "      <td>Lead Data Scientist BFSI</td>\n",
       "      <td>IBM India Pvt. Limited</td>\n",
       "      <td>Bengaluru/Bangalore</td>\n",
       "      <td>IntroductionSoftware Developers at IBM are the...</td>\n",
       "    </tr>\n",
       "    <tr>\n",
       "      <th>2</th>\n",
       "      <td>Associate Data Scientist</td>\n",
       "      <td>Philips India Limited</td>\n",
       "      <td>Bangalore/Bengaluru</td>\n",
       "      <td>Use predictive modeling to increase and optimi...</td>\n",
       "    </tr>\n",
       "    <tr>\n",
       "      <th>3</th>\n",
       "      <td>Data Scientist</td>\n",
       "      <td>Allegis Services India Pvt. Ltd.</td>\n",
       "      <td>Bangalore/Bengaluru</td>\n",
       "      <td>Proficient in writing optimized query using an...</td>\n",
       "    </tr>\n",
       "    <tr>\n",
       "      <th>4</th>\n",
       "      <td>Data Scientist</td>\n",
       "      <td>Allegis Services India Pvt. Ltd.</td>\n",
       "      <td>Bangalore/Bengaluru</td>\n",
       "      <td>Proficient in writing optimized query using an...</td>\n",
       "    </tr>\n",
       "    <tr>\n",
       "      <th>5</th>\n",
       "      <td>Data Scientist: Advanced Analytics</td>\n",
       "      <td>IBM India Pvt. Limited</td>\n",
       "      <td>Bengaluru/Bangalore</td>\n",
       "      <td>PhD / Masters in STEM-related fields with know...</td>\n",
       "    </tr>\n",
       "    <tr>\n",
       "      <th>6</th>\n",
       "      <td>Senior Data Scientist</td>\n",
       "      <td>Walmart Labs</td>\n",
       "      <td>Bangalore/Bengaluru</td>\n",
       "      <td>As a Senior Data Scientist for Walmart, you ll...</td>\n",
       "    </tr>\n",
       "    <tr>\n",
       "      <th>7</th>\n",
       "      <td>Senior Data Scientist</td>\n",
       "      <td>Airbnb</td>\n",
       "      <td>Bangalore/Bengaluru</td>\n",
       "      <td>Professional industry experience in a quantita...</td>\n",
       "    </tr>\n",
       "    <tr>\n",
       "      <th>8</th>\n",
       "      <td>Sr Data Scientist</td>\n",
       "      <td>IBM India Pvt. Limited</td>\n",
       "      <td>Bengaluru/Bangalore</td>\n",
       "      <td>Demonstrated extensive experience in building ...</td>\n",
       "    </tr>\n",
       "    <tr>\n",
       "      <th>9</th>\n",
       "      <td>Sr Data Scientist</td>\n",
       "      <td>IBM India Pvt. Limited</td>\n",
       "      <td>Bangalore/Bengaluru</td>\n",
       "      <td>Demonstrated extensive experience in building ...</td>\n",
       "    </tr>\n",
       "  </tbody>\n",
       "</table>\n",
       "</div>"
      ],
      "text/plain": [
       "                                Title                           Company  \\\n",
       "0           Hiring For Data Scientist    Tata Consultancy Services Ltd.   \n",
       "1            Lead Data Scientist BFSI            IBM India Pvt. Limited   \n",
       "2            Associate Data Scientist             Philips India Limited   \n",
       "3                      Data Scientist  Allegis Services India Pvt. Ltd.   \n",
       "4                      Data Scientist  Allegis Services India Pvt. Ltd.   \n",
       "5  Data Scientist: Advanced Analytics            IBM India Pvt. Limited   \n",
       "6               Senior Data Scientist                      Walmart Labs   \n",
       "7               Senior Data Scientist                            Airbnb   \n",
       "8                   Sr Data Scientist            IBM India Pvt. Limited   \n",
       "9                   Sr Data Scientist            IBM India Pvt. Limited   \n",
       "\n",
       "                                            Location  \\\n",
       "0  Chennai, Bangalore/Bengaluru, Mumbai (All Area...   \n",
       "1                                Bengaluru/Bangalore   \n",
       "2                                Bangalore/Bengaluru   \n",
       "3                                Bangalore/Bengaluru   \n",
       "4                                Bangalore/Bengaluru   \n",
       "5                                Bengaluru/Bangalore   \n",
       "6                                Bangalore/Bengaluru   \n",
       "7                                Bangalore/Bengaluru   \n",
       "8                                Bengaluru/Bangalore   \n",
       "9                                Bangalore/Bengaluru   \n",
       "\n",
       "                                     Job Description  \n",
       "0  Minimum 3 year of experience in being Applied ...  \n",
       "1  IntroductionSoftware Developers at IBM are the...  \n",
       "2  Use predictive modeling to increase and optimi...  \n",
       "3  Proficient in writing optimized query using an...  \n",
       "4  Proficient in writing optimized query using an...  \n",
       "5  PhD / Masters in STEM-related fields with know...  \n",
       "6  As a Senior Data Scientist for Walmart, you ll...  \n",
       "7  Professional industry experience in a quantita...  \n",
       "8  Demonstrated extensive experience in building ...  \n",
       "9  Demonstrated extensive experience in building ...  "
      ]
     },
     "execution_count": 154,
     "metadata": {},
     "output_type": "execute_result"
    }
   ],
   "source": [
    "jobs=pd.DataFrame({})\n",
    "jobs['Title']=job_titles\n",
    "jobs['Company']=company_names\n",
    "jobs['Location']=company_locations\n",
    "jobs['Job Description']=job_description\n",
    "jobs[0:10]"
   ]
  },
  {
   "cell_type": "markdown",
   "metadata": {},
   "source": [
    "Q3: v1. first get the webpage https://www.naukri.com/\n",
    "2. Enter “Data Scientist” in “Skill,Designations,Companies” field \n",
    "3. Then click the search button.\n",
    "4. Then apply the location filter and salary filter by checking the respective boxes\n",
    "4. Then scrape the data for the first 10 jobs results you get.\n",
    "5. Finally create a dataframe of the scraped data."
   ]
  },
  {
   "cell_type": "code",
   "execution_count": 156,
   "metadata": {},
   "outputs": [],
   "source": [
    "#3\n",
    "import selenium\n",
    "import pandas as pd\n",
    "from selenium import webdriver"
   ]
  },
  {
   "cell_type": "code",
   "execution_count": 157,
   "metadata": {},
   "outputs": [],
   "source": [
    "driver=webdriver.Chrome(\"chromedriver.exe\")"
   ]
  },
  {
   "cell_type": "code",
   "execution_count": 158,
   "metadata": {},
   "outputs": [],
   "source": [
    "url='https://www.naukri.com/'\n",
    "driver.get(url)"
   ]
  },
  {
   "cell_type": "code",
   "execution_count": 159,
   "metadata": {},
   "outputs": [
    {
     "data": {
      "text/plain": [
       "<selenium.webdriver.remote.webelement.WebElement (session=\"3c9048cac8678772710edcfaa5f4c707\", element=\"c1789a5f-badf-4c81-8394-cf45ce834dc3\")>"
      ]
     },
     "execution_count": 159,
     "metadata": {},
     "output_type": "execute_result"
    }
   ],
   "source": [
    "search_job=driver.find_element_by_xpath('//input[@class=\"sugInp\"]')\n",
    "search_job"
   ]
  },
  {
   "cell_type": "code",
   "execution_count": 160,
   "metadata": {},
   "outputs": [],
   "source": [
    "#write on the search bar\n",
    "search_job.send_keys(\"Data Scientist\")"
   ]
  },
  {
   "cell_type": "code",
   "execution_count": 161,
   "metadata": {},
   "outputs": [],
   "source": [
    "##do click using xpath function\n",
    "search_btn=driver.find_element_by_xpath(\"//button[@class='btn']\")\n",
    "search_btn.click()"
   ]
  },
  {
   "cell_type": "code",
   "execution_count": 162,
   "metadata": {},
   "outputs": [],
   "source": [
    "##location filter for delhi/NCR\n",
    "location_filter=driver.find_element_by_xpath(\"//span[@class='ellipsis fleft' and text()='Delhi / NCR']\")  \n",
    "location_filter.click()"
   ]
  },
  {
   "cell_type": "code",
   "execution_count": 163,
   "metadata": {},
   "outputs": [],
   "source": [
    "##salary filter for 3-6 lakh\n",
    "salary_filter=driver.find_element_by_xpath(\"//span[@class='ellipsis fleft' and text()='3-6 Lakhs']\")  \n",
    "salary_filter.click()"
   ]
  },
  {
   "cell_type": "markdown",
   "metadata": {},
   "source": [
    "Now scraping will be started"
   ]
  },
  {
   "cell_type": "code",
   "execution_count": 164,
   "metadata": {},
   "outputs": [
    {
     "data": {
      "text/plain": [
       "[<selenium.webdriver.remote.webelement.WebElement (session=\"3c9048cac8678772710edcfaa5f4c707\", element=\"3b652510-aa75-49cf-992f-43425c7b967d\")>,\n",
       " <selenium.webdriver.remote.webelement.WebElement (session=\"3c9048cac8678772710edcfaa5f4c707\", element=\"a6554209-5906-4b62-9be3-bc824f47680e\")>,\n",
       " <selenium.webdriver.remote.webelement.WebElement (session=\"3c9048cac8678772710edcfaa5f4c707\", element=\"f62dbc6d-07c1-4ffd-bdf7-4493afa252c8\")>,\n",
       " <selenium.webdriver.remote.webelement.WebElement (session=\"3c9048cac8678772710edcfaa5f4c707\", element=\"819e05d2-3a81-4607-bb26-f4dd50466280\")>,\n",
       " <selenium.webdriver.remote.webelement.WebElement (session=\"3c9048cac8678772710edcfaa5f4c707\", element=\"a5724880-a2f4-444b-a558-421dc81992c4\")>,\n",
       " <selenium.webdriver.remote.webelement.WebElement (session=\"3c9048cac8678772710edcfaa5f4c707\", element=\"b571a1c9-b925-43b0-a16a-7744783d6747\")>,\n",
       " <selenium.webdriver.remote.webelement.WebElement (session=\"3c9048cac8678772710edcfaa5f4c707\", element=\"0867eda6-ec15-40b2-9195-4ea4e1635ab1\")>,\n",
       " <selenium.webdriver.remote.webelement.WebElement (session=\"3c9048cac8678772710edcfaa5f4c707\", element=\"f7f95332-f445-4e64-94f1-011003fc6fa6\")>,\n",
       " <selenium.webdriver.remote.webelement.WebElement (session=\"3c9048cac8678772710edcfaa5f4c707\", element=\"069dcaab-1c6c-4b0e-89f1-5ecf6bd00c4b\")>,\n",
       " <selenium.webdriver.remote.webelement.WebElement (session=\"3c9048cac8678772710edcfaa5f4c707\", element=\"faaa4537-053f-4c4a-b838-8f17d92ed6fb\")>,\n",
       " <selenium.webdriver.remote.webelement.WebElement (session=\"3c9048cac8678772710edcfaa5f4c707\", element=\"f8bd5211-4229-4906-b770-5bdabbf5b1d7\")>,\n",
       " <selenium.webdriver.remote.webelement.WebElement (session=\"3c9048cac8678772710edcfaa5f4c707\", element=\"0bccd47c-71a2-473e-988c-c241ad758f6b\")>,\n",
       " <selenium.webdriver.remote.webelement.WebElement (session=\"3c9048cac8678772710edcfaa5f4c707\", element=\"0cbe6ab1-8393-4e28-a588-58ad93156554\")>,\n",
       " <selenium.webdriver.remote.webelement.WebElement (session=\"3c9048cac8678772710edcfaa5f4c707\", element=\"dfd51c6f-5225-4a84-84df-3659aadd7d6f\")>,\n",
       " <selenium.webdriver.remote.webelement.WebElement (session=\"3c9048cac8678772710edcfaa5f4c707\", element=\"d9732ea5-e7a9-487b-b00d-486b3ba3c78e\")>,\n",
       " <selenium.webdriver.remote.webelement.WebElement (session=\"3c9048cac8678772710edcfaa5f4c707\", element=\"fa15a909-28a5-4241-9bd1-75dd0ac4157e\")>,\n",
       " <selenium.webdriver.remote.webelement.WebElement (session=\"3c9048cac8678772710edcfaa5f4c707\", element=\"54f6ac1a-3ea1-44c1-afef-834112d90827\")>,\n",
       " <selenium.webdriver.remote.webelement.WebElement (session=\"3c9048cac8678772710edcfaa5f4c707\", element=\"2c61eef3-9feb-431b-9b9a-ba58c1f71be9\")>,\n",
       " <selenium.webdriver.remote.webelement.WebElement (session=\"3c9048cac8678772710edcfaa5f4c707\", element=\"21b417cd-b66a-4cae-b00a-fca91dd501ba\")>,\n",
       " <selenium.webdriver.remote.webelement.WebElement (session=\"3c9048cac8678772710edcfaa5f4c707\", element=\"b077826e-4723-45a9-9136-1cf13877e1da\")>]"
      ]
     },
     "execution_count": 164,
     "metadata": {},
     "output_type": "execute_result"
    }
   ],
   "source": [
    "titles_tags=driver.find_elements_by_xpath(\"//a[@class='title fw500 ellipsis']\")\n",
    "titles_tags"
   ]
  },
  {
   "cell_type": "code",
   "execution_count": 165,
   "metadata": {},
   "outputs": [
    {
     "data": {
      "text/plain": [
       "['Data Scientist / Data Analyst / Business Analytics - MNC Jobs Freshers',\n",
       " 'Data Scientist/ Machine Learning Engineer',\n",
       " 'Data Scientist / Data Analyst',\n",
       " 'Only Fresher / Data Scientist / Data Analyst / Analytics - MNC Jobs',\n",
       " 'Data Scientist / Data Analyst / Business Analytics - MNC Jobs Freshers',\n",
       " 'Data Scientist',\n",
       " 'Data Scientist',\n",
       " 'Data Scientist - Insurance',\n",
       " 'Data Scientist - WFH - MIND Infotech',\n",
       " 'Junior Data Scientists & Engineers',\n",
       " 'Immediate Openings For Data Scientist For Wipro C2H',\n",
       " 'Data Scientist',\n",
       " 'Data Scientist - Machine Learning/ NLP',\n",
       " 'Data Scientist-immediate Joiners',\n",
       " 'Data Analyst/Data Scientist',\n",
       " 'Data Scientist',\n",
       " 'Data Scientist Internship',\n",
       " 'Data Scientist',\n",
       " 'Senior Data Scientist',\n",
       " 'Senior Data Scientist']"
      ]
     },
     "execution_count": 165,
     "metadata": {},
     "output_type": "execute_result"
    }
   ],
   "source": [
    "## extract the text from these tags one by one by looping over these tags\n",
    "job_titles=[]\n",
    "for i in titles_tags:\n",
    "    job_titles.append(i.text)\n",
    "\n",
    "job_titles"
   ]
  },
  {
   "cell_type": "code",
   "execution_count": 166,
   "metadata": {},
   "outputs": [
    {
     "data": {
      "text/plain": [
       "[<selenium.webdriver.remote.webelement.WebElement (session=\"3c9048cac8678772710edcfaa5f4c707\", element=\"7e486b7d-0778-4489-b839-e0748bd9e994\")>,\n",
       " <selenium.webdriver.remote.webelement.WebElement (session=\"3c9048cac8678772710edcfaa5f4c707\", element=\"d8f4b029-a3dc-4bd8-b0b6-82f24d31cbc2\")>,\n",
       " <selenium.webdriver.remote.webelement.WebElement (session=\"3c9048cac8678772710edcfaa5f4c707\", element=\"a5ed5f56-da25-45d4-971a-0fbbabe87050\")>,\n",
       " <selenium.webdriver.remote.webelement.WebElement (session=\"3c9048cac8678772710edcfaa5f4c707\", element=\"a7c8affe-4db0-4fc8-bbda-2b976a1a1771\")>,\n",
       " <selenium.webdriver.remote.webelement.WebElement (session=\"3c9048cac8678772710edcfaa5f4c707\", element=\"e57b5182-37cc-459f-9828-3b1d20a9c74f\")>,\n",
       " <selenium.webdriver.remote.webelement.WebElement (session=\"3c9048cac8678772710edcfaa5f4c707\", element=\"0258c324-445d-47ec-a712-a4769c702f1f\")>,\n",
       " <selenium.webdriver.remote.webelement.WebElement (session=\"3c9048cac8678772710edcfaa5f4c707\", element=\"bb94106d-5291-4b49-8cda-f11edc78bee2\")>,\n",
       " <selenium.webdriver.remote.webelement.WebElement (session=\"3c9048cac8678772710edcfaa5f4c707\", element=\"344757fb-5809-4ab6-8835-ab4bd515b6b5\")>,\n",
       " <selenium.webdriver.remote.webelement.WebElement (session=\"3c9048cac8678772710edcfaa5f4c707\", element=\"dc231597-3bc1-481a-ae59-048483f2b0ac\")>,\n",
       " <selenium.webdriver.remote.webelement.WebElement (session=\"3c9048cac8678772710edcfaa5f4c707\", element=\"30c15851-9ad6-444a-8134-d2d07fe2a03e\")>,\n",
       " <selenium.webdriver.remote.webelement.WebElement (session=\"3c9048cac8678772710edcfaa5f4c707\", element=\"cacd0f2f-ef77-4dc4-aa9d-84ec51f2afa4\")>,\n",
       " <selenium.webdriver.remote.webelement.WebElement (session=\"3c9048cac8678772710edcfaa5f4c707\", element=\"86067942-037c-4209-8ae7-ec5807efaf05\")>,\n",
       " <selenium.webdriver.remote.webelement.WebElement (session=\"3c9048cac8678772710edcfaa5f4c707\", element=\"d39d7efd-726e-4221-853a-a51e5ddc86d0\")>,\n",
       " <selenium.webdriver.remote.webelement.WebElement (session=\"3c9048cac8678772710edcfaa5f4c707\", element=\"9301ccf7-18a2-4902-9981-c46963901f12\")>,\n",
       " <selenium.webdriver.remote.webelement.WebElement (session=\"3c9048cac8678772710edcfaa5f4c707\", element=\"6d798762-45e1-45c8-949f-8ff1014d3304\")>,\n",
       " <selenium.webdriver.remote.webelement.WebElement (session=\"3c9048cac8678772710edcfaa5f4c707\", element=\"1b352a84-7d69-42c4-9bf1-87182e725021\")>,\n",
       " <selenium.webdriver.remote.webelement.WebElement (session=\"3c9048cac8678772710edcfaa5f4c707\", element=\"96db1b16-480b-4ef1-b118-e1db13245c83\")>,\n",
       " <selenium.webdriver.remote.webelement.WebElement (session=\"3c9048cac8678772710edcfaa5f4c707\", element=\"0104026d-fa9b-4bf1-85af-c9ff8e4a97a3\")>,\n",
       " <selenium.webdriver.remote.webelement.WebElement (session=\"3c9048cac8678772710edcfaa5f4c707\", element=\"8bd6a97c-0506-407b-b931-2ed58f8e99f7\")>,\n",
       " <selenium.webdriver.remote.webelement.WebElement (session=\"3c9048cac8678772710edcfaa5f4c707\", element=\"495cef99-5f2b-4ccd-a1cb-dbbd4500da4e\")>]"
      ]
     },
     "execution_count": 166,
     "metadata": {},
     "output_type": "execute_result"
    }
   ],
   "source": [
    "## extract all the tags having the company names\n",
    "companies_tags=driver.find_elements_by_xpath(\"//a[@class='subTitle ellipsis fleft']\")\n",
    "companies_tags"
   ]
  },
  {
   "cell_type": "code",
   "execution_count": 167,
   "metadata": {},
   "outputs": [
    {
     "data": {
      "text/plain": [
       "['GABA Consultancy services',\n",
       " 'Creative Hands HR Consultancy',\n",
       " 'CARS24',\n",
       " 'GABA Consultancy services',\n",
       " 'GABA Consultancy services',\n",
       " 'R Systems International Ltd.',\n",
       " 'PROCESS NINE TECHNOLOGIES PVT.LTD.',\n",
       " 'Huquo Consulting Pvt. Ltd',\n",
       " 'MOTHERSONSUMI INFOTECH & DESIGNS LIMITED',\n",
       " 'PY Consultancy',\n",
       " 'IDESLABS PRIVATE LIMITED',\n",
       " 'Kusum Healthcare Pvt. Ltd.',\n",
       " 'TalPro',\n",
       " 'Quikruit Consulting LLP',\n",
       " 'Skillenable Fintech Private Limited',\n",
       " 'Country Veggie',\n",
       " 'iHackers Inc',\n",
       " 'Fractal Analytics',\n",
       " 'inVentiv International Pharma Services Pvt. Ltd.',\n",
       " 'iNICU']"
      ]
     },
     "execution_count": 167,
     "metadata": {},
     "output_type": "execute_result"
    }
   ],
   "source": [
    "company_names=[]\n",
    "for i in companies_tags:\n",
    "    company_names.append(i.text)\n",
    "company_names"
   ]
  },
  {
   "cell_type": "code",
   "execution_count": 168,
   "metadata": {},
   "outputs": [
    {
     "data": {
      "text/plain": [
       "[<selenium.webdriver.remote.webelement.WebElement (session=\"3c9048cac8678772710edcfaa5f4c707\", element=\"c37c6e79-bb94-44e8-813b-636fb02c5959\")>,\n",
       " <selenium.webdriver.remote.webelement.WebElement (session=\"3c9048cac8678772710edcfaa5f4c707\", element=\"09ce7c4d-fed4-44ce-bed7-196339a6ebb4\")>,\n",
       " <selenium.webdriver.remote.webelement.WebElement (session=\"3c9048cac8678772710edcfaa5f4c707\", element=\"08afdeed-aac7-402e-bd16-6e0d62094e9f\")>,\n",
       " <selenium.webdriver.remote.webelement.WebElement (session=\"3c9048cac8678772710edcfaa5f4c707\", element=\"550a5902-dab3-4e97-8d9c-ef85eb4c23b1\")>,\n",
       " <selenium.webdriver.remote.webelement.WebElement (session=\"3c9048cac8678772710edcfaa5f4c707\", element=\"b5f71e55-0434-4191-85af-03bf3cf7659e\")>,\n",
       " <selenium.webdriver.remote.webelement.WebElement (session=\"3c9048cac8678772710edcfaa5f4c707\", element=\"6eaf8ea7-69e3-4e53-9639-851ca2dadd95\")>,\n",
       " <selenium.webdriver.remote.webelement.WebElement (session=\"3c9048cac8678772710edcfaa5f4c707\", element=\"5ce384cd-4d63-46d2-9f6a-3b3685c8b33f\")>,\n",
       " <selenium.webdriver.remote.webelement.WebElement (session=\"3c9048cac8678772710edcfaa5f4c707\", element=\"f136edd3-55f9-4c72-b4a7-6274dbbf0ed9\")>,\n",
       " <selenium.webdriver.remote.webelement.WebElement (session=\"3c9048cac8678772710edcfaa5f4c707\", element=\"237bcec3-54e7-44a0-b923-4b0806c9322d\")>,\n",
       " <selenium.webdriver.remote.webelement.WebElement (session=\"3c9048cac8678772710edcfaa5f4c707\", element=\"bb8aa0a0-6d26-4308-aaa8-5ea8eb25b182\")>,\n",
       " <selenium.webdriver.remote.webelement.WebElement (session=\"3c9048cac8678772710edcfaa5f4c707\", element=\"42e3095c-6ea8-4bf0-b18c-94c872e56aa8\")>,\n",
       " <selenium.webdriver.remote.webelement.WebElement (session=\"3c9048cac8678772710edcfaa5f4c707\", element=\"b1b599b8-637d-4d96-9cf8-79d1ec1f0df1\")>,\n",
       " <selenium.webdriver.remote.webelement.WebElement (session=\"3c9048cac8678772710edcfaa5f4c707\", element=\"f4fa4a28-b24c-48f0-b9a9-6794ea06544d\")>,\n",
       " <selenium.webdriver.remote.webelement.WebElement (session=\"3c9048cac8678772710edcfaa5f4c707\", element=\"6cf25463-6259-4c17-a8d0-4ae5b63fd4bb\")>,\n",
       " <selenium.webdriver.remote.webelement.WebElement (session=\"3c9048cac8678772710edcfaa5f4c707\", element=\"a525b4cf-d7aa-47d4-9e71-51e9dedaf5fd\")>,\n",
       " <selenium.webdriver.remote.webelement.WebElement (session=\"3c9048cac8678772710edcfaa5f4c707\", element=\"1820f896-06e3-4df5-9cd2-72a4d2d66cb9\")>,\n",
       " <selenium.webdriver.remote.webelement.WebElement (session=\"3c9048cac8678772710edcfaa5f4c707\", element=\"fc47c55e-b809-45bb-bb12-468b8a43be92\")>,\n",
       " <selenium.webdriver.remote.webelement.WebElement (session=\"3c9048cac8678772710edcfaa5f4c707\", element=\"6374f974-7010-4a65-a9c7-c52dd11d5d73\")>,\n",
       " <selenium.webdriver.remote.webelement.WebElement (session=\"3c9048cac8678772710edcfaa5f4c707\", element=\"3c1644e8-0bf5-4744-aeac-e91006080e01\")>,\n",
       " <selenium.webdriver.remote.webelement.WebElement (session=\"3c9048cac8678772710edcfaa5f4c707\", element=\"0e5f238f-a83c-4b98-b760-ecb005c31674\")>]"
      ]
     },
     "execution_count": 168,
     "metadata": {},
     "output_type": "execute_result"
    }
   ],
   "source": [
    "locations_tags=driver.find_elements_by_xpath(\"//li[@class='fleft grey-text br2 placeHolderLi location']\")\n",
    "locations_tags"
   ]
  },
  {
   "cell_type": "code",
   "execution_count": 169,
   "metadata": {},
   "outputs": [
    {
     "data": {
      "text/plain": [
       "['Ghaziabad, Faridabad, Delhi / NCR',\n",
       " 'Hyderabad/Secunderabad, Pune, Ahmedabad, Gurgaon/Gurugram, Chennai, Bangalore/Bengaluru',\n",
       " 'Gurgaon/Gurugram',\n",
       " 'Noida, Gurgaon/Gurugram, Delhi / NCR',\n",
       " 'Noida, New Delhi, Gurgaon/Gurugram',\n",
       " 'Noida\\n(WFH during Covid)',\n",
       " 'Gurgaon/Gurugram\\n(WFH during Covid)',\n",
       " 'Noida, Gurgaon/Gurugram',\n",
       " 'Pune, Chennai, Bangalore/Bengaluru, Delhi / NCR, Mumbai (All Areas)',\n",
       " 'New Delhi, Delhi / NCR',\n",
       " 'Gurgaon/Gurugram',\n",
       " 'Delhi / NCR(Okhla)',\n",
       " 'Gurgaon/Gurugram',\n",
       " 'Noida',\n",
       " 'Bangalore/Bengaluru, Delhi / NCR, Mumbai (All Areas)',\n",
       " 'Bharuch, Jaipur, Bhopal, Mumbai, Jhansi, Nagpur, Ghaziabad, Jaunpur, Kanpur, Delhi, Lucknow, Agra, Gurgaon, Rajkot, Bengaluru',\n",
       " 'New Delhi',\n",
       " 'Mumbai, Gurgaon/Gurugram, Bangalore/Bengaluru',\n",
       " 'Hyderabad/Secunderabad, Gurgaon/Gurugram, Bangalore/Bengaluru',\n",
       " 'Delhi']"
      ]
     },
     "execution_count": 169,
     "metadata": {},
     "output_type": "execute_result"
    }
   ],
   "source": [
    "company_locations=[]\n",
    "for i in locations_tags:\n",
    "    company_locations.append(i.text)\n",
    "company_locations"
   ]
  },
  {
   "cell_type": "code",
   "execution_count": 170,
   "metadata": {},
   "outputs": [
    {
     "data": {
      "text/plain": [
       "[<selenium.webdriver.remote.webelement.WebElement (session=\"3c9048cac8678772710edcfaa5f4c707\", element=\"27d4736e-ae23-4fc3-bfe2-0d49f55628a1\")>,\n",
       " <selenium.webdriver.remote.webelement.WebElement (session=\"3c9048cac8678772710edcfaa5f4c707\", element=\"5da2aa16-5d2f-4f36-a410-d4513eab37dd\")>,\n",
       " <selenium.webdriver.remote.webelement.WebElement (session=\"3c9048cac8678772710edcfaa5f4c707\", element=\"11260992-0565-4f5a-bc6a-6c2a024788f8\")>,\n",
       " <selenium.webdriver.remote.webelement.WebElement (session=\"3c9048cac8678772710edcfaa5f4c707\", element=\"d7a016fd-d439-4d09-98b7-428d3ebe1994\")>,\n",
       " <selenium.webdriver.remote.webelement.WebElement (session=\"3c9048cac8678772710edcfaa5f4c707\", element=\"b756630e-529b-4208-b342-24d1ba3c2caa\")>,\n",
       " <selenium.webdriver.remote.webelement.WebElement (session=\"3c9048cac8678772710edcfaa5f4c707\", element=\"e679c59f-098b-4b20-8593-dcd4c723c60b\")>,\n",
       " <selenium.webdriver.remote.webelement.WebElement (session=\"3c9048cac8678772710edcfaa5f4c707\", element=\"4ee37b32-5f10-44fd-9187-497e8655fa45\")>,\n",
       " <selenium.webdriver.remote.webelement.WebElement (session=\"3c9048cac8678772710edcfaa5f4c707\", element=\"e1e24e6b-40f3-483c-a903-afcc621f98ab\")>,\n",
       " <selenium.webdriver.remote.webelement.WebElement (session=\"3c9048cac8678772710edcfaa5f4c707\", element=\"38b6dd75-242f-4963-b3fd-613a7adb987c\")>,\n",
       " <selenium.webdriver.remote.webelement.WebElement (session=\"3c9048cac8678772710edcfaa5f4c707\", element=\"30cba733-2211-49f0-bb62-03e70a70d18d\")>,\n",
       " <selenium.webdriver.remote.webelement.WebElement (session=\"3c9048cac8678772710edcfaa5f4c707\", element=\"4a326704-db72-4a81-97e5-72e0b1c706d4\")>,\n",
       " <selenium.webdriver.remote.webelement.WebElement (session=\"3c9048cac8678772710edcfaa5f4c707\", element=\"a5fc3d90-75c1-42e2-bf5f-625120759cfa\")>,\n",
       " <selenium.webdriver.remote.webelement.WebElement (session=\"3c9048cac8678772710edcfaa5f4c707\", element=\"c4283355-7600-4f67-8a81-aa0cb90aca4d\")>,\n",
       " <selenium.webdriver.remote.webelement.WebElement (session=\"3c9048cac8678772710edcfaa5f4c707\", element=\"b21a9c93-bca7-48fb-a9a6-e39b8ca2c103\")>,\n",
       " <selenium.webdriver.remote.webelement.WebElement (session=\"3c9048cac8678772710edcfaa5f4c707\", element=\"a7b25152-d390-4018-90a8-120b2c991c97\")>,\n",
       " <selenium.webdriver.remote.webelement.WebElement (session=\"3c9048cac8678772710edcfaa5f4c707\", element=\"0610303a-c29a-4dc2-9f76-a61e622f55e8\")>,\n",
       " <selenium.webdriver.remote.webelement.WebElement (session=\"3c9048cac8678772710edcfaa5f4c707\", element=\"8e0728b4-7c21-4748-9181-19a1d16d5355\")>,\n",
       " <selenium.webdriver.remote.webelement.WebElement (session=\"3c9048cac8678772710edcfaa5f4c707\", element=\"b3cc5860-2b8e-4ec3-8480-b0b14881cb16\")>,\n",
       " <selenium.webdriver.remote.webelement.WebElement (session=\"3c9048cac8678772710edcfaa5f4c707\", element=\"7ee53cb8-2f8f-4284-b76c-5d3633092b9d\")>,\n",
       " <selenium.webdriver.remote.webelement.WebElement (session=\"3c9048cac8678772710edcfaa5f4c707\", element=\"56716009-8eed-4039-b769-3f469b391a41\")>]"
      ]
     },
     "execution_count": 170,
     "metadata": {},
     "output_type": "execute_result"
    }
   ],
   "source": [
    "experience_required=driver.find_elements_by_xpath(\"//li[@class='fleft grey-text br2 placeHolderLi experience']\")\n",
    "experience_required"
   ]
  },
  {
   "cell_type": "code",
   "execution_count": 171,
   "metadata": {},
   "outputs": [
    {
     "data": {
      "text/plain": [
       "['0-0 Yrs',\n",
       " '0-0 Yrs',\n",
       " '1-5 Yrs',\n",
       " '0-0 Yrs',\n",
       " '0-0 Yrs',\n",
       " '3-6 Yrs',\n",
       " '1-3 Yrs',\n",
       " '2-7 Yrs',\n",
       " '3-7 Yrs',\n",
       " '0-3 Yrs',\n",
       " '5-10 Yrs',\n",
       " '4-6 Yrs',\n",
       " '2-6 Yrs',\n",
       " '2-5 Yrs',\n",
       " '2-5 Yrs',\n",
       " '1-3 Yrs',\n",
       " '0-1 Yrs',\n",
       " '3-7 Yrs',\n",
       " '3-6 Yrs',\n",
       " '1-5 Yrs']"
      ]
     },
     "execution_count": 171,
     "metadata": {},
     "output_type": "execute_result"
    }
   ],
   "source": [
    "experience_req=[]\n",
    "for i in experience_required:\n",
    "    experience_req.append(i.text)\n",
    "    \n",
    "experience_req"
   ]
  },
  {
   "cell_type": "code",
   "execution_count": 172,
   "metadata": {},
   "outputs": [
    {
     "data": {
      "text/html": [
       "<div>\n",
       "<style scoped>\n",
       "    .dataframe tbody tr th:only-of-type {\n",
       "        vertical-align: middle;\n",
       "    }\n",
       "\n",
       "    .dataframe tbody tr th {\n",
       "        vertical-align: top;\n",
       "    }\n",
       "\n",
       "    .dataframe thead th {\n",
       "        text-align: right;\n",
       "    }\n",
       "</style>\n",
       "<table border=\"1\" class=\"dataframe\">\n",
       "  <thead>\n",
       "    <tr style=\"text-align: right;\">\n",
       "      <th></th>\n",
       "      <th>Title</th>\n",
       "      <th>Company</th>\n",
       "      <th>Location</th>\n",
       "      <th>Experience</th>\n",
       "    </tr>\n",
       "  </thead>\n",
       "  <tbody>\n",
       "    <tr>\n",
       "      <th>0</th>\n",
       "      <td>Data Scientist / Data Analyst / Business Analy...</td>\n",
       "      <td>GABA Consultancy services</td>\n",
       "      <td>Ghaziabad, Faridabad, Delhi / NCR</td>\n",
       "      <td>0-0 Yrs</td>\n",
       "    </tr>\n",
       "    <tr>\n",
       "      <th>1</th>\n",
       "      <td>Data Scientist/ Machine Learning Engineer</td>\n",
       "      <td>Creative Hands HR Consultancy</td>\n",
       "      <td>Hyderabad/Secunderabad, Pune, Ahmedabad, Gurga...</td>\n",
       "      <td>0-0 Yrs</td>\n",
       "    </tr>\n",
       "    <tr>\n",
       "      <th>2</th>\n",
       "      <td>Data Scientist / Data Analyst</td>\n",
       "      <td>CARS24</td>\n",
       "      <td>Gurgaon/Gurugram</td>\n",
       "      <td>1-5 Yrs</td>\n",
       "    </tr>\n",
       "    <tr>\n",
       "      <th>3</th>\n",
       "      <td>Only Fresher / Data Scientist / Data Analyst /...</td>\n",
       "      <td>GABA Consultancy services</td>\n",
       "      <td>Noida, Gurgaon/Gurugram, Delhi / NCR</td>\n",
       "      <td>0-0 Yrs</td>\n",
       "    </tr>\n",
       "    <tr>\n",
       "      <th>4</th>\n",
       "      <td>Data Scientist / Data Analyst / Business Analy...</td>\n",
       "      <td>GABA Consultancy services</td>\n",
       "      <td>Noida, New Delhi, Gurgaon/Gurugram</td>\n",
       "      <td>0-0 Yrs</td>\n",
       "    </tr>\n",
       "    <tr>\n",
       "      <th>5</th>\n",
       "      <td>Data Scientist</td>\n",
       "      <td>R Systems International Ltd.</td>\n",
       "      <td>Noida\\n(WFH during Covid)</td>\n",
       "      <td>3-6 Yrs</td>\n",
       "    </tr>\n",
       "    <tr>\n",
       "      <th>6</th>\n",
       "      <td>Data Scientist</td>\n",
       "      <td>PROCESS NINE TECHNOLOGIES PVT.LTD.</td>\n",
       "      <td>Gurgaon/Gurugram\\n(WFH during Covid)</td>\n",
       "      <td>1-3 Yrs</td>\n",
       "    </tr>\n",
       "    <tr>\n",
       "      <th>7</th>\n",
       "      <td>Data Scientist - Insurance</td>\n",
       "      <td>Huquo Consulting Pvt. Ltd</td>\n",
       "      <td>Noida, Gurgaon/Gurugram</td>\n",
       "      <td>2-7 Yrs</td>\n",
       "    </tr>\n",
       "    <tr>\n",
       "      <th>8</th>\n",
       "      <td>Data Scientist - WFH - MIND Infotech</td>\n",
       "      <td>MOTHERSONSUMI INFOTECH &amp; DESIGNS LIMITED</td>\n",
       "      <td>Pune, Chennai, Bangalore/Bengaluru, Delhi / NC...</td>\n",
       "      <td>3-7 Yrs</td>\n",
       "    </tr>\n",
       "    <tr>\n",
       "      <th>9</th>\n",
       "      <td>Junior Data Scientists &amp; Engineers</td>\n",
       "      <td>PY Consultancy</td>\n",
       "      <td>New Delhi, Delhi / NCR</td>\n",
       "      <td>0-3 Yrs</td>\n",
       "    </tr>\n",
       "  </tbody>\n",
       "</table>\n",
       "</div>"
      ],
      "text/plain": [
       "                                               Title  \\\n",
       "0  Data Scientist / Data Analyst / Business Analy...   \n",
       "1          Data Scientist/ Machine Learning Engineer   \n",
       "2                      Data Scientist / Data Analyst   \n",
       "3  Only Fresher / Data Scientist / Data Analyst /...   \n",
       "4  Data Scientist / Data Analyst / Business Analy...   \n",
       "5                                     Data Scientist   \n",
       "6                                     Data Scientist   \n",
       "7                         Data Scientist - Insurance   \n",
       "8               Data Scientist - WFH - MIND Infotech   \n",
       "9                 Junior Data Scientists & Engineers   \n",
       "\n",
       "                                    Company  \\\n",
       "0                 GABA Consultancy services   \n",
       "1             Creative Hands HR Consultancy   \n",
       "2                                    CARS24   \n",
       "3                 GABA Consultancy services   \n",
       "4                 GABA Consultancy services   \n",
       "5              R Systems International Ltd.   \n",
       "6        PROCESS NINE TECHNOLOGIES PVT.LTD.   \n",
       "7                 Huquo Consulting Pvt. Ltd   \n",
       "8  MOTHERSONSUMI INFOTECH & DESIGNS LIMITED   \n",
       "9                            PY Consultancy   \n",
       "\n",
       "                                            Location Experience  \n",
       "0                  Ghaziabad, Faridabad, Delhi / NCR    0-0 Yrs  \n",
       "1  Hyderabad/Secunderabad, Pune, Ahmedabad, Gurga...    0-0 Yrs  \n",
       "2                                   Gurgaon/Gurugram    1-5 Yrs  \n",
       "3               Noida, Gurgaon/Gurugram, Delhi / NCR    0-0 Yrs  \n",
       "4                 Noida, New Delhi, Gurgaon/Gurugram    0-0 Yrs  \n",
       "5                          Noida\\n(WFH during Covid)    3-6 Yrs  \n",
       "6               Gurgaon/Gurugram\\n(WFH during Covid)    1-3 Yrs  \n",
       "7                            Noida, Gurgaon/Gurugram    2-7 Yrs  \n",
       "8  Pune, Chennai, Bangalore/Bengaluru, Delhi / NC...    3-7 Yrs  \n",
       "9                             New Delhi, Delhi / NCR    0-3 Yrs  "
      ]
     },
     "execution_count": 172,
     "metadata": {},
     "output_type": "execute_result"
    }
   ],
   "source": [
    "jobs=pd.DataFrame({})\n",
    "jobs['Title']=job_titles\n",
    "jobs['Company']=company_names\n",
    "jobs['Location']=company_locations\n",
    "jobs['Experience']=experience_req\n",
    "jobs[0:10]"
   ]
  },
  {
   "cell_type": "code",
   "execution_count": 317,
   "metadata": {},
   "outputs": [],
   "source": [
    "#4\n",
    "import selenium\n",
    "import pandas as pd\n",
    "from selenium import webdriver"
   ]
  },
  {
   "cell_type": "code",
   "execution_count": 318,
   "metadata": {},
   "outputs": [],
   "source": [
    "driver=webdriver.Chrome(\"chromedriver.exe\") "
   ]
  },
  {
   "cell_type": "code",
   "execution_count": 319,
   "metadata": {},
   "outputs": [],
   "source": [
    "url='https://www.glassdoor.co.in/home/index.htm'\n",
    "driver.get(url)"
   ]
  },
  {
   "cell_type": "markdown",
   "metadata": {},
   "source": [
    "#6\n",
    "Scrape data of first 100 sunglasses listings on flipkart.com. You have to \n",
    "scrape four attributes:\n",
    "1. Brand\n",
    "2. Product Description\n",
    "3. Price\n",
    "4. Discount %"
   ]
  },
  {
   "cell_type": "code",
   "execution_count": 174,
   "metadata": {},
   "outputs": [],
   "source": [
    "import selenium\n",
    "import pandas as pd\n",
    "from selenium import webdriver"
   ]
  },
  {
   "cell_type": "code",
   "execution_count": 175,
   "metadata": {},
   "outputs": [],
   "source": [
    "driver=webdriver.Chrome(\"chromedriver.exe\") "
   ]
  },
  {
   "cell_type": "code",
   "execution_count": 176,
   "metadata": {},
   "outputs": [],
   "source": [
    "url='https://www.flipkart.com/'\n",
    "driver.get(url)"
   ]
  },
  {
   "cell_type": "code",
   "execution_count": 184,
   "metadata": {},
   "outputs": [
    {
     "data": {
      "text/plain": [
       "<selenium.webdriver.remote.webelement.WebElement (session=\"8d4755fbe9e6e1fef5720b4c03c04ed0\", element=\"dd43cc56-9d98-4570-8c4d-1817f74893ea\")>"
      ]
     },
     "execution_count": 184,
     "metadata": {},
     "output_type": "execute_result"
    }
   ],
   "source": [
    "search_product=driver.find_element_by_xpath('//input[@title=\"Search for products, brands and more\"]')\n",
    "search_product"
   ]
  },
  {
   "cell_type": "code",
   "execution_count": 185,
   "metadata": {},
   "outputs": [],
   "source": [
    "##write on the search bar\n",
    "search_product.send_keys(\"sunglasses\")"
   ]
  },
  {
   "cell_type": "code",
   "execution_count": 186,
   "metadata": {},
   "outputs": [],
   "source": [
    "##search button click\n",
    "search_btn=driver.find_element_by_xpath(\"//button[@class='L0Z3Pu']\")\n",
    "search_btn.click()"
   ]
  },
  {
   "cell_type": "code",
   "execution_count": 187,
   "metadata": {},
   "outputs": [
    {
     "data": {
      "text/plain": [
       "[<selenium.webdriver.remote.webelement.WebElement (session=\"8d4755fbe9e6e1fef5720b4c03c04ed0\", element=\"7460e29c-f363-4801-a5c0-bb0666a225f4\")>,\n",
       " <selenium.webdriver.remote.webelement.WebElement (session=\"8d4755fbe9e6e1fef5720b4c03c04ed0\", element=\"9aa568ff-4cbd-48b9-9707-ddad2eef8042\")>,\n",
       " <selenium.webdriver.remote.webelement.WebElement (session=\"8d4755fbe9e6e1fef5720b4c03c04ed0\", element=\"f71d870f-ce1a-4a4f-bfdf-b37e3cf7b85c\")>,\n",
       " <selenium.webdriver.remote.webelement.WebElement (session=\"8d4755fbe9e6e1fef5720b4c03c04ed0\", element=\"b3307fb2-c52e-4f5d-8a67-b1afc8b40f4f\")>,\n",
       " <selenium.webdriver.remote.webelement.WebElement (session=\"8d4755fbe9e6e1fef5720b4c03c04ed0\", element=\"03fdbebc-b146-49bd-a46b-2533eb8ddbf7\")>,\n",
       " <selenium.webdriver.remote.webelement.WebElement (session=\"8d4755fbe9e6e1fef5720b4c03c04ed0\", element=\"a118b1ff-bc40-4286-b1cf-502d1ed81021\")>,\n",
       " <selenium.webdriver.remote.webelement.WebElement (session=\"8d4755fbe9e6e1fef5720b4c03c04ed0\", element=\"dafbb5f7-6067-4045-a6f3-5eb903a43c53\")>,\n",
       " <selenium.webdriver.remote.webelement.WebElement (session=\"8d4755fbe9e6e1fef5720b4c03c04ed0\", element=\"d9fa6beb-f16b-49c8-95b8-481b909bf6f1\")>,\n",
       " <selenium.webdriver.remote.webelement.WebElement (session=\"8d4755fbe9e6e1fef5720b4c03c04ed0\", element=\"830a191a-7bfc-4a27-b884-5619417c34cd\")>,\n",
       " <selenium.webdriver.remote.webelement.WebElement (session=\"8d4755fbe9e6e1fef5720b4c03c04ed0\", element=\"12373d55-40d5-4ac5-b1c9-0140fabc7b94\")>,\n",
       " <selenium.webdriver.remote.webelement.WebElement (session=\"8d4755fbe9e6e1fef5720b4c03c04ed0\", element=\"354e5313-1416-459c-98de-52e699ad76d6\")>,\n",
       " <selenium.webdriver.remote.webelement.WebElement (session=\"8d4755fbe9e6e1fef5720b4c03c04ed0\", element=\"ada0b092-005b-45ef-b0c3-881509f659e6\")>,\n",
       " <selenium.webdriver.remote.webelement.WebElement (session=\"8d4755fbe9e6e1fef5720b4c03c04ed0\", element=\"0b7915e0-619b-40e6-a8d5-aa56cdbac862\")>,\n",
       " <selenium.webdriver.remote.webelement.WebElement (session=\"8d4755fbe9e6e1fef5720b4c03c04ed0\", element=\"2f139b64-eb1c-4094-bc94-597e6454e576\")>,\n",
       " <selenium.webdriver.remote.webelement.WebElement (session=\"8d4755fbe9e6e1fef5720b4c03c04ed0\", element=\"57e7768a-c381-482f-8903-6111a3752a20\")>,\n",
       " <selenium.webdriver.remote.webelement.WebElement (session=\"8d4755fbe9e6e1fef5720b4c03c04ed0\", element=\"2e777ba9-542b-4e61-a399-64bb424bcbe3\")>,\n",
       " <selenium.webdriver.remote.webelement.WebElement (session=\"8d4755fbe9e6e1fef5720b4c03c04ed0\", element=\"197df2b5-1325-416c-a976-b03b22a14eb3\")>,\n",
       " <selenium.webdriver.remote.webelement.WebElement (session=\"8d4755fbe9e6e1fef5720b4c03c04ed0\", element=\"9366566d-c7c5-4ba6-b401-0368cac58662\")>,\n",
       " <selenium.webdriver.remote.webelement.WebElement (session=\"8d4755fbe9e6e1fef5720b4c03c04ed0\", element=\"e3d64658-deed-4095-b4ba-7887baf9d8cd\")>,\n",
       " <selenium.webdriver.remote.webelement.WebElement (session=\"8d4755fbe9e6e1fef5720b4c03c04ed0\", element=\"d11cc61a-5a8b-49ff-b43d-41f1990af48e\")>,\n",
       " <selenium.webdriver.remote.webelement.WebElement (session=\"8d4755fbe9e6e1fef5720b4c03c04ed0\", element=\"7e366044-422c-46c4-bfc8-d15a920fc26a\")>,\n",
       " <selenium.webdriver.remote.webelement.WebElement (session=\"8d4755fbe9e6e1fef5720b4c03c04ed0\", element=\"5cf8b114-671d-4341-a837-7c89d2cf9a41\")>,\n",
       " <selenium.webdriver.remote.webelement.WebElement (session=\"8d4755fbe9e6e1fef5720b4c03c04ed0\", element=\"326b8356-b4ca-4fdd-a90d-5871ff849771\")>,\n",
       " <selenium.webdriver.remote.webelement.WebElement (session=\"8d4755fbe9e6e1fef5720b4c03c04ed0\", element=\"5a8ff127-c718-423e-bc95-d8f0c769fcd6\")>,\n",
       " <selenium.webdriver.remote.webelement.WebElement (session=\"8d4755fbe9e6e1fef5720b4c03c04ed0\", element=\"dd7fa97d-24fb-4ea4-8528-3c32cc312efa\")>,\n",
       " <selenium.webdriver.remote.webelement.WebElement (session=\"8d4755fbe9e6e1fef5720b4c03c04ed0\", element=\"e4b02ae2-5424-4878-a3c1-2f15c4640b3f\")>,\n",
       " <selenium.webdriver.remote.webelement.WebElement (session=\"8d4755fbe9e6e1fef5720b4c03c04ed0\", element=\"ede036c9-0e9a-4f1e-94eb-f1ff855fb75e\")>,\n",
       " <selenium.webdriver.remote.webelement.WebElement (session=\"8d4755fbe9e6e1fef5720b4c03c04ed0\", element=\"53c838d6-0162-471a-9295-3b9e0933e303\")>,\n",
       " <selenium.webdriver.remote.webelement.WebElement (session=\"8d4755fbe9e6e1fef5720b4c03c04ed0\", element=\"68835131-ed41-468b-99ec-4a4fa7d71d68\")>,\n",
       " <selenium.webdriver.remote.webelement.WebElement (session=\"8d4755fbe9e6e1fef5720b4c03c04ed0\", element=\"f8e647fc-e582-4c44-9046-91a61383f497\")>,\n",
       " <selenium.webdriver.remote.webelement.WebElement (session=\"8d4755fbe9e6e1fef5720b4c03c04ed0\", element=\"324c4ce8-8ba4-4ec9-a18a-c6317a2ff45b\")>,\n",
       " <selenium.webdriver.remote.webelement.WebElement (session=\"8d4755fbe9e6e1fef5720b4c03c04ed0\", element=\"1ebee1f0-8719-4628-b832-676bd36c0569\")>,\n",
       " <selenium.webdriver.remote.webelement.WebElement (session=\"8d4755fbe9e6e1fef5720b4c03c04ed0\", element=\"aebf97a1-6600-4881-8ebe-bbe80970394d\")>,\n",
       " <selenium.webdriver.remote.webelement.WebElement (session=\"8d4755fbe9e6e1fef5720b4c03c04ed0\", element=\"684b85a6-d9b0-4382-a76a-355df88bfdbc\")>,\n",
       " <selenium.webdriver.remote.webelement.WebElement (session=\"8d4755fbe9e6e1fef5720b4c03c04ed0\", element=\"b0358514-a2b5-4367-bccc-d3342b449f76\")>,\n",
       " <selenium.webdriver.remote.webelement.WebElement (session=\"8d4755fbe9e6e1fef5720b4c03c04ed0\", element=\"e63ad3e2-2ae7-4e8b-aea6-f26d3ce31c93\")>,\n",
       " <selenium.webdriver.remote.webelement.WebElement (session=\"8d4755fbe9e6e1fef5720b4c03c04ed0\", element=\"2a018ff5-c006-4568-8cca-b11faf1a9152\")>,\n",
       " <selenium.webdriver.remote.webelement.WebElement (session=\"8d4755fbe9e6e1fef5720b4c03c04ed0\", element=\"b48b246d-ffa7-4c4e-a80a-4140eb58fd95\")>,\n",
       " <selenium.webdriver.remote.webelement.WebElement (session=\"8d4755fbe9e6e1fef5720b4c03c04ed0\", element=\"6435eada-3146-4e0b-9aba-0c76022b0536\")>,\n",
       " <selenium.webdriver.remote.webelement.WebElement (session=\"8d4755fbe9e6e1fef5720b4c03c04ed0\", element=\"259da01f-f4ca-49e3-b6d4-3c023ad16f35\")>]"
      ]
     },
     "execution_count": 187,
     "metadata": {},
     "output_type": "execute_result"
    }
   ],
   "source": [
    "##scrap the brand\n",
    "brand_name=driver.find_elements_by_xpath(\"//div[@class='_2WkVRV']\")\n",
    "brand_name"
   ]
  },
  {
   "cell_type": "code",
   "execution_count": 188,
   "metadata": {},
   "outputs": [
    {
     "data": {
      "text/plain": [
       "['ROYAL SON',\n",
       " 'ROYAL SON',\n",
       " 'SHAAH COLLECTIONS',\n",
       " 'Elligator',\n",
       " 'kingsunglasses',\n",
       " 'ROZZETTA CRAFT',\n",
       " 'PIRASO',\n",
       " 'GANSTA',\n",
       " 'kingsunglasses',\n",
       " 'Fastrack',\n",
       " 'ROYAL SON',\n",
       " 'ROYAL SON',\n",
       " 'ROZZETTA CRAFT',\n",
       " 'DEIXELS',\n",
       " 'SHAAH COLLECTIONS',\n",
       " 'ROYAL SON',\n",
       " 'PIRASO',\n",
       " 'SUNBEE',\n",
       " 'PIRASO',\n",
       " 'ROYAL SON',\n",
       " 'Fastrack',\n",
       " 'PHENOMENAL',\n",
       " 'OCCARIO',\n",
       " 'ROYAL SON',\n",
       " 'Fastrack',\n",
       " 'SHAAH COLLECTIONS',\n",
       " 'ROZZETTA CRAFT',\n",
       " 'ROYAL SON',\n",
       " 'New Specs',\n",
       " 'Silver Kartz',\n",
       " 'kingsunglasses',\n",
       " 'ROYAL SON',\n",
       " 'ROZZETTA CRAFT',\n",
       " 'PIRASO',\n",
       " 'hipe',\n",
       " 'ROYAL SON',\n",
       " 'Elligator',\n",
       " 'Rich Club',\n",
       " 'Fastrack',\n",
       " 'Villain']"
      ]
     },
     "execution_count": 188,
     "metadata": {},
     "output_type": "execute_result"
    }
   ],
   "source": [
    "brand_titles=[]\n",
    "for i in brand_name:\n",
    "    brand_titles.append(i.text)\n",
    "\n",
    "brand_titles"
   ]
  },
  {
   "cell_type": "code",
   "execution_count": 189,
   "metadata": {},
   "outputs": [
    {
     "data": {
      "text/plain": [
       "[<selenium.webdriver.remote.webelement.WebElement (session=\"8d4755fbe9e6e1fef5720b4c03c04ed0\", element=\"4025e92c-63b8-482b-b12a-a158f74e04ed\")>,\n",
       " <selenium.webdriver.remote.webelement.WebElement (session=\"8d4755fbe9e6e1fef5720b4c03c04ed0\", element=\"9d7a34d3-e91e-4111-a16b-704a92a3f9f8\")>,\n",
       " <selenium.webdriver.remote.webelement.WebElement (session=\"8d4755fbe9e6e1fef5720b4c03c04ed0\", element=\"6c42231c-d7d9-4db4-9b2c-958bc8d0000e\")>,\n",
       " <selenium.webdriver.remote.webelement.WebElement (session=\"8d4755fbe9e6e1fef5720b4c03c04ed0\", element=\"22e682e7-66c5-46f6-a498-6312ddc2713a\")>,\n",
       " <selenium.webdriver.remote.webelement.WebElement (session=\"8d4755fbe9e6e1fef5720b4c03c04ed0\", element=\"9c8e9077-b171-4585-9742-e6b0b34ffcf4\")>,\n",
       " <selenium.webdriver.remote.webelement.WebElement (session=\"8d4755fbe9e6e1fef5720b4c03c04ed0\", element=\"2265d2e2-fa68-4cd6-b198-d710f498f77f\")>,\n",
       " <selenium.webdriver.remote.webelement.WebElement (session=\"8d4755fbe9e6e1fef5720b4c03c04ed0\", element=\"9c2090b7-2f89-424e-a8cb-8a358a837a8e\")>,\n",
       " <selenium.webdriver.remote.webelement.WebElement (session=\"8d4755fbe9e6e1fef5720b4c03c04ed0\", element=\"799398a5-9823-465d-8383-87471987b7ce\")>,\n",
       " <selenium.webdriver.remote.webelement.WebElement (session=\"8d4755fbe9e6e1fef5720b4c03c04ed0\", element=\"37b2b628-8194-41cd-b6fa-741cdf8cfdab\")>,\n",
       " <selenium.webdriver.remote.webelement.WebElement (session=\"8d4755fbe9e6e1fef5720b4c03c04ed0\", element=\"986fb21a-df0d-4f61-9efb-1ede358e8e32\")>,\n",
       " <selenium.webdriver.remote.webelement.WebElement (session=\"8d4755fbe9e6e1fef5720b4c03c04ed0\", element=\"94e55bce-8368-4cca-aaea-99e7b5ca3f52\")>,\n",
       " <selenium.webdriver.remote.webelement.WebElement (session=\"8d4755fbe9e6e1fef5720b4c03c04ed0\", element=\"5519269b-6ee4-44fb-9769-1cd1f6b24bb8\")>,\n",
       " <selenium.webdriver.remote.webelement.WebElement (session=\"8d4755fbe9e6e1fef5720b4c03c04ed0\", element=\"45970c64-d614-4ca3-baa2-e2ec067c46a9\")>,\n",
       " <selenium.webdriver.remote.webelement.WebElement (session=\"8d4755fbe9e6e1fef5720b4c03c04ed0\", element=\"3b7e40bb-67f9-4a16-9a46-9f32021b3113\")>,\n",
       " <selenium.webdriver.remote.webelement.WebElement (session=\"8d4755fbe9e6e1fef5720b4c03c04ed0\", element=\"be91e4ed-3187-40df-866b-9d158c21108b\")>,\n",
       " <selenium.webdriver.remote.webelement.WebElement (session=\"8d4755fbe9e6e1fef5720b4c03c04ed0\", element=\"e398635a-3acc-4e96-9ecc-5f969724088f\")>,\n",
       " <selenium.webdriver.remote.webelement.WebElement (session=\"8d4755fbe9e6e1fef5720b4c03c04ed0\", element=\"5aaafe73-57ae-4103-9019-01011a929d04\")>,\n",
       " <selenium.webdriver.remote.webelement.WebElement (session=\"8d4755fbe9e6e1fef5720b4c03c04ed0\", element=\"c9527a22-4530-4e01-950c-dde654c9c2e5\")>,\n",
       " <selenium.webdriver.remote.webelement.WebElement (session=\"8d4755fbe9e6e1fef5720b4c03c04ed0\", element=\"3f243c78-531e-4853-bd35-20bb15152cbd\")>,\n",
       " <selenium.webdriver.remote.webelement.WebElement (session=\"8d4755fbe9e6e1fef5720b4c03c04ed0\", element=\"02af778a-5938-414c-bc48-b9c2f08c16da\")>,\n",
       " <selenium.webdriver.remote.webelement.WebElement (session=\"8d4755fbe9e6e1fef5720b4c03c04ed0\", element=\"1fe86f82-0144-4e5a-9f35-cfa7a93567bc\")>,\n",
       " <selenium.webdriver.remote.webelement.WebElement (session=\"8d4755fbe9e6e1fef5720b4c03c04ed0\", element=\"c6a82bc0-6145-4790-aee7-0ce612dc35f1\")>,\n",
       " <selenium.webdriver.remote.webelement.WebElement (session=\"8d4755fbe9e6e1fef5720b4c03c04ed0\", element=\"2b8dfa73-eace-4578-80fa-7dc43a524966\")>,\n",
       " <selenium.webdriver.remote.webelement.WebElement (session=\"8d4755fbe9e6e1fef5720b4c03c04ed0\", element=\"073ea0b8-0a83-44cf-9b55-bc38147464fe\")>,\n",
       " <selenium.webdriver.remote.webelement.WebElement (session=\"8d4755fbe9e6e1fef5720b4c03c04ed0\", element=\"3cf614f3-01e0-4c35-b787-352ed4245616\")>,\n",
       " <selenium.webdriver.remote.webelement.WebElement (session=\"8d4755fbe9e6e1fef5720b4c03c04ed0\", element=\"6689882a-3f87-4011-a217-fb32c9976760\")>,\n",
       " <selenium.webdriver.remote.webelement.WebElement (session=\"8d4755fbe9e6e1fef5720b4c03c04ed0\", element=\"63ec647f-2f75-4d96-82e9-903463c37d35\")>,\n",
       " <selenium.webdriver.remote.webelement.WebElement (session=\"8d4755fbe9e6e1fef5720b4c03c04ed0\", element=\"595a014a-e789-46ce-ba63-b8c348bdcc2b\")>,\n",
       " <selenium.webdriver.remote.webelement.WebElement (session=\"8d4755fbe9e6e1fef5720b4c03c04ed0\", element=\"d088f3d6-abb0-474c-9365-61553fa351e4\")>,\n",
       " <selenium.webdriver.remote.webelement.WebElement (session=\"8d4755fbe9e6e1fef5720b4c03c04ed0\", element=\"bfaeb015-30fb-4815-8b6a-3391a203b2d2\")>,\n",
       " <selenium.webdriver.remote.webelement.WebElement (session=\"8d4755fbe9e6e1fef5720b4c03c04ed0\", element=\"cb25b844-5975-481d-a4e7-0153e7d78ad0\")>,\n",
       " <selenium.webdriver.remote.webelement.WebElement (session=\"8d4755fbe9e6e1fef5720b4c03c04ed0\", element=\"cd77008e-cfa9-4f72-b288-f17e94770838\")>,\n",
       " <selenium.webdriver.remote.webelement.WebElement (session=\"8d4755fbe9e6e1fef5720b4c03c04ed0\", element=\"71032f61-35dc-4679-9106-904628b0b45a\")>,\n",
       " <selenium.webdriver.remote.webelement.WebElement (session=\"8d4755fbe9e6e1fef5720b4c03c04ed0\", element=\"a6fa4f00-9d0c-4896-8e27-53f9f2917a28\")>,\n",
       " <selenium.webdriver.remote.webelement.WebElement (session=\"8d4755fbe9e6e1fef5720b4c03c04ed0\", element=\"da7acc53-327f-4ddb-b9c3-7b349e880f22\")>,\n",
       " <selenium.webdriver.remote.webelement.WebElement (session=\"8d4755fbe9e6e1fef5720b4c03c04ed0\", element=\"4ee2074b-def6-4ec1-82dd-426ba0e55275\")>,\n",
       " <selenium.webdriver.remote.webelement.WebElement (session=\"8d4755fbe9e6e1fef5720b4c03c04ed0\", element=\"c5617064-fb78-4790-ad70-0ac5e435cc56\")>,\n",
       " <selenium.webdriver.remote.webelement.WebElement (session=\"8d4755fbe9e6e1fef5720b4c03c04ed0\", element=\"e46390a1-6d58-45de-915b-2d82b93c95c7\")>,\n",
       " <selenium.webdriver.remote.webelement.WebElement (session=\"8d4755fbe9e6e1fef5720b4c03c04ed0\", element=\"369ebe17-1901-42f5-93e0-9d25a676136f\")>]"
      ]
     },
     "execution_count": 189,
     "metadata": {},
     "output_type": "execute_result"
    }
   ],
   "source": [
    "##scrap the Product Description\n",
    "product_description=driver.find_elements_by_xpath(\"//a[@class='IRpwTa']\")\n",
    "product_description"
   ]
  },
  {
   "cell_type": "code",
   "execution_count": 190,
   "metadata": {},
   "outputs": [
    {
     "data": {
      "text/plain": [
       "['Polarized, UV Protection Aviator Sunglasses (58)',\n",
       " 'UV Protection, Gradient Butterfly Sunglasses (57)',\n",
       " 'UV Protection, Polarized, Mirrored Rectangular Sunglass...',\n",
       " 'UV Protection Round Sunglasses (54)',\n",
       " 'Mirrored, UV Protection Wayfarer Sunglasses (Free Size)',\n",
       " 'UV Protection, Gradient Rectangular Sunglasses (Free Si...',\n",
       " 'UV Protection Aviator Sunglasses (54)',\n",
       " 'UV Protection Aviator Sunglasses (57)',\n",
       " 'UV Protection Round Sunglasses (54)',\n",
       " 'Gradient, UV Protection Wayfarer Sunglasses (Free Size)',\n",
       " 'UV Protection Rectangular Sunglasses (58)',\n",
       " 'UV Protection Retro Square Sunglasses (88)',\n",
       " 'UV Protection Retro Square Sunglasses (Free Size)',\n",
       " 'UV Protection Aviator, Wayfarer Sunglasses (Free Size)',\n",
       " 'UV Protection, Polarized, Mirrored Rectangular Sunglass...',\n",
       " 'UV Protection Retro Square Sunglasses (58)',\n",
       " 'UV Protection Aviator Sunglasses (54)',\n",
       " 'UV Protection, Polarized, Mirrored Wayfarer Sunglasses ...',\n",
       " 'UV Protection Aviator Sunglasses (54)',\n",
       " 'UV Protection Retro Square Sunglasses (58)',\n",
       " 'UV Protection Aviator Sunglasses (Free Size)',\n",
       " 'UV Protection Retro Square Sunglasses (Free Size)',\n",
       " 'Others Round Sunglasses (52)',\n",
       " 'UV Protection Wayfarer Sunglasses (Free Size)',\n",
       " 'UV Protection Round Sunglasses (Free Size)',\n",
       " 'UV Protection, Riding Glasses Rectangular Sunglasses (F...',\n",
       " 'UV Protection, Gradient Over-sized Sunglasses (59)',\n",
       " 'Mirrored, UV Protection, Riding Glasses, Others Round S...',\n",
       " 'UV Protection Wayfarer Sunglasses (Free Size)',\n",
       " 'UV Protection Rectangular Sunglasses (Free Size)',\n",
       " 'Polarized, UV Protection Rectangular Sunglasses (59)',\n",
       " 'UV Protection, Gradient Round Sunglasses (Free Size)',\n",
       " 'UV Protection Butterfly Sunglasses (65)',\n",
       " 'UV Protection, Gradient, Mirrored, Riding Glasses Aviat...',\n",
       " 'UV Protection, Gradient Wayfarer Sunglasses (55)',\n",
       " 'UV Protection Round Sunglasses (55)',\n",
       " 'UV Protection, Mirrored, Gradient Round Sunglasses (51)',\n",
       " 'UV Protection Wayfarer Sunglasses (56)',\n",
       " 'Others Wayfarer Sunglasses (Free Size)']"
      ]
     },
     "execution_count": 190,
     "metadata": {},
     "output_type": "execute_result"
    }
   ],
   "source": [
    "description=[]\n",
    "for i in product_description:\n",
    "    description.append(i.text)\n",
    "\n",
    "description"
   ]
  },
  {
   "cell_type": "code",
   "execution_count": 191,
   "metadata": {},
   "outputs": [
    {
     "data": {
      "text/plain": [
       "[<selenium.webdriver.remote.webelement.WebElement (session=\"8d4755fbe9e6e1fef5720b4c03c04ed0\", element=\"4c097c57-07e0-4479-aab4-a3f5e4d129bc\")>,\n",
       " <selenium.webdriver.remote.webelement.WebElement (session=\"8d4755fbe9e6e1fef5720b4c03c04ed0\", element=\"57d5b3f1-3660-4274-91ed-a3492669327d\")>,\n",
       " <selenium.webdriver.remote.webelement.WebElement (session=\"8d4755fbe9e6e1fef5720b4c03c04ed0\", element=\"28f315fc-b5ca-40ba-9c5a-073abda13265\")>,\n",
       " <selenium.webdriver.remote.webelement.WebElement (session=\"8d4755fbe9e6e1fef5720b4c03c04ed0\", element=\"68af1d86-5159-48f9-b2a1-5e33cd9b31c9\")>,\n",
       " <selenium.webdriver.remote.webelement.WebElement (session=\"8d4755fbe9e6e1fef5720b4c03c04ed0\", element=\"e06d6d25-ff43-42db-a8e1-067b0f079be3\")>,\n",
       " <selenium.webdriver.remote.webelement.WebElement (session=\"8d4755fbe9e6e1fef5720b4c03c04ed0\", element=\"a0745435-cbe7-4424-a42a-f42c88f9582e\")>,\n",
       " <selenium.webdriver.remote.webelement.WebElement (session=\"8d4755fbe9e6e1fef5720b4c03c04ed0\", element=\"274c11fa-aace-4e74-b4f9-bd365a132111\")>,\n",
       " <selenium.webdriver.remote.webelement.WebElement (session=\"8d4755fbe9e6e1fef5720b4c03c04ed0\", element=\"a6dac95a-c181-4f49-ab3d-33dfb174f29f\")>,\n",
       " <selenium.webdriver.remote.webelement.WebElement (session=\"8d4755fbe9e6e1fef5720b4c03c04ed0\", element=\"0ea68686-154b-46c9-8175-4865a3d7a1a2\")>,\n",
       " <selenium.webdriver.remote.webelement.WebElement (session=\"8d4755fbe9e6e1fef5720b4c03c04ed0\", element=\"2f70d345-6e7e-470c-b755-f8ec6e400270\")>,\n",
       " <selenium.webdriver.remote.webelement.WebElement (session=\"8d4755fbe9e6e1fef5720b4c03c04ed0\", element=\"5d01ff46-53ea-46a4-8215-c645eb7b93d4\")>,\n",
       " <selenium.webdriver.remote.webelement.WebElement (session=\"8d4755fbe9e6e1fef5720b4c03c04ed0\", element=\"b7aa5472-98aa-4688-b756-8d59fb144e18\")>,\n",
       " <selenium.webdriver.remote.webelement.WebElement (session=\"8d4755fbe9e6e1fef5720b4c03c04ed0\", element=\"86475651-efb3-4017-b76f-fdc7f699f596\")>,\n",
       " <selenium.webdriver.remote.webelement.WebElement (session=\"8d4755fbe9e6e1fef5720b4c03c04ed0\", element=\"5aee1ef3-2421-4f9b-8c49-2bcfdd692e9a\")>,\n",
       " <selenium.webdriver.remote.webelement.WebElement (session=\"8d4755fbe9e6e1fef5720b4c03c04ed0\", element=\"04518bb6-86fd-448b-bcfe-048a5575b81b\")>,\n",
       " <selenium.webdriver.remote.webelement.WebElement (session=\"8d4755fbe9e6e1fef5720b4c03c04ed0\", element=\"9fd1cfbe-c39b-4f7b-a23d-50c51b955519\")>,\n",
       " <selenium.webdriver.remote.webelement.WebElement (session=\"8d4755fbe9e6e1fef5720b4c03c04ed0\", element=\"283db70f-510b-4e74-bfbf-cd3f786797f6\")>,\n",
       " <selenium.webdriver.remote.webelement.WebElement (session=\"8d4755fbe9e6e1fef5720b4c03c04ed0\", element=\"473c5536-5501-46b6-afe0-56aa2a957891\")>,\n",
       " <selenium.webdriver.remote.webelement.WebElement (session=\"8d4755fbe9e6e1fef5720b4c03c04ed0\", element=\"e1eb0418-df69-49ff-bac9-5b0069a38834\")>,\n",
       " <selenium.webdriver.remote.webelement.WebElement (session=\"8d4755fbe9e6e1fef5720b4c03c04ed0\", element=\"bc31525d-f643-4063-8588-039c2cc01a1a\")>,\n",
       " <selenium.webdriver.remote.webelement.WebElement (session=\"8d4755fbe9e6e1fef5720b4c03c04ed0\", element=\"7b026579-5b0e-4da0-9fcc-1a46dc5fdab9\")>,\n",
       " <selenium.webdriver.remote.webelement.WebElement (session=\"8d4755fbe9e6e1fef5720b4c03c04ed0\", element=\"fce0821f-a892-494f-a9e6-c1882bc0644e\")>,\n",
       " <selenium.webdriver.remote.webelement.WebElement (session=\"8d4755fbe9e6e1fef5720b4c03c04ed0\", element=\"4f52dcb6-65ae-4367-b401-030eacefc4a2\")>,\n",
       " <selenium.webdriver.remote.webelement.WebElement (session=\"8d4755fbe9e6e1fef5720b4c03c04ed0\", element=\"441cc67a-6506-40e4-a165-b401ee669ec7\")>,\n",
       " <selenium.webdriver.remote.webelement.WebElement (session=\"8d4755fbe9e6e1fef5720b4c03c04ed0\", element=\"628b41ce-5835-45ff-8daf-f9558bf87619\")>,\n",
       " <selenium.webdriver.remote.webelement.WebElement (session=\"8d4755fbe9e6e1fef5720b4c03c04ed0\", element=\"cc29746d-e597-41ab-a7f0-1be7ce318c1f\")>,\n",
       " <selenium.webdriver.remote.webelement.WebElement (session=\"8d4755fbe9e6e1fef5720b4c03c04ed0\", element=\"9928ce6e-f457-4083-b6b9-85bc918cee3b\")>,\n",
       " <selenium.webdriver.remote.webelement.WebElement (session=\"8d4755fbe9e6e1fef5720b4c03c04ed0\", element=\"5abf80b6-bc0e-484f-b018-16bf7aff77a7\")>,\n",
       " <selenium.webdriver.remote.webelement.WebElement (session=\"8d4755fbe9e6e1fef5720b4c03c04ed0\", element=\"5507f375-1b5e-4725-b5c7-5f9d5f522afb\")>,\n",
       " <selenium.webdriver.remote.webelement.WebElement (session=\"8d4755fbe9e6e1fef5720b4c03c04ed0\", element=\"c034a6bc-772b-418e-958f-ad505f2f3e88\")>,\n",
       " <selenium.webdriver.remote.webelement.WebElement (session=\"8d4755fbe9e6e1fef5720b4c03c04ed0\", element=\"75baac83-8f9f-423b-8ad1-8e480afab0ac\")>,\n",
       " <selenium.webdriver.remote.webelement.WebElement (session=\"8d4755fbe9e6e1fef5720b4c03c04ed0\", element=\"33a59509-0ed1-4bdc-a117-5043a2aab85b\")>,\n",
       " <selenium.webdriver.remote.webelement.WebElement (session=\"8d4755fbe9e6e1fef5720b4c03c04ed0\", element=\"69d77410-4985-4c05-8849-affe8c9d18fc\")>,\n",
       " <selenium.webdriver.remote.webelement.WebElement (session=\"8d4755fbe9e6e1fef5720b4c03c04ed0\", element=\"e56da375-5867-4338-9ac5-ff1f3f1b3965\")>,\n",
       " <selenium.webdriver.remote.webelement.WebElement (session=\"8d4755fbe9e6e1fef5720b4c03c04ed0\", element=\"3315f42c-acea-404c-9f17-467c4e1a7c98\")>,\n",
       " <selenium.webdriver.remote.webelement.WebElement (session=\"8d4755fbe9e6e1fef5720b4c03c04ed0\", element=\"045e6a8f-b733-4b46-b31d-7ed89b3ffedf\")>,\n",
       " <selenium.webdriver.remote.webelement.WebElement (session=\"8d4755fbe9e6e1fef5720b4c03c04ed0\", element=\"6a00c18b-1cfa-47b2-8957-3d1cc5a01152\")>,\n",
       " <selenium.webdriver.remote.webelement.WebElement (session=\"8d4755fbe9e6e1fef5720b4c03c04ed0\", element=\"88ca9f07-e56f-495b-a0ac-0feb38329a0d\")>,\n",
       " <selenium.webdriver.remote.webelement.WebElement (session=\"8d4755fbe9e6e1fef5720b4c03c04ed0\", element=\"02f61daa-7c8c-4c49-99c8-e12a50623aa1\")>,\n",
       " <selenium.webdriver.remote.webelement.WebElement (session=\"8d4755fbe9e6e1fef5720b4c03c04ed0\", element=\"096e31bf-bbcd-4fb7-a5be-b339bcf68265\")>]"
      ]
     },
     "execution_count": 191,
     "metadata": {},
     "output_type": "execute_result"
    }
   ],
   "source": [
    "##scrap the price\n",
    "product_price=driver.find_elements_by_xpath(\"//div[@class='_30jeq3']\")\n",
    "product_price"
   ]
  },
  {
   "cell_type": "code",
   "execution_count": 192,
   "metadata": {},
   "outputs": [
    {
     "data": {
      "text/plain": [
       "['₹759',\n",
       " '₹664',\n",
       " '₹198',\n",
       " '₹295',\n",
       " '₹284',\n",
       " '₹404',\n",
       " '₹237',\n",
       " '₹284',\n",
       " '₹213',\n",
       " '₹509',\n",
       " '₹474',\n",
       " '₹569',\n",
       " '₹499',\n",
       " '₹202',\n",
       " '₹215',\n",
       " '₹499',\n",
       " '₹237',\n",
       " '₹265',\n",
       " '₹237',\n",
       " '₹474',\n",
       " '₹520',\n",
       " '₹399',\n",
       " '₹179',\n",
       " '₹664',\n",
       " '₹859',\n",
       " '₹331',\n",
       " '₹449',\n",
       " '₹664',\n",
       " '₹299',\n",
       " '₹246',\n",
       " '₹217',\n",
       " '₹664',\n",
       " '₹449',\n",
       " '₹426',\n",
       " '₹209',\n",
       " '₹203',\n",
       " '₹266',\n",
       " '₹215',\n",
       " '₹369',\n",
       " '₹599']"
      ]
     },
     "execution_count": 192,
     "metadata": {},
     "output_type": "execute_result"
    }
   ],
   "source": [
    "price=[]\n",
    "for i in product_price:\n",
    "    price.append(i.text)\n",
    "\n",
    "price"
   ]
  },
  {
   "cell_type": "code",
   "execution_count": 193,
   "metadata": {},
   "outputs": [
    {
     "data": {
      "text/plain": [
       "[<selenium.webdriver.remote.webelement.WebElement (session=\"8d4755fbe9e6e1fef5720b4c03c04ed0\", element=\"43a8e7a8-dd9c-4312-b320-bfa1ef54dc50\")>,\n",
       " <selenium.webdriver.remote.webelement.WebElement (session=\"8d4755fbe9e6e1fef5720b4c03c04ed0\", element=\"1f8d067b-46cc-4045-9bd1-2053cd0be35c\")>,\n",
       " <selenium.webdriver.remote.webelement.WebElement (session=\"8d4755fbe9e6e1fef5720b4c03c04ed0\", element=\"3b3dcabf-1c89-4eb5-9d96-6487b287c0a8\")>,\n",
       " <selenium.webdriver.remote.webelement.WebElement (session=\"8d4755fbe9e6e1fef5720b4c03c04ed0\", element=\"2c6c5f6a-f818-4552-b894-68b33c5332ee\")>,\n",
       " <selenium.webdriver.remote.webelement.WebElement (session=\"8d4755fbe9e6e1fef5720b4c03c04ed0\", element=\"e752976d-0fa3-46b8-a5ba-f7544c0bc881\")>,\n",
       " <selenium.webdriver.remote.webelement.WebElement (session=\"8d4755fbe9e6e1fef5720b4c03c04ed0\", element=\"59a0a253-e971-4eac-a88b-6075487d576a\")>,\n",
       " <selenium.webdriver.remote.webelement.WebElement (session=\"8d4755fbe9e6e1fef5720b4c03c04ed0\", element=\"54ddb706-ff35-448b-b2db-424d2d1a2cb9\")>,\n",
       " <selenium.webdriver.remote.webelement.WebElement (session=\"8d4755fbe9e6e1fef5720b4c03c04ed0\", element=\"d1e2d23c-2685-4337-8888-83382f170041\")>,\n",
       " <selenium.webdriver.remote.webelement.WebElement (session=\"8d4755fbe9e6e1fef5720b4c03c04ed0\", element=\"641313a0-39fa-4cca-b818-534eff839e0c\")>,\n",
       " <selenium.webdriver.remote.webelement.WebElement (session=\"8d4755fbe9e6e1fef5720b4c03c04ed0\", element=\"9ce70265-9189-4039-b0fa-9e13c9018760\")>,\n",
       " <selenium.webdriver.remote.webelement.WebElement (session=\"8d4755fbe9e6e1fef5720b4c03c04ed0\", element=\"c1cf7bbf-13e1-47d3-af9a-dcbfa31a5141\")>,\n",
       " <selenium.webdriver.remote.webelement.WebElement (session=\"8d4755fbe9e6e1fef5720b4c03c04ed0\", element=\"3b818ffb-b069-4b6c-a23c-f6e17b28b6de\")>,\n",
       " <selenium.webdriver.remote.webelement.WebElement (session=\"8d4755fbe9e6e1fef5720b4c03c04ed0\", element=\"9436b469-548b-4beb-9685-12367df6abcf\")>,\n",
       " <selenium.webdriver.remote.webelement.WebElement (session=\"8d4755fbe9e6e1fef5720b4c03c04ed0\", element=\"52789dec-ee97-4fe8-9956-61b2a671ac94\")>,\n",
       " <selenium.webdriver.remote.webelement.WebElement (session=\"8d4755fbe9e6e1fef5720b4c03c04ed0\", element=\"8241c5d2-35c0-4b06-a83d-2682fa69327b\")>,\n",
       " <selenium.webdriver.remote.webelement.WebElement (session=\"8d4755fbe9e6e1fef5720b4c03c04ed0\", element=\"1bef33cd-9537-4e29-8fac-714979b61719\")>,\n",
       " <selenium.webdriver.remote.webelement.WebElement (session=\"8d4755fbe9e6e1fef5720b4c03c04ed0\", element=\"41093e46-9c32-493d-9dda-ea5fc04d62be\")>,\n",
       " <selenium.webdriver.remote.webelement.WebElement (session=\"8d4755fbe9e6e1fef5720b4c03c04ed0\", element=\"ec3527e4-29a0-44dd-a96b-3a20b50a3949\")>,\n",
       " <selenium.webdriver.remote.webelement.WebElement (session=\"8d4755fbe9e6e1fef5720b4c03c04ed0\", element=\"df878a6e-beff-4721-9591-d894f08776e9\")>,\n",
       " <selenium.webdriver.remote.webelement.WebElement (session=\"8d4755fbe9e6e1fef5720b4c03c04ed0\", element=\"7607b2a7-9806-41ef-a34a-6b55de3f6124\")>,\n",
       " <selenium.webdriver.remote.webelement.WebElement (session=\"8d4755fbe9e6e1fef5720b4c03c04ed0\", element=\"3eaec81c-f94a-4102-a0ef-2e31524f109a\")>,\n",
       " <selenium.webdriver.remote.webelement.WebElement (session=\"8d4755fbe9e6e1fef5720b4c03c04ed0\", element=\"36824247-66d2-45f4-90a3-26ef83751ab1\")>,\n",
       " <selenium.webdriver.remote.webelement.WebElement (session=\"8d4755fbe9e6e1fef5720b4c03c04ed0\", element=\"d03fb180-d2a9-443a-b563-43f7bc322cbd\")>,\n",
       " <selenium.webdriver.remote.webelement.WebElement (session=\"8d4755fbe9e6e1fef5720b4c03c04ed0\", element=\"f4fd9015-0cc2-4e4d-b660-3aa943624154\")>,\n",
       " <selenium.webdriver.remote.webelement.WebElement (session=\"8d4755fbe9e6e1fef5720b4c03c04ed0\", element=\"6d401599-7724-4c72-b9f2-6c78df0929ea\")>,\n",
       " <selenium.webdriver.remote.webelement.WebElement (session=\"8d4755fbe9e6e1fef5720b4c03c04ed0\", element=\"81cc240f-8a7c-4260-9dc4-031e5a7b3caa\")>,\n",
       " <selenium.webdriver.remote.webelement.WebElement (session=\"8d4755fbe9e6e1fef5720b4c03c04ed0\", element=\"39881bce-b21b-424f-a7ac-2a0442b2738c\")>,\n",
       " <selenium.webdriver.remote.webelement.WebElement (session=\"8d4755fbe9e6e1fef5720b4c03c04ed0\", element=\"eb94a1eb-7962-4e87-936e-ff6bdb303fb2\")>,\n",
       " <selenium.webdriver.remote.webelement.WebElement (session=\"8d4755fbe9e6e1fef5720b4c03c04ed0\", element=\"aafe26b6-4b50-49ba-80e9-d06721640c97\")>,\n",
       " <selenium.webdriver.remote.webelement.WebElement (session=\"8d4755fbe9e6e1fef5720b4c03c04ed0\", element=\"5938efac-5575-4b3e-ab0f-3c0bd8310c11\")>,\n",
       " <selenium.webdriver.remote.webelement.WebElement (session=\"8d4755fbe9e6e1fef5720b4c03c04ed0\", element=\"224929e0-ed34-4e46-898e-206c689f50e6\")>,\n",
       " <selenium.webdriver.remote.webelement.WebElement (session=\"8d4755fbe9e6e1fef5720b4c03c04ed0\", element=\"3017478a-2c75-416a-b98a-6d16579c6a60\")>,\n",
       " <selenium.webdriver.remote.webelement.WebElement (session=\"8d4755fbe9e6e1fef5720b4c03c04ed0\", element=\"1406ac16-459c-422d-9230-fad6a96b621b\")>,\n",
       " <selenium.webdriver.remote.webelement.WebElement (session=\"8d4755fbe9e6e1fef5720b4c03c04ed0\", element=\"5edf1e01-be62-41d9-94fa-fd3351cf83d7\")>,\n",
       " <selenium.webdriver.remote.webelement.WebElement (session=\"8d4755fbe9e6e1fef5720b4c03c04ed0\", element=\"2cb2d873-a7c7-414c-8bcb-3ce642cb4322\")>,\n",
       " <selenium.webdriver.remote.webelement.WebElement (session=\"8d4755fbe9e6e1fef5720b4c03c04ed0\", element=\"8c7e2ea1-1d09-4afb-87b2-a727acb1819f\")>,\n",
       " <selenium.webdriver.remote.webelement.WebElement (session=\"8d4755fbe9e6e1fef5720b4c03c04ed0\", element=\"bbf8b687-0a21-4f3e-906c-10927a2649e7\")>,\n",
       " <selenium.webdriver.remote.webelement.WebElement (session=\"8d4755fbe9e6e1fef5720b4c03c04ed0\", element=\"55aa9325-ae75-4945-9848-f3cc427a564c\")>,\n",
       " <selenium.webdriver.remote.webelement.WebElement (session=\"8d4755fbe9e6e1fef5720b4c03c04ed0\", element=\"9115698f-a019-4b60-be35-c16ce97dbaf2\")>,\n",
       " <selenium.webdriver.remote.webelement.WebElement (session=\"8d4755fbe9e6e1fef5720b4c03c04ed0\", element=\"5923af1f-041d-406f-a6e0-ab1b5485e7af\")>]"
      ]
     },
     "execution_count": 193,
     "metadata": {},
     "output_type": "execute_result"
    }
   ],
   "source": [
    "##scrap the discount\n",
    "product_discount=driver.find_elements_by_xpath(\"//div[@class='_3Ay6Sb']\")\n",
    "product_discount"
   ]
  },
  {
   "cell_type": "code",
   "execution_count": 194,
   "metadata": {},
   "outputs": [
    {
     "data": {
      "text/plain": [
       "['62% off',\n",
       " '66% off',\n",
       " '88% off',\n",
       " '88% off',\n",
       " '89% off',\n",
       " '79% off',\n",
       " '85% off',\n",
       " '85% off',\n",
       " '80% off',\n",
       " '36% off',\n",
       " '68% off',\n",
       " '71% off',\n",
       " '77% off',\n",
       " '83% off',\n",
       " '78% off',\n",
       " '66% off',\n",
       " '85% off',\n",
       " '73% off',\n",
       " '85% off',\n",
       " '68% off',\n",
       " '34% off',\n",
       " '80% off',\n",
       " '69% off',\n",
       " '66% off',\n",
       " '4% off',\n",
       " '80% off',\n",
       " '79% off',\n",
       " '66% off',\n",
       " '81% off',\n",
       " '83% off',\n",
       " '80% off',\n",
       " '55% off',\n",
       " '77% off',\n",
       " '83% off',\n",
       " '79% off',\n",
       " '79% off',\n",
       " '86% off',\n",
       " '73% off',\n",
       " '58% off',\n",
       " '40% off']"
      ]
     },
     "execution_count": 194,
     "metadata": {},
     "output_type": "execute_result"
    }
   ],
   "source": [
    "discount=[]\n",
    "for i in product_discount:\n",
    "    discount.append(i.text)\n",
    "\n",
    "discount"
   ]
  },
  {
   "cell_type": "code",
   "execution_count": 195,
   "metadata": {},
   "outputs": [
    {
     "data": {
      "text/plain": [
       "<selenium.webdriver.remote.webelement.WebElement (session=\"8d4755fbe9e6e1fef5720b4c03c04ed0\", element=\"171b0d62-9e18-4111-bd97-ca2e44827a78\")>"
      ]
     },
     "execution_count": 195,
     "metadata": {},
     "output_type": "execute_result"
    }
   ],
   "source": [
    "##scrap the discount\n",
    "next_button=driver.find_element_by_xpath(\"//a[@class='_1LKTO3']\")\n",
    "next_button"
   ]
  },
  {
   "cell_type": "code",
   "execution_count": 196,
   "metadata": {},
   "outputs": [],
   "source": [
    "next_button.click()"
   ]
  },
  {
   "cell_type": "code",
   "execution_count": 197,
   "metadata": {},
   "outputs": [
    {
     "data": {
      "text/plain": [
       "[<selenium.webdriver.remote.webelement.WebElement (session=\"8d4755fbe9e6e1fef5720b4c03c04ed0\", element=\"28e56109-a258-4bef-b8c5-ae0e33c35d24\")>,\n",
       " <selenium.webdriver.remote.webelement.WebElement (session=\"8d4755fbe9e6e1fef5720b4c03c04ed0\", element=\"f20cf09b-d302-41e4-8b2f-2d9db30b4576\")>,\n",
       " <selenium.webdriver.remote.webelement.WebElement (session=\"8d4755fbe9e6e1fef5720b4c03c04ed0\", element=\"5bcc607b-26ed-4293-b110-e2dcaa5decb3\")>,\n",
       " <selenium.webdriver.remote.webelement.WebElement (session=\"8d4755fbe9e6e1fef5720b4c03c04ed0\", element=\"0096e861-3b55-4029-8abd-8e94be9888d3\")>,\n",
       " <selenium.webdriver.remote.webelement.WebElement (session=\"8d4755fbe9e6e1fef5720b4c03c04ed0\", element=\"7c8d82c1-ecbe-4d25-8c50-fbcfe207140a\")>,\n",
       " <selenium.webdriver.remote.webelement.WebElement (session=\"8d4755fbe9e6e1fef5720b4c03c04ed0\", element=\"8ea7051f-0f25-44f5-9a40-b74edb1e8c74\")>,\n",
       " <selenium.webdriver.remote.webelement.WebElement (session=\"8d4755fbe9e6e1fef5720b4c03c04ed0\", element=\"2ec07550-1423-4f8f-9b6a-7b1c1410831f\")>,\n",
       " <selenium.webdriver.remote.webelement.WebElement (session=\"8d4755fbe9e6e1fef5720b4c03c04ed0\", element=\"a5976c39-0b20-4df9-9ca5-2d6e54349661\")>,\n",
       " <selenium.webdriver.remote.webelement.WebElement (session=\"8d4755fbe9e6e1fef5720b4c03c04ed0\", element=\"4cfcc48b-de55-4a4a-97b4-6c93ee6d7cdc\")>,\n",
       " <selenium.webdriver.remote.webelement.WebElement (session=\"8d4755fbe9e6e1fef5720b4c03c04ed0\", element=\"e6ed8fb6-baaa-4bb9-9a55-32626a71315d\")>,\n",
       " <selenium.webdriver.remote.webelement.WebElement (session=\"8d4755fbe9e6e1fef5720b4c03c04ed0\", element=\"e5da00e7-d862-49cb-8b03-48a21df0f3af\")>,\n",
       " <selenium.webdriver.remote.webelement.WebElement (session=\"8d4755fbe9e6e1fef5720b4c03c04ed0\", element=\"ff6c9268-c989-40c3-9fea-b46b9d5af283\")>,\n",
       " <selenium.webdriver.remote.webelement.WebElement (session=\"8d4755fbe9e6e1fef5720b4c03c04ed0\", element=\"b5d26fd6-c8a5-4fd9-8deb-bcdb640d2056\")>,\n",
       " <selenium.webdriver.remote.webelement.WebElement (session=\"8d4755fbe9e6e1fef5720b4c03c04ed0\", element=\"7ee89ca0-1591-44c8-ac89-c9d975ae6928\")>,\n",
       " <selenium.webdriver.remote.webelement.WebElement (session=\"8d4755fbe9e6e1fef5720b4c03c04ed0\", element=\"8f6c4d1e-1008-43b6-b362-065af5c68a6c\")>,\n",
       " <selenium.webdriver.remote.webelement.WebElement (session=\"8d4755fbe9e6e1fef5720b4c03c04ed0\", element=\"b80197d9-8568-42b7-83c7-06209850ddd9\")>,\n",
       " <selenium.webdriver.remote.webelement.WebElement (session=\"8d4755fbe9e6e1fef5720b4c03c04ed0\", element=\"e5a41689-cdfd-4641-8fc1-a81eba7bf136\")>,\n",
       " <selenium.webdriver.remote.webelement.WebElement (session=\"8d4755fbe9e6e1fef5720b4c03c04ed0\", element=\"4364c63e-32d7-456f-9908-1a05ccbd1e1b\")>,\n",
       " <selenium.webdriver.remote.webelement.WebElement (session=\"8d4755fbe9e6e1fef5720b4c03c04ed0\", element=\"fd651f01-9479-4bfd-a8a0-1cdee04b8a37\")>,\n",
       " <selenium.webdriver.remote.webelement.WebElement (session=\"8d4755fbe9e6e1fef5720b4c03c04ed0\", element=\"802a9f01-b52a-4cf4-b502-6815a0f5a8cf\")>,\n",
       " <selenium.webdriver.remote.webelement.WebElement (session=\"8d4755fbe9e6e1fef5720b4c03c04ed0\", element=\"0cf436d4-f0ee-4204-816f-bd512764a06e\")>,\n",
       " <selenium.webdriver.remote.webelement.WebElement (session=\"8d4755fbe9e6e1fef5720b4c03c04ed0\", element=\"79202d6d-5e63-4055-ac0b-83361dc3bb96\")>,\n",
       " <selenium.webdriver.remote.webelement.WebElement (session=\"8d4755fbe9e6e1fef5720b4c03c04ed0\", element=\"0b0bba1e-e4ee-409f-b6d7-299e02e648a0\")>,\n",
       " <selenium.webdriver.remote.webelement.WebElement (session=\"8d4755fbe9e6e1fef5720b4c03c04ed0\", element=\"e0fc8b46-c470-4a83-9b4e-864739fd093d\")>,\n",
       " <selenium.webdriver.remote.webelement.WebElement (session=\"8d4755fbe9e6e1fef5720b4c03c04ed0\", element=\"75f2da91-4db0-4dfb-97bf-fbbe33656ad0\")>,\n",
       " <selenium.webdriver.remote.webelement.WebElement (session=\"8d4755fbe9e6e1fef5720b4c03c04ed0\", element=\"59257a9e-5efe-49e6-8d26-1833cafba6e5\")>,\n",
       " <selenium.webdriver.remote.webelement.WebElement (session=\"8d4755fbe9e6e1fef5720b4c03c04ed0\", element=\"dc8473bd-9604-47e9-80f1-d42a1728d5c9\")>,\n",
       " <selenium.webdriver.remote.webelement.WebElement (session=\"8d4755fbe9e6e1fef5720b4c03c04ed0\", element=\"bfc38602-0ac1-477f-859a-920c31328a26\")>,\n",
       " <selenium.webdriver.remote.webelement.WebElement (session=\"8d4755fbe9e6e1fef5720b4c03c04ed0\", element=\"eb5d2b91-af46-49cb-8bee-a8bbcf5f1460\")>,\n",
       " <selenium.webdriver.remote.webelement.WebElement (session=\"8d4755fbe9e6e1fef5720b4c03c04ed0\", element=\"9f6fdb0d-1abb-44bc-861f-8fce8198fb5c\")>,\n",
       " <selenium.webdriver.remote.webelement.WebElement (session=\"8d4755fbe9e6e1fef5720b4c03c04ed0\", element=\"705b51b5-7a58-4148-afde-f02f84ded7c1\")>,\n",
       " <selenium.webdriver.remote.webelement.WebElement (session=\"8d4755fbe9e6e1fef5720b4c03c04ed0\", element=\"085f4d5d-40cd-4c03-9b74-2149de15dd67\")>,\n",
       " <selenium.webdriver.remote.webelement.WebElement (session=\"8d4755fbe9e6e1fef5720b4c03c04ed0\", element=\"cbe2e6dc-5e4b-4846-bdfc-b508a85d5404\")>,\n",
       " <selenium.webdriver.remote.webelement.WebElement (session=\"8d4755fbe9e6e1fef5720b4c03c04ed0\", element=\"71acd429-8f88-4c3b-b91c-005c759d76c3\")>,\n",
       " <selenium.webdriver.remote.webelement.WebElement (session=\"8d4755fbe9e6e1fef5720b4c03c04ed0\", element=\"0bc61ee3-5eb1-47da-a19f-bdfbb971dc89\")>,\n",
       " <selenium.webdriver.remote.webelement.WebElement (session=\"8d4755fbe9e6e1fef5720b4c03c04ed0\", element=\"21c4f4b6-5f89-4d7c-9a1c-37d72c4f14e6\")>,\n",
       " <selenium.webdriver.remote.webelement.WebElement (session=\"8d4755fbe9e6e1fef5720b4c03c04ed0\", element=\"ebde3550-06dc-4d9e-96ea-0d9d0d930d4a\")>,\n",
       " <selenium.webdriver.remote.webelement.WebElement (session=\"8d4755fbe9e6e1fef5720b4c03c04ed0\", element=\"d636939c-df57-4d86-937f-dfc16e86df11\")>,\n",
       " <selenium.webdriver.remote.webelement.WebElement (session=\"8d4755fbe9e6e1fef5720b4c03c04ed0\", element=\"bcad8ba6-905b-43a3-9b97-974b3977643d\")>,\n",
       " <selenium.webdriver.remote.webelement.WebElement (session=\"8d4755fbe9e6e1fef5720b4c03c04ed0\", element=\"10082e22-26f1-48e3-864a-9c9d8305296b\")>]"
      ]
     },
     "execution_count": 197,
     "metadata": {},
     "output_type": "execute_result"
    }
   ],
   "source": [
    "##scrap the brand\n",
    "brand_name1=driver.find_elements_by_xpath(\"//div[@class='_2WkVRV']\")\n",
    "brand_name1"
   ]
  },
  {
   "cell_type": "code",
   "execution_count": 198,
   "metadata": {},
   "outputs": [
    {
     "data": {
      "text/plain": [
       "['kingsunglasses',\n",
       " 'Fastrack',\n",
       " 'Rich Club',\n",
       " 'ROYAL SON',\n",
       " 'povty',\n",
       " 'PHENOMENAL',\n",
       " 'Elligator',\n",
       " 'ROYAL SON',\n",
       " 'HIPPON',\n",
       " 'PIRASO',\n",
       " 'Singco',\n",
       " 'ROYAL SON',\n",
       " 'Singco India',\n",
       " 'kingsunglasses',\n",
       " 'Fastrack',\n",
       " 'ROYAL SON',\n",
       " 'Singco India',\n",
       " 'GANSTA',\n",
       " 'kingsunglasses',\n",
       " 'ROYAL SON',\n",
       " 'GANSTA',\n",
       " 'Fastrack',\n",
       " 'kingsunglasses',\n",
       " 'ROYAL SON',\n",
       " 'Elligator',\n",
       " 'GANSTA',\n",
       " 'Cruze',\n",
       " 'ROYAL SON',\n",
       " 'PHENOMENAL',\n",
       " 'hipe',\n",
       " 'GANSTA',\n",
       " 'AISLIN',\n",
       " 'DEIXELS',\n",
       " 'Fastrack',\n",
       " 'Singco India',\n",
       " 'agera',\n",
       " 'NuVew',\n",
       " 'kingsunglasses',\n",
       " 'hipe',\n",
       " 'creative group']"
      ]
     },
     "execution_count": 198,
     "metadata": {},
     "output_type": "execute_result"
    }
   ],
   "source": [
    "brand_titles1=[]\n",
    "for i in brand_name1:\n",
    "    brand_titles1.append(i.text)\n",
    "\n",
    "brand_titles1"
   ]
  },
  {
   "cell_type": "code",
   "execution_count": 199,
   "metadata": {},
   "outputs": [
    {
     "data": {
      "text/plain": [
       "[<selenium.webdriver.remote.webelement.WebElement (session=\"8d4755fbe9e6e1fef5720b4c03c04ed0\", element=\"788f4dd2-4cb1-4a61-97e5-a8cf582da468\")>,\n",
       " <selenium.webdriver.remote.webelement.WebElement (session=\"8d4755fbe9e6e1fef5720b4c03c04ed0\", element=\"d4c62126-cfc8-419d-acdc-a3089b3fedc5\")>,\n",
       " <selenium.webdriver.remote.webelement.WebElement (session=\"8d4755fbe9e6e1fef5720b4c03c04ed0\", element=\"f79bb13a-15cc-4af2-a053-e3e8676b67a4\")>,\n",
       " <selenium.webdriver.remote.webelement.WebElement (session=\"8d4755fbe9e6e1fef5720b4c03c04ed0\", element=\"3e21dd41-6edb-46c3-8630-6797725512de\")>,\n",
       " <selenium.webdriver.remote.webelement.WebElement (session=\"8d4755fbe9e6e1fef5720b4c03c04ed0\", element=\"8911764d-bf7f-4c3b-8064-99c47106fb29\")>,\n",
       " <selenium.webdriver.remote.webelement.WebElement (session=\"8d4755fbe9e6e1fef5720b4c03c04ed0\", element=\"011d17d8-09ca-40d4-83b6-739013a3b1a2\")>,\n",
       " <selenium.webdriver.remote.webelement.WebElement (session=\"8d4755fbe9e6e1fef5720b4c03c04ed0\", element=\"6f5319f8-ea45-453b-842c-98b6a1b1d913\")>,\n",
       " <selenium.webdriver.remote.webelement.WebElement (session=\"8d4755fbe9e6e1fef5720b4c03c04ed0\", element=\"65ff1ba1-124d-4f74-aaf3-1c6fb31d1787\")>,\n",
       " <selenium.webdriver.remote.webelement.WebElement (session=\"8d4755fbe9e6e1fef5720b4c03c04ed0\", element=\"376e57be-e60f-4e0b-9412-93a199036e04\")>,\n",
       " <selenium.webdriver.remote.webelement.WebElement (session=\"8d4755fbe9e6e1fef5720b4c03c04ed0\", element=\"93ed0b99-5bd8-45f4-a3fd-c3f5455cb1f1\")>,\n",
       " <selenium.webdriver.remote.webelement.WebElement (session=\"8d4755fbe9e6e1fef5720b4c03c04ed0\", element=\"408ccd40-4e92-42eb-b10a-1cc6c59de9d0\")>,\n",
       " <selenium.webdriver.remote.webelement.WebElement (session=\"8d4755fbe9e6e1fef5720b4c03c04ed0\", element=\"90fba3b0-d90c-49f1-845c-ed6659e0600c\")>,\n",
       " <selenium.webdriver.remote.webelement.WebElement (session=\"8d4755fbe9e6e1fef5720b4c03c04ed0\", element=\"436bd9c7-ddb8-45b0-ba53-93903e15e8d3\")>,\n",
       " <selenium.webdriver.remote.webelement.WebElement (session=\"8d4755fbe9e6e1fef5720b4c03c04ed0\", element=\"c463e1a4-c9b5-4c95-8adc-80675b0d4f14\")>,\n",
       " <selenium.webdriver.remote.webelement.WebElement (session=\"8d4755fbe9e6e1fef5720b4c03c04ed0\", element=\"6d8b461a-581f-47f8-a471-0387c796c57e\")>,\n",
       " <selenium.webdriver.remote.webelement.WebElement (session=\"8d4755fbe9e6e1fef5720b4c03c04ed0\", element=\"9486b06e-4d8e-4e19-8975-d30a56b71186\")>,\n",
       " <selenium.webdriver.remote.webelement.WebElement (session=\"8d4755fbe9e6e1fef5720b4c03c04ed0\", element=\"9c367161-6849-47ff-bbd1-3fd556aea168\")>,\n",
       " <selenium.webdriver.remote.webelement.WebElement (session=\"8d4755fbe9e6e1fef5720b4c03c04ed0\", element=\"00126290-baa2-484d-9a3b-233b4c99f5ce\")>,\n",
       " <selenium.webdriver.remote.webelement.WebElement (session=\"8d4755fbe9e6e1fef5720b4c03c04ed0\", element=\"f157e8dd-cafa-432d-b13d-e6cd93f57e0f\")>,\n",
       " <selenium.webdriver.remote.webelement.WebElement (session=\"8d4755fbe9e6e1fef5720b4c03c04ed0\", element=\"4fcb9977-5206-44a5-b985-6ff48b34044a\")>,\n",
       " <selenium.webdriver.remote.webelement.WebElement (session=\"8d4755fbe9e6e1fef5720b4c03c04ed0\", element=\"c7c8415b-3ca0-478e-8c11-5a857fef43ea\")>,\n",
       " <selenium.webdriver.remote.webelement.WebElement (session=\"8d4755fbe9e6e1fef5720b4c03c04ed0\", element=\"f4c078e9-ebaf-4072-ba3a-f1d49ca4b921\")>,\n",
       " <selenium.webdriver.remote.webelement.WebElement (session=\"8d4755fbe9e6e1fef5720b4c03c04ed0\", element=\"6d2422cb-8487-41f3-a60f-e39a394ce41c\")>,\n",
       " <selenium.webdriver.remote.webelement.WebElement (session=\"8d4755fbe9e6e1fef5720b4c03c04ed0\", element=\"0db12d3f-b9f6-4273-bd55-9822e2995bf0\")>,\n",
       " <selenium.webdriver.remote.webelement.WebElement (session=\"8d4755fbe9e6e1fef5720b4c03c04ed0\", element=\"1f48710e-9bc2-448b-bdb8-3895b850e5e4\")>,\n",
       " <selenium.webdriver.remote.webelement.WebElement (session=\"8d4755fbe9e6e1fef5720b4c03c04ed0\", element=\"1b8ac711-351b-46bf-b668-25282c8325ae\")>,\n",
       " <selenium.webdriver.remote.webelement.WebElement (session=\"8d4755fbe9e6e1fef5720b4c03c04ed0\", element=\"e2c62e5f-3362-4517-bee0-8cd94a1e3df1\")>,\n",
       " <selenium.webdriver.remote.webelement.WebElement (session=\"8d4755fbe9e6e1fef5720b4c03c04ed0\", element=\"ccc95290-d8c0-4eaa-8308-a8be426baa22\")>,\n",
       " <selenium.webdriver.remote.webelement.WebElement (session=\"8d4755fbe9e6e1fef5720b4c03c04ed0\", element=\"5a23c3f5-d2b2-4b84-bb0d-faab25ff5e28\")>,\n",
       " <selenium.webdriver.remote.webelement.WebElement (session=\"8d4755fbe9e6e1fef5720b4c03c04ed0\", element=\"5ccc902b-e994-470a-a10e-cea4fcbf4174\")>,\n",
       " <selenium.webdriver.remote.webelement.WebElement (session=\"8d4755fbe9e6e1fef5720b4c03c04ed0\", element=\"4c29067f-9934-4e84-9072-086bc85f380f\")>,\n",
       " <selenium.webdriver.remote.webelement.WebElement (session=\"8d4755fbe9e6e1fef5720b4c03c04ed0\", element=\"4a0c0378-4b7d-417b-bc04-8713a635e323\")>,\n",
       " <selenium.webdriver.remote.webelement.WebElement (session=\"8d4755fbe9e6e1fef5720b4c03c04ed0\", element=\"d321d879-2c78-458d-a67a-f98ee938ed8a\")>,\n",
       " <selenium.webdriver.remote.webelement.WebElement (session=\"8d4755fbe9e6e1fef5720b4c03c04ed0\", element=\"2030e07b-9d0b-4da0-abfa-3d4f68da6105\")>,\n",
       " <selenium.webdriver.remote.webelement.WebElement (session=\"8d4755fbe9e6e1fef5720b4c03c04ed0\", element=\"fff0a98c-5d17-4de1-9813-e892b5a20083\")>,\n",
       " <selenium.webdriver.remote.webelement.WebElement (session=\"8d4755fbe9e6e1fef5720b4c03c04ed0\", element=\"8d67fd2c-2a96-4b5f-922b-411e63f686ab\")>,\n",
       " <selenium.webdriver.remote.webelement.WebElement (session=\"8d4755fbe9e6e1fef5720b4c03c04ed0\", element=\"4550ef85-bd15-46f7-ac45-3b20cc5ed7e0\")>,\n",
       " <selenium.webdriver.remote.webelement.WebElement (session=\"8d4755fbe9e6e1fef5720b4c03c04ed0\", element=\"16c18a39-e857-4564-bbaa-6c3310b34743\")>,\n",
       " <selenium.webdriver.remote.webelement.WebElement (session=\"8d4755fbe9e6e1fef5720b4c03c04ed0\", element=\"ad31bb82-73e9-490c-ad23-22f57d298035\")>]"
      ]
     },
     "execution_count": 199,
     "metadata": {},
     "output_type": "execute_result"
    }
   ],
   "source": [
    "product_description1=driver.find_elements_by_xpath(\"//a[@class='IRpwTa']\")\n",
    "product_description1"
   ]
  },
  {
   "cell_type": "code",
   "execution_count": 200,
   "metadata": {},
   "outputs": [
    {
     "data": {
      "text/plain": [
       "['UV Protection Rectangular Sunglasses (55)',\n",
       " 'UV Protection Wayfarer Sunglasses (56)',\n",
       " 'UV Protection, Mirrored, Gradient Round Sunglasses (51)',\n",
       " 'UV Protection Round Sunglasses (54)',\n",
       " 'UV Protection Wayfarer Sunglasses (Free Size)',\n",
       " 'UV Protection, Mirrored Retro Square Sunglasses (53)',\n",
       " 'Mirrored Round Sunglasses (53)',\n",
       " 'UV Protection Round Sunglasses (54)',\n",
       " 'UV Protection Wayfarer Sunglasses (55)',\n",
       " 'UV Protection Aviator Sunglasses (58)',\n",
       " 'Mirrored Aviator Sunglasses (53)',\n",
       " 'UV Protection, Polarized Wrap-around Sunglasses (52)',\n",
       " 'Riding Glasses, Others, UV Protection Wrap-around Sungl...',\n",
       " 'Mirrored, UV Protection Wayfarer Sunglasses (Free Size)',\n",
       " 'UV Protection Wayfarer Sunglasses (55)',\n",
       " 'Gradient, UV Protection Aviator, Retro Square Sunglasse...',\n",
       " 'UV Protection Aviator Sunglasses (Free Size)',\n",
       " 'UV Protection Aviator Sunglasses (57)',\n",
       " 'UV Protection Round Sunglasses (Free Size)',\n",
       " 'UV Protection Aviator Sunglasses (Free Size)',\n",
       " 'UV Protection, Gradient Aviator Sunglasses (55)',\n",
       " 'UV Protection Aviator Sunglasses (58)',\n",
       " 'UV Protection, Mirrored Round Sunglasses (Free Size)',\n",
       " 'Polarized, UV Protection Wrap-around Sunglasses (60)',\n",
       " 'UV Protection, Riding Glasses Rectangular, Retro Square...',\n",
       " 'Night Vision, Riding Glasses Wayfarer Sunglasses (53)',\n",
       " 'UV Protection Aviator Sunglasses (Free Size)',\n",
       " 'UV Protection, Gradient Butterfly Sunglasses (57)',\n",
       " 'UV Protection Round Sunglasses (53)',\n",
       " 'UV Protection, Night Vision, Riding Glasses, Gradient, ...',\n",
       " 'UV Protection, Night Vision, Riding Glasses Aviator Sun...',\n",
       " 'UV Protection, Gradient Oval Sunglasses (58)',\n",
       " 'Polarized, UV Protection, Riding Glasses Wayfarer Sungl...',\n",
       " 'UV Protection Wayfarer Sunglasses (57)',\n",
       " 'Mirrored, UV Protection, Riding Glasses, Others Wrap-ar...',\n",
       " 'UV Protection Rectangular Sunglasses (57)',\n",
       " 'UV Protection Sports Sunglasses (62)',\n",
       " 'UV Protection, Mirrored Round Sunglasses (54)',\n",
       " 'UV Protection, Night Vision, Gradient, Mirrored Round, ...']"
      ]
     },
     "execution_count": 200,
     "metadata": {},
     "output_type": "execute_result"
    }
   ],
   "source": [
    "description1=[]\n",
    "for i in product_description1:\n",
    "    description1.append(i.text)\n",
    "\n",
    "description1"
   ]
  },
  {
   "cell_type": "code",
   "execution_count": 201,
   "metadata": {},
   "outputs": [
    {
     "data": {
      "text/plain": [
       "[<selenium.webdriver.remote.webelement.WebElement (session=\"8d4755fbe9e6e1fef5720b4c03c04ed0\", element=\"2f97ff6a-e8c6-486e-b8ff-6715cee6f8d2\")>,\n",
       " <selenium.webdriver.remote.webelement.WebElement (session=\"8d4755fbe9e6e1fef5720b4c03c04ed0\", element=\"a914bd12-791a-4f77-9a7b-1bb70cd6ca7e\")>,\n",
       " <selenium.webdriver.remote.webelement.WebElement (session=\"8d4755fbe9e6e1fef5720b4c03c04ed0\", element=\"ecd56c6b-d5aa-4617-96c9-005dc8a361ac\")>,\n",
       " <selenium.webdriver.remote.webelement.WebElement (session=\"8d4755fbe9e6e1fef5720b4c03c04ed0\", element=\"267ad0de-59bb-4900-b704-f38fccfddf25\")>,\n",
       " <selenium.webdriver.remote.webelement.WebElement (session=\"8d4755fbe9e6e1fef5720b4c03c04ed0\", element=\"880cb11f-40f4-4de5-b48f-a085e8a8e79d\")>,\n",
       " <selenium.webdriver.remote.webelement.WebElement (session=\"8d4755fbe9e6e1fef5720b4c03c04ed0\", element=\"d68884ba-d460-483d-b181-9b0e8a411c65\")>,\n",
       " <selenium.webdriver.remote.webelement.WebElement (session=\"8d4755fbe9e6e1fef5720b4c03c04ed0\", element=\"72590886-f311-4c56-97a7-bd1ce2f700e7\")>,\n",
       " <selenium.webdriver.remote.webelement.WebElement (session=\"8d4755fbe9e6e1fef5720b4c03c04ed0\", element=\"100009fc-5146-4ac8-b67f-7dda814f9e9e\")>,\n",
       " <selenium.webdriver.remote.webelement.WebElement (session=\"8d4755fbe9e6e1fef5720b4c03c04ed0\", element=\"2058e4c4-36d2-422b-9f28-06a6f10f73a5\")>,\n",
       " <selenium.webdriver.remote.webelement.WebElement (session=\"8d4755fbe9e6e1fef5720b4c03c04ed0\", element=\"314f2ab7-9cdb-46df-94e4-01ee9b9ff8df\")>,\n",
       " <selenium.webdriver.remote.webelement.WebElement (session=\"8d4755fbe9e6e1fef5720b4c03c04ed0\", element=\"822b9fcd-3833-4f5c-aac7-3deb1c8885b9\")>,\n",
       " <selenium.webdriver.remote.webelement.WebElement (session=\"8d4755fbe9e6e1fef5720b4c03c04ed0\", element=\"cccb8653-5692-415d-80c7-5f85d7dd803e\")>,\n",
       " <selenium.webdriver.remote.webelement.WebElement (session=\"8d4755fbe9e6e1fef5720b4c03c04ed0\", element=\"ce5efcb6-9ff2-42b8-abe5-93e61177d092\")>,\n",
       " <selenium.webdriver.remote.webelement.WebElement (session=\"8d4755fbe9e6e1fef5720b4c03c04ed0\", element=\"21e5620a-04fa-4ef6-bded-eb2ecfb1e7ec\")>,\n",
       " <selenium.webdriver.remote.webelement.WebElement (session=\"8d4755fbe9e6e1fef5720b4c03c04ed0\", element=\"9922073e-b0fb-4ebc-a201-c08cfad5a1bc\")>,\n",
       " <selenium.webdriver.remote.webelement.WebElement (session=\"8d4755fbe9e6e1fef5720b4c03c04ed0\", element=\"4a5fe29b-f756-481e-aef7-d55a6feb6c9e\")>,\n",
       " <selenium.webdriver.remote.webelement.WebElement (session=\"8d4755fbe9e6e1fef5720b4c03c04ed0\", element=\"1c1ee04f-a0d1-4799-84b2-6fb1a12280ce\")>,\n",
       " <selenium.webdriver.remote.webelement.WebElement (session=\"8d4755fbe9e6e1fef5720b4c03c04ed0\", element=\"06bc9695-88ff-4148-b652-2819a4e0a55d\")>,\n",
       " <selenium.webdriver.remote.webelement.WebElement (session=\"8d4755fbe9e6e1fef5720b4c03c04ed0\", element=\"45f66919-9577-4ab1-9ee0-bd1db042ca1c\")>,\n",
       " <selenium.webdriver.remote.webelement.WebElement (session=\"8d4755fbe9e6e1fef5720b4c03c04ed0\", element=\"1536c6f7-2058-473e-8576-d65fdad1badc\")>,\n",
       " <selenium.webdriver.remote.webelement.WebElement (session=\"8d4755fbe9e6e1fef5720b4c03c04ed0\", element=\"b0e67337-e72c-4013-8a09-bff6a53dd94e\")>,\n",
       " <selenium.webdriver.remote.webelement.WebElement (session=\"8d4755fbe9e6e1fef5720b4c03c04ed0\", element=\"03725924-58dc-4a48-83d8-211528765a4c\")>,\n",
       " <selenium.webdriver.remote.webelement.WebElement (session=\"8d4755fbe9e6e1fef5720b4c03c04ed0\", element=\"8d1c34d2-48ed-40a5-8710-7024a4e8ce25\")>,\n",
       " <selenium.webdriver.remote.webelement.WebElement (session=\"8d4755fbe9e6e1fef5720b4c03c04ed0\", element=\"67f18308-2a86-4ff2-9f00-db2d091f3302\")>,\n",
       " <selenium.webdriver.remote.webelement.WebElement (session=\"8d4755fbe9e6e1fef5720b4c03c04ed0\", element=\"0cf5cacd-125f-42a2-8de6-5183712c51a9\")>,\n",
       " <selenium.webdriver.remote.webelement.WebElement (session=\"8d4755fbe9e6e1fef5720b4c03c04ed0\", element=\"5beb7d98-0e50-451b-a30a-311565a65619\")>,\n",
       " <selenium.webdriver.remote.webelement.WebElement (session=\"8d4755fbe9e6e1fef5720b4c03c04ed0\", element=\"52d68d1d-b8ed-4094-b432-f1728433ee7c\")>,\n",
       " <selenium.webdriver.remote.webelement.WebElement (session=\"8d4755fbe9e6e1fef5720b4c03c04ed0\", element=\"1bf68a5f-d5aa-47a2-844b-4621e43cc24f\")>,\n",
       " <selenium.webdriver.remote.webelement.WebElement (session=\"8d4755fbe9e6e1fef5720b4c03c04ed0\", element=\"a9e6dcca-3542-46c8-9c72-289b32f5711d\")>,\n",
       " <selenium.webdriver.remote.webelement.WebElement (session=\"8d4755fbe9e6e1fef5720b4c03c04ed0\", element=\"2756cf7c-9d52-4c13-af3c-d77f49ab0599\")>,\n",
       " <selenium.webdriver.remote.webelement.WebElement (session=\"8d4755fbe9e6e1fef5720b4c03c04ed0\", element=\"658c333f-ee91-42db-be34-0f1029eba0ec\")>,\n",
       " <selenium.webdriver.remote.webelement.WebElement (session=\"8d4755fbe9e6e1fef5720b4c03c04ed0\", element=\"79dc4052-fd22-4866-b423-d80c1da28525\")>,\n",
       " <selenium.webdriver.remote.webelement.WebElement (session=\"8d4755fbe9e6e1fef5720b4c03c04ed0\", element=\"a410b832-c78d-4ab0-a31c-1393d522c3fa\")>,\n",
       " <selenium.webdriver.remote.webelement.WebElement (session=\"8d4755fbe9e6e1fef5720b4c03c04ed0\", element=\"dd2cb87e-5702-4490-bcae-c64e942a6cc5\")>,\n",
       " <selenium.webdriver.remote.webelement.WebElement (session=\"8d4755fbe9e6e1fef5720b4c03c04ed0\", element=\"951b0bd8-076d-4daa-ab25-fedba3d6239e\")>,\n",
       " <selenium.webdriver.remote.webelement.WebElement (session=\"8d4755fbe9e6e1fef5720b4c03c04ed0\", element=\"53195319-c2c6-45c2-aaef-47a02d65d4d1\")>,\n",
       " <selenium.webdriver.remote.webelement.WebElement (session=\"8d4755fbe9e6e1fef5720b4c03c04ed0\", element=\"3cd57f50-2d02-437c-96e0-32e67fb48593\")>,\n",
       " <selenium.webdriver.remote.webelement.WebElement (session=\"8d4755fbe9e6e1fef5720b4c03c04ed0\", element=\"dd0b6635-43e9-4bf4-9da8-6ed3a59dbb0c\")>,\n",
       " <selenium.webdriver.remote.webelement.WebElement (session=\"8d4755fbe9e6e1fef5720b4c03c04ed0\", element=\"9be77ad7-c07a-4b9e-b689-1f6f4e2ccf68\")>,\n",
       " <selenium.webdriver.remote.webelement.WebElement (session=\"8d4755fbe9e6e1fef5720b4c03c04ed0\", element=\"7d55f5b6-d7d6-47d8-a690-a262661a4390\")>]"
      ]
     },
     "execution_count": 201,
     "metadata": {},
     "output_type": "execute_result"
    }
   ],
   "source": [
    "product_price1=driver.find_elements_by_xpath(\"//div[@class='_30jeq3']\")\n",
    "product_price1"
   ]
  },
  {
   "cell_type": "code",
   "execution_count": 202,
   "metadata": {},
   "outputs": [
    {
     "data": {
      "text/plain": [
       "['₹199',\n",
       " '₹369',\n",
       " '₹215',\n",
       " '₹664',\n",
       " '₹349',\n",
       " '₹399',\n",
       " '₹312',\n",
       " '₹664',\n",
       " '₹257',\n",
       " '₹399',\n",
       " '₹239',\n",
       " '₹854',\n",
       " '₹293',\n",
       " '₹284',\n",
       " '₹610',\n",
       " '₹499',\n",
       " '₹334',\n",
       " '₹284',\n",
       " '₹331',\n",
       " '₹499',\n",
       " '₹289',\n",
       " '₹1,239',\n",
       " '₹260',\n",
       " '₹799',\n",
       " '₹398',\n",
       " '₹209',\n",
       " '₹499',\n",
       " '₹664',\n",
       " '₹295',\n",
       " '₹210',\n",
       " '₹295',\n",
       " '₹498',\n",
       " '₹236',\n",
       " '₹499',\n",
       " '₹331',\n",
       " '₹257',\n",
       " '₹345',\n",
       " '₹236',\n",
       " '₹210',\n",
       " '₹269']"
      ]
     },
     "execution_count": 202,
     "metadata": {},
     "output_type": "execute_result"
    }
   ],
   "source": [
    "price1=[]\n",
    "for i in product_price1:\n",
    "    price1.append(i.text)\n",
    "\n",
    "price1"
   ]
  },
  {
   "cell_type": "code",
   "execution_count": 203,
   "metadata": {},
   "outputs": [
    {
     "data": {
      "text/plain": [
       "[<selenium.webdriver.remote.webelement.WebElement (session=\"8d4755fbe9e6e1fef5720b4c03c04ed0\", element=\"2a4f1dbf-3ac3-43a2-89ff-56c1c2835dfa\")>,\n",
       " <selenium.webdriver.remote.webelement.WebElement (session=\"8d4755fbe9e6e1fef5720b4c03c04ed0\", element=\"b62c49fa-5bed-4b5e-9488-887c99f76d35\")>,\n",
       " <selenium.webdriver.remote.webelement.WebElement (session=\"8d4755fbe9e6e1fef5720b4c03c04ed0\", element=\"5560bb75-047b-403e-98aa-b7ff9cbd2ba5\")>,\n",
       " <selenium.webdriver.remote.webelement.WebElement (session=\"8d4755fbe9e6e1fef5720b4c03c04ed0\", element=\"9bb41ab3-4816-4960-b044-1f923b95ee5d\")>,\n",
       " <selenium.webdriver.remote.webelement.WebElement (session=\"8d4755fbe9e6e1fef5720b4c03c04ed0\", element=\"a58801b8-2f82-45ad-a646-5ae6ab15bb19\")>,\n",
       " <selenium.webdriver.remote.webelement.WebElement (session=\"8d4755fbe9e6e1fef5720b4c03c04ed0\", element=\"a978feb2-7d02-4878-ac15-2b9003ddb7e2\")>,\n",
       " <selenium.webdriver.remote.webelement.WebElement (session=\"8d4755fbe9e6e1fef5720b4c03c04ed0\", element=\"7be735bd-f962-4876-9c13-31d3939f9e1a\")>,\n",
       " <selenium.webdriver.remote.webelement.WebElement (session=\"8d4755fbe9e6e1fef5720b4c03c04ed0\", element=\"71ab2cd5-bc36-41a6-b2bf-8618a0f44773\")>,\n",
       " <selenium.webdriver.remote.webelement.WebElement (session=\"8d4755fbe9e6e1fef5720b4c03c04ed0\", element=\"45fabd25-5655-42a8-afed-6894289eab8f\")>,\n",
       " <selenium.webdriver.remote.webelement.WebElement (session=\"8d4755fbe9e6e1fef5720b4c03c04ed0\", element=\"2e38ed09-dbcf-4606-b6c0-fe1e7665efd9\")>,\n",
       " <selenium.webdriver.remote.webelement.WebElement (session=\"8d4755fbe9e6e1fef5720b4c03c04ed0\", element=\"4387b5a3-3990-4cc7-9692-8c2ffe81f0e4\")>,\n",
       " <selenium.webdriver.remote.webelement.WebElement (session=\"8d4755fbe9e6e1fef5720b4c03c04ed0\", element=\"efaba02d-d250-4826-aec1-979d6f54144b\")>,\n",
       " <selenium.webdriver.remote.webelement.WebElement (session=\"8d4755fbe9e6e1fef5720b4c03c04ed0\", element=\"e320167a-f416-414b-aeeb-b4bb648f7d9e\")>,\n",
       " <selenium.webdriver.remote.webelement.WebElement (session=\"8d4755fbe9e6e1fef5720b4c03c04ed0\", element=\"7ea6e1a9-0ddd-47c5-bdf0-58641612e7dc\")>,\n",
       " <selenium.webdriver.remote.webelement.WebElement (session=\"8d4755fbe9e6e1fef5720b4c03c04ed0\", element=\"dc3fbb3e-621b-4f5f-88b1-bf95dd38d942\")>,\n",
       " <selenium.webdriver.remote.webelement.WebElement (session=\"8d4755fbe9e6e1fef5720b4c03c04ed0\", element=\"325e89b2-e5dc-46d3-a9c6-7feae28dfef0\")>,\n",
       " <selenium.webdriver.remote.webelement.WebElement (session=\"8d4755fbe9e6e1fef5720b4c03c04ed0\", element=\"c62906cf-c7fe-4c4e-847c-7e4685db4556\")>,\n",
       " <selenium.webdriver.remote.webelement.WebElement (session=\"8d4755fbe9e6e1fef5720b4c03c04ed0\", element=\"4ff1f658-1b32-4700-b952-900e27b79ff6\")>,\n",
       " <selenium.webdriver.remote.webelement.WebElement (session=\"8d4755fbe9e6e1fef5720b4c03c04ed0\", element=\"fd6851c2-421d-486e-83d7-283b6a610c7f\")>,\n",
       " <selenium.webdriver.remote.webelement.WebElement (session=\"8d4755fbe9e6e1fef5720b4c03c04ed0\", element=\"ee3e7fc9-c55b-43a4-b1e0-3f4bf2a34726\")>,\n",
       " <selenium.webdriver.remote.webelement.WebElement (session=\"8d4755fbe9e6e1fef5720b4c03c04ed0\", element=\"ae35da6a-d3ce-4068-b9cb-4b571f29b9d7\")>,\n",
       " <selenium.webdriver.remote.webelement.WebElement (session=\"8d4755fbe9e6e1fef5720b4c03c04ed0\", element=\"d7a798f9-ee2a-4285-8f0b-7bf641b0bd59\")>,\n",
       " <selenium.webdriver.remote.webelement.WebElement (session=\"8d4755fbe9e6e1fef5720b4c03c04ed0\", element=\"d33d7f20-e71b-492e-bcc4-ae12cfd5696a\")>,\n",
       " <selenium.webdriver.remote.webelement.WebElement (session=\"8d4755fbe9e6e1fef5720b4c03c04ed0\", element=\"63e97137-9dc3-43da-b5a4-659af5a848d7\")>,\n",
       " <selenium.webdriver.remote.webelement.WebElement (session=\"8d4755fbe9e6e1fef5720b4c03c04ed0\", element=\"809c4fd2-525c-4793-835b-88e1698c14d1\")>,\n",
       " <selenium.webdriver.remote.webelement.WebElement (session=\"8d4755fbe9e6e1fef5720b4c03c04ed0\", element=\"a35b84fc-2c7a-4ef5-993f-c0b49699b4cb\")>,\n",
       " <selenium.webdriver.remote.webelement.WebElement (session=\"8d4755fbe9e6e1fef5720b4c03c04ed0\", element=\"ea365d4e-cf5b-4967-8eed-91cc83c1ee55\")>,\n",
       " <selenium.webdriver.remote.webelement.WebElement (session=\"8d4755fbe9e6e1fef5720b4c03c04ed0\", element=\"1fca4cdf-0ab6-41e6-bcc7-4970b2ee769d\")>,\n",
       " <selenium.webdriver.remote.webelement.WebElement (session=\"8d4755fbe9e6e1fef5720b4c03c04ed0\", element=\"c206b52e-10c8-49a4-a9fa-43fc684222a9\")>,\n",
       " <selenium.webdriver.remote.webelement.WebElement (session=\"8d4755fbe9e6e1fef5720b4c03c04ed0\", element=\"c1b7aa81-0e30-4883-b770-ce0546c9c49c\")>,\n",
       " <selenium.webdriver.remote.webelement.WebElement (session=\"8d4755fbe9e6e1fef5720b4c03c04ed0\", element=\"07b92ba3-bf43-4fda-aafa-31f18a966bb5\")>,\n",
       " <selenium.webdriver.remote.webelement.WebElement (session=\"8d4755fbe9e6e1fef5720b4c03c04ed0\", element=\"54cc135b-6c20-4ddd-bab7-e1f5be035897\")>,\n",
       " <selenium.webdriver.remote.webelement.WebElement (session=\"8d4755fbe9e6e1fef5720b4c03c04ed0\", element=\"67f19c41-3905-4d8d-9235-f28119cda32b\")>,\n",
       " <selenium.webdriver.remote.webelement.WebElement (session=\"8d4755fbe9e6e1fef5720b4c03c04ed0\", element=\"7f1b56dd-7c23-4e76-b438-48d78be25ec9\")>,\n",
       " <selenium.webdriver.remote.webelement.WebElement (session=\"8d4755fbe9e6e1fef5720b4c03c04ed0\", element=\"26996506-0eb2-41f4-bf39-7d9a0f0ccc23\")>,\n",
       " <selenium.webdriver.remote.webelement.WebElement (session=\"8d4755fbe9e6e1fef5720b4c03c04ed0\", element=\"904d3177-d318-4c7a-96a3-c234cc2286fe\")>,\n",
       " <selenium.webdriver.remote.webelement.WebElement (session=\"8d4755fbe9e6e1fef5720b4c03c04ed0\", element=\"7ada393c-6789-4d0a-923d-4bb4ba5a9d57\")>,\n",
       " <selenium.webdriver.remote.webelement.WebElement (session=\"8d4755fbe9e6e1fef5720b4c03c04ed0\", element=\"df52ed2b-38e2-4e93-bca6-990d4ceefa89\")>,\n",
       " <selenium.webdriver.remote.webelement.WebElement (session=\"8d4755fbe9e6e1fef5720b4c03c04ed0\", element=\"7dad483e-6f90-464b-8dc8-9809778d72f9\")>,\n",
       " <selenium.webdriver.remote.webelement.WebElement (session=\"8d4755fbe9e6e1fef5720b4c03c04ed0\", element=\"038cb674-5bf5-4b41-92d6-947b210df0e2\")>]"
      ]
     },
     "execution_count": 203,
     "metadata": {},
     "output_type": "execute_result"
    }
   ],
   "source": [
    "product_discount1=driver.find_elements_by_xpath(\"//div[@class='_3Ay6Sb']\")\n",
    "product_discount1"
   ]
  },
  {
   "cell_type": "code",
   "execution_count": 204,
   "metadata": {},
   "outputs": [
    {
     "data": {
      "text/plain": [
       "['84% off',\n",
       " '58% off',\n",
       " '73% off',\n",
       " '66% off',\n",
       " '65% off',\n",
       " '80% off',\n",
       " '87% off',\n",
       " '66% off',\n",
       " '78% off',\n",
       " '84% off',\n",
       " '76% off',\n",
       " '57% off',\n",
       " '82% off',\n",
       " '89% off',\n",
       " '23% off',\n",
       " '66% off',\n",
       " '72% off',\n",
       " '85% off',\n",
       " '79% off',\n",
       " '61% off',\n",
       " '85% off',\n",
       " '4% off',\n",
       " '84% off',\n",
       " '60% off',\n",
       " '73% off',\n",
       " '88% off',\n",
       " '61% off',\n",
       " '66% off',\n",
       " '87% off',\n",
       " '83% off',\n",
       " '85% off',\n",
       " '67% off',\n",
       " '60% off',\n",
       " '37% off',\n",
       " '83% off',\n",
       " '80% off',\n",
       " '72% off',\n",
       " '80% off',\n",
       " '78% off',\n",
       " '77% off']"
      ]
     },
     "execution_count": 204,
     "metadata": {},
     "output_type": "execute_result"
    }
   ],
   "source": [
    "discount1=[]\n",
    "for i in product_discount1:\n",
    "    discount1.append(i.text)\n",
    "\n",
    "discount1"
   ]
  },
  {
   "cell_type": "code",
   "execution_count": 205,
   "metadata": {},
   "outputs": [
    {
     "data": {
      "text/plain": [
       "<selenium.webdriver.remote.webelement.WebElement (session=\"8d4755fbe9e6e1fef5720b4c03c04ed0\", element=\"171b0d62-9e18-4111-bd97-ca2e44827a78\")>"
      ]
     },
     "execution_count": 205,
     "metadata": {},
     "output_type": "execute_result"
    }
   ],
   "source": [
    "next_button1=driver.find_elements_by_xpath('//a[@class=\"_1LKTO3\"]')[-1]\n",
    "next_button1"
   ]
  },
  {
   "cell_type": "code",
   "execution_count": 206,
   "metadata": {},
   "outputs": [],
   "source": [
    "next_button1.click()"
   ]
  },
  {
   "cell_type": "code",
   "execution_count": 207,
   "metadata": {},
   "outputs": [
    {
     "data": {
      "text/plain": [
       "[<selenium.webdriver.remote.webelement.WebElement (session=\"8d4755fbe9e6e1fef5720b4c03c04ed0\", element=\"60b34ea1-7e0a-4c08-9694-3c45dc614dee\")>,\n",
       " <selenium.webdriver.remote.webelement.WebElement (session=\"8d4755fbe9e6e1fef5720b4c03c04ed0\", element=\"c7a171e1-11e2-4fb3-abd5-df955136ba7c\")>,\n",
       " <selenium.webdriver.remote.webelement.WebElement (session=\"8d4755fbe9e6e1fef5720b4c03c04ed0\", element=\"8257adf5-c132-4ba9-9da7-551fa3bb11d3\")>,\n",
       " <selenium.webdriver.remote.webelement.WebElement (session=\"8d4755fbe9e6e1fef5720b4c03c04ed0\", element=\"18817d0b-5e81-40aa-a727-dc4d0553795b\")>,\n",
       " <selenium.webdriver.remote.webelement.WebElement (session=\"8d4755fbe9e6e1fef5720b4c03c04ed0\", element=\"75510b52-b400-4a56-a121-7764a9a499dc\")>,\n",
       " <selenium.webdriver.remote.webelement.WebElement (session=\"8d4755fbe9e6e1fef5720b4c03c04ed0\", element=\"afa6aa88-f877-4f51-aa04-99b72b89d2bb\")>,\n",
       " <selenium.webdriver.remote.webelement.WebElement (session=\"8d4755fbe9e6e1fef5720b4c03c04ed0\", element=\"13ef9e53-9ed3-4928-87b4-32b0198454ad\")>,\n",
       " <selenium.webdriver.remote.webelement.WebElement (session=\"8d4755fbe9e6e1fef5720b4c03c04ed0\", element=\"8f4dfffc-5650-45ca-8643-879baf13c04a\")>,\n",
       " <selenium.webdriver.remote.webelement.WebElement (session=\"8d4755fbe9e6e1fef5720b4c03c04ed0\", element=\"9f327da0-d339-4b13-84f4-e085f5eae8c5\")>,\n",
       " <selenium.webdriver.remote.webelement.WebElement (session=\"8d4755fbe9e6e1fef5720b4c03c04ed0\", element=\"6bebe349-bcb6-4a52-ba67-480ac02206f6\")>,\n",
       " <selenium.webdriver.remote.webelement.WebElement (session=\"8d4755fbe9e6e1fef5720b4c03c04ed0\", element=\"fb3845ea-4b3e-4c72-8a26-12485bba9e8d\")>,\n",
       " <selenium.webdriver.remote.webelement.WebElement (session=\"8d4755fbe9e6e1fef5720b4c03c04ed0\", element=\"05cccbb0-a557-4f3a-a49d-dd368a4e08dc\")>,\n",
       " <selenium.webdriver.remote.webelement.WebElement (session=\"8d4755fbe9e6e1fef5720b4c03c04ed0\", element=\"7b6fecdc-1148-4a67-ba78-59442120b998\")>,\n",
       " <selenium.webdriver.remote.webelement.WebElement (session=\"8d4755fbe9e6e1fef5720b4c03c04ed0\", element=\"c228fecb-c017-4d04-8f92-598c57720a7e\")>,\n",
       " <selenium.webdriver.remote.webelement.WebElement (session=\"8d4755fbe9e6e1fef5720b4c03c04ed0\", element=\"4aa19336-37f7-4d2e-9126-c7ff06a5237c\")>,\n",
       " <selenium.webdriver.remote.webelement.WebElement (session=\"8d4755fbe9e6e1fef5720b4c03c04ed0\", element=\"e59ce136-8e06-443a-93ed-29e8c1f4b7b4\")>,\n",
       " <selenium.webdriver.remote.webelement.WebElement (session=\"8d4755fbe9e6e1fef5720b4c03c04ed0\", element=\"3de42242-4c79-4b81-882b-1976e1f6254c\")>,\n",
       " <selenium.webdriver.remote.webelement.WebElement (session=\"8d4755fbe9e6e1fef5720b4c03c04ed0\", element=\"9d47e20c-2ea3-4ba2-a6e2-fc48452dc79a\")>,\n",
       " <selenium.webdriver.remote.webelement.WebElement (session=\"8d4755fbe9e6e1fef5720b4c03c04ed0\", element=\"acbe2ee8-9c1b-4b30-a793-6a04256d0d93\")>,\n",
       " <selenium.webdriver.remote.webelement.WebElement (session=\"8d4755fbe9e6e1fef5720b4c03c04ed0\", element=\"8f6f10a4-262a-45e7-b38a-4330c10a1a11\")>,\n",
       " <selenium.webdriver.remote.webelement.WebElement (session=\"8d4755fbe9e6e1fef5720b4c03c04ed0\", element=\"b0a0a16a-b47e-44b7-8f8c-dad97e3b386b\")>,\n",
       " <selenium.webdriver.remote.webelement.WebElement (session=\"8d4755fbe9e6e1fef5720b4c03c04ed0\", element=\"0bac8b59-65fe-4a99-a290-e791a12832c1\")>,\n",
       " <selenium.webdriver.remote.webelement.WebElement (session=\"8d4755fbe9e6e1fef5720b4c03c04ed0\", element=\"8b5ffe13-259d-4cd1-9831-4955a197cac5\")>,\n",
       " <selenium.webdriver.remote.webelement.WebElement (session=\"8d4755fbe9e6e1fef5720b4c03c04ed0\", element=\"f4a7400c-6f3d-4a7d-8af1-03cd6a465283\")>,\n",
       " <selenium.webdriver.remote.webelement.WebElement (session=\"8d4755fbe9e6e1fef5720b4c03c04ed0\", element=\"ef1b4289-6f66-4287-835c-28ec80ff36ec\")>,\n",
       " <selenium.webdriver.remote.webelement.WebElement (session=\"8d4755fbe9e6e1fef5720b4c03c04ed0\", element=\"2d0c798c-850b-4d71-82bb-6f4af16ce41d\")>,\n",
       " <selenium.webdriver.remote.webelement.WebElement (session=\"8d4755fbe9e6e1fef5720b4c03c04ed0\", element=\"90b02981-4d1b-4730-b932-bbce3ca29b65\")>,\n",
       " <selenium.webdriver.remote.webelement.WebElement (session=\"8d4755fbe9e6e1fef5720b4c03c04ed0\", element=\"51cb4e75-6311-4f32-a15a-86a47c6e6a0a\")>,\n",
       " <selenium.webdriver.remote.webelement.WebElement (session=\"8d4755fbe9e6e1fef5720b4c03c04ed0\", element=\"fd67d7cf-af7c-4771-8d36-bb4a5ead82fb\")>,\n",
       " <selenium.webdriver.remote.webelement.WebElement (session=\"8d4755fbe9e6e1fef5720b4c03c04ed0\", element=\"fc4c20f6-3325-4bdc-b152-d6f3bbe004db\")>,\n",
       " <selenium.webdriver.remote.webelement.WebElement (session=\"8d4755fbe9e6e1fef5720b4c03c04ed0\", element=\"8ca6d22d-1990-4678-b206-5f31120e6633\")>,\n",
       " <selenium.webdriver.remote.webelement.WebElement (session=\"8d4755fbe9e6e1fef5720b4c03c04ed0\", element=\"7092bc33-7f1e-4c87-bbd0-d9d881296592\")>,\n",
       " <selenium.webdriver.remote.webelement.WebElement (session=\"8d4755fbe9e6e1fef5720b4c03c04ed0\", element=\"57381012-3425-415b-b992-2b94fcddf9e4\")>,\n",
       " <selenium.webdriver.remote.webelement.WebElement (session=\"8d4755fbe9e6e1fef5720b4c03c04ed0\", element=\"9cea3924-4dbe-4025-a8cc-882f3ee2a10a\")>,\n",
       " <selenium.webdriver.remote.webelement.WebElement (session=\"8d4755fbe9e6e1fef5720b4c03c04ed0\", element=\"214185c7-f397-41f9-86bb-bab39529e167\")>,\n",
       " <selenium.webdriver.remote.webelement.WebElement (session=\"8d4755fbe9e6e1fef5720b4c03c04ed0\", element=\"43f45a7b-1b85-4303-bf13-afcc93923e05\")>,\n",
       " <selenium.webdriver.remote.webelement.WebElement (session=\"8d4755fbe9e6e1fef5720b4c03c04ed0\", element=\"81fded3d-0f62-41a3-b636-0cb47a9f28b6\")>,\n",
       " <selenium.webdriver.remote.webelement.WebElement (session=\"8d4755fbe9e6e1fef5720b4c03c04ed0\", element=\"0f51042c-87e3-48fe-9261-d09d9794d00e\")>,\n",
       " <selenium.webdriver.remote.webelement.WebElement (session=\"8d4755fbe9e6e1fef5720b4c03c04ed0\", element=\"3102e20e-9a09-4bfb-9122-f2f9d9eccfdf\")>,\n",
       " <selenium.webdriver.remote.webelement.WebElement (session=\"8d4755fbe9e6e1fef5720b4c03c04ed0\", element=\"120e4c23-97ae-401f-b485-c9fe4ce070e5\")>]"
      ]
     },
     "execution_count": 207,
     "metadata": {},
     "output_type": "execute_result"
    }
   ],
   "source": [
    "brand_name2=driver.find_elements_by_xpath(\"//div[@class='_2WkVRV']\")\n",
    "brand_name2"
   ]
  },
  {
   "cell_type": "code",
   "execution_count": 208,
   "metadata": {},
   "outputs": [
    {
     "data": {
      "text/plain": [
       "['ROYAL SON',\n",
       " 'kingsunglasses',\n",
       " 'Silver Kartz',\n",
       " 'ROYAL SON',\n",
       " 'Elligator',\n",
       " 'PHENOMENAL',\n",
       " 'Singco India',\n",
       " 'NuVew',\n",
       " 'Rich Club',\n",
       " 'ROZZETTA CRAFT',\n",
       " 'Fastrack',\n",
       " 'ROYAL SON',\n",
       " 'Fravy',\n",
       " 'Badfella',\n",
       " 'ROZZETTA CRAFT',\n",
       " 'agera',\n",
       " 'SUNBEE',\n",
       " 'SUNBEE',\n",
       " 'NuVew',\n",
       " 'ROYAL SON',\n",
       " 'PIRASO',\n",
       " 'Fastrack',\n",
       " 'PIRASO',\n",
       " 'DEIXELS',\n",
       " 'ROYAL SON',\n",
       " 'GANSTA',\n",
       " 'hipe',\n",
       " 'GANSTA',\n",
       " 'AISLIN',\n",
       " 'ROYAL SON',\n",
       " 'Fastrack',\n",
       " 'ROYAL SON',\n",
       " 'AISLIN',\n",
       " 'Fastrack',\n",
       " 'kingsunglasses',\n",
       " 'DEIXELS',\n",
       " 'ROYAL SON',\n",
       " 'PHENOMENAL',\n",
       " 'elegante',\n",
       " 'DEIXELS']"
      ]
     },
     "execution_count": 208,
     "metadata": {},
     "output_type": "execute_result"
    }
   ],
   "source": [
    "brand_titles2=[]\n",
    "for i in brand_name2:\n",
    "    brand_titles2.append(i.text)\n",
    "\n",
    "brand_titles2"
   ]
  },
  {
   "cell_type": "code",
   "execution_count": 209,
   "metadata": {},
   "outputs": [
    {
     "data": {
      "text/plain": [
       "[<selenium.webdriver.remote.webelement.WebElement (session=\"8d4755fbe9e6e1fef5720b4c03c04ed0\", element=\"cfac17aa-0962-4ba4-a0cd-6ed8ee8cf69c\")>,\n",
       " <selenium.webdriver.remote.webelement.WebElement (session=\"8d4755fbe9e6e1fef5720b4c03c04ed0\", element=\"4364fefb-67ba-496c-a0d7-abe929fe4826\")>,\n",
       " <selenium.webdriver.remote.webelement.WebElement (session=\"8d4755fbe9e6e1fef5720b4c03c04ed0\", element=\"eb320c9c-f933-4c7a-961e-8d29668f89b5\")>,\n",
       " <selenium.webdriver.remote.webelement.WebElement (session=\"8d4755fbe9e6e1fef5720b4c03c04ed0\", element=\"88d9d277-d8d0-4bf2-8ba6-5b735eff8ebc\")>,\n",
       " <selenium.webdriver.remote.webelement.WebElement (session=\"8d4755fbe9e6e1fef5720b4c03c04ed0\", element=\"99d8f182-4947-454f-a754-6d3fe5e790ba\")>,\n",
       " <selenium.webdriver.remote.webelement.WebElement (session=\"8d4755fbe9e6e1fef5720b4c03c04ed0\", element=\"56f4a3d8-6bed-4f41-a40f-be3905bb3234\")>,\n",
       " <selenium.webdriver.remote.webelement.WebElement (session=\"8d4755fbe9e6e1fef5720b4c03c04ed0\", element=\"6bc4dd2f-423f-4017-834d-c2e51d098fca\")>,\n",
       " <selenium.webdriver.remote.webelement.WebElement (session=\"8d4755fbe9e6e1fef5720b4c03c04ed0\", element=\"24940131-fe8c-4911-b593-2276e23d5ce0\")>,\n",
       " <selenium.webdriver.remote.webelement.WebElement (session=\"8d4755fbe9e6e1fef5720b4c03c04ed0\", element=\"4d026322-0565-4c36-a056-2f0dd401158c\")>,\n",
       " <selenium.webdriver.remote.webelement.WebElement (session=\"8d4755fbe9e6e1fef5720b4c03c04ed0\", element=\"9f37bd73-d278-4264-aa31-7cf062c6814c\")>,\n",
       " <selenium.webdriver.remote.webelement.WebElement (session=\"8d4755fbe9e6e1fef5720b4c03c04ed0\", element=\"27b09b02-ce41-4671-8385-d887341dcbab\")>,\n",
       " <selenium.webdriver.remote.webelement.WebElement (session=\"8d4755fbe9e6e1fef5720b4c03c04ed0\", element=\"64b5290c-3052-439e-bae6-93e5dd378451\")>,\n",
       " <selenium.webdriver.remote.webelement.WebElement (session=\"8d4755fbe9e6e1fef5720b4c03c04ed0\", element=\"82ab5772-2918-42f0-ad5d-552e628d58fe\")>,\n",
       " <selenium.webdriver.remote.webelement.WebElement (session=\"8d4755fbe9e6e1fef5720b4c03c04ed0\", element=\"d9ecbe08-dc79-4fc4-9476-7761dc4fc49c\")>,\n",
       " <selenium.webdriver.remote.webelement.WebElement (session=\"8d4755fbe9e6e1fef5720b4c03c04ed0\", element=\"2a373d5b-617f-49a7-8438-971014f84734\")>,\n",
       " <selenium.webdriver.remote.webelement.WebElement (session=\"8d4755fbe9e6e1fef5720b4c03c04ed0\", element=\"c16b29c4-5d1c-4ec5-a265-50de30601e9e\")>,\n",
       " <selenium.webdriver.remote.webelement.WebElement (session=\"8d4755fbe9e6e1fef5720b4c03c04ed0\", element=\"70b249e5-0a4a-43f7-97c8-4f564e931950\")>,\n",
       " <selenium.webdriver.remote.webelement.WebElement (session=\"8d4755fbe9e6e1fef5720b4c03c04ed0\", element=\"64553d2f-4d8c-4636-af6d-c596b1ecd7b3\")>,\n",
       " <selenium.webdriver.remote.webelement.WebElement (session=\"8d4755fbe9e6e1fef5720b4c03c04ed0\", element=\"73b0714e-f625-4ec5-8770-2b0ae4bcc132\")>,\n",
       " <selenium.webdriver.remote.webelement.WebElement (session=\"8d4755fbe9e6e1fef5720b4c03c04ed0\", element=\"3eddd46e-993d-437a-8a23-43922347bcc2\")>,\n",
       " <selenium.webdriver.remote.webelement.WebElement (session=\"8d4755fbe9e6e1fef5720b4c03c04ed0\", element=\"8bc72861-c23a-415f-9a65-9c96be8df142\")>,\n",
       " <selenium.webdriver.remote.webelement.WebElement (session=\"8d4755fbe9e6e1fef5720b4c03c04ed0\", element=\"87e14239-5bfc-4fd9-8760-101042eda301\")>,\n",
       " <selenium.webdriver.remote.webelement.WebElement (session=\"8d4755fbe9e6e1fef5720b4c03c04ed0\", element=\"e331bb96-5003-4fb7-8980-8d7e5c7fe7dc\")>,\n",
       " <selenium.webdriver.remote.webelement.WebElement (session=\"8d4755fbe9e6e1fef5720b4c03c04ed0\", element=\"3abdc942-7e42-4de4-9a10-bafeb1d35251\")>,\n",
       " <selenium.webdriver.remote.webelement.WebElement (session=\"8d4755fbe9e6e1fef5720b4c03c04ed0\", element=\"6280bc1a-4b32-45f3-bd82-414809da1698\")>,\n",
       " <selenium.webdriver.remote.webelement.WebElement (session=\"8d4755fbe9e6e1fef5720b4c03c04ed0\", element=\"30ee5922-cd0e-4be3-b228-0ad58c25940f\")>,\n",
       " <selenium.webdriver.remote.webelement.WebElement (session=\"8d4755fbe9e6e1fef5720b4c03c04ed0\", element=\"2ee41830-b26e-444a-99ee-df1d209fed4f\")>,\n",
       " <selenium.webdriver.remote.webelement.WebElement (session=\"8d4755fbe9e6e1fef5720b4c03c04ed0\", element=\"c937cc3c-fa0e-4d7d-b988-1cf215b46e00\")>,\n",
       " <selenium.webdriver.remote.webelement.WebElement (session=\"8d4755fbe9e6e1fef5720b4c03c04ed0\", element=\"fdea6101-4ea6-4a91-a5d5-94050d072b41\")>,\n",
       " <selenium.webdriver.remote.webelement.WebElement (session=\"8d4755fbe9e6e1fef5720b4c03c04ed0\", element=\"c6543e6b-bd58-456d-8e21-4305dbcef6dc\")>,\n",
       " <selenium.webdriver.remote.webelement.WebElement (session=\"8d4755fbe9e6e1fef5720b4c03c04ed0\", element=\"442e1ff7-14c2-4d9d-bb07-a01ceee0cc8d\")>,\n",
       " <selenium.webdriver.remote.webelement.WebElement (session=\"8d4755fbe9e6e1fef5720b4c03c04ed0\", element=\"b7e8f964-024f-4423-93da-a6479f305f5b\")>,\n",
       " <selenium.webdriver.remote.webelement.WebElement (session=\"8d4755fbe9e6e1fef5720b4c03c04ed0\", element=\"ec77f63a-3423-4270-afbb-27f3ad557fd1\")>,\n",
       " <selenium.webdriver.remote.webelement.WebElement (session=\"8d4755fbe9e6e1fef5720b4c03c04ed0\", element=\"aa91c8e5-4830-4280-b0e1-0e4ccd6605c9\")>,\n",
       " <selenium.webdriver.remote.webelement.WebElement (session=\"8d4755fbe9e6e1fef5720b4c03c04ed0\", element=\"6addee80-7ff3-45e6-a779-983e3ccbcce3\")>,\n",
       " <selenium.webdriver.remote.webelement.WebElement (session=\"8d4755fbe9e6e1fef5720b4c03c04ed0\", element=\"1e06293b-f212-4315-96dd-86dc5b846908\")>,\n",
       " <selenium.webdriver.remote.webelement.WebElement (session=\"8d4755fbe9e6e1fef5720b4c03c04ed0\", element=\"c2768aba-8245-4c4a-a0d9-de2a51e45afc\")>,\n",
       " <selenium.webdriver.remote.webelement.WebElement (session=\"8d4755fbe9e6e1fef5720b4c03c04ed0\", element=\"aa5cc4b1-39bd-42ea-86ba-d1cd0e671633\")>,\n",
       " <selenium.webdriver.remote.webelement.WebElement (session=\"8d4755fbe9e6e1fef5720b4c03c04ed0\", element=\"ec8f97ba-c53a-4010-9a98-dcf38ffc7e93\")>,\n",
       " <selenium.webdriver.remote.webelement.WebElement (session=\"8d4755fbe9e6e1fef5720b4c03c04ed0\", element=\"2f6ec83d-ade4-41ff-8bf6-60802268959c\")>]"
      ]
     },
     "execution_count": 209,
     "metadata": {},
     "output_type": "execute_result"
    }
   ],
   "source": [
    "product_description2=driver.find_elements_by_xpath(\"//a[@class='IRpwTa']\")\n",
    "product_description2"
   ]
  },
  {
   "cell_type": "code",
   "execution_count": 210,
   "metadata": {},
   "outputs": [
    {
     "data": {
      "text/plain": [
       "['UV Protection Wayfarer Sunglasses (55)',\n",
       " 'UV Protection, Riding Glasses, Mirrored Wayfarer Sungla...',\n",
       " 'UV Protection Oval Sunglasses (56)',\n",
       " 'Mirrored Aviator Sunglasses (Free Size)',\n",
       " 'UV Protection, Riding Glasses Rectangular, Retro Square...',\n",
       " 'UV Protection Clubmaster Sunglasses (Free Size)',\n",
       " 'UV Protection, Riding Glasses, Others Aviator, Wayfarer...',\n",
       " 'UV Protection Cat-eye Sunglasses (60)',\n",
       " 'UV Protection, Others Round Sunglasses (48)',\n",
       " 'UV Protection, Gradient Retro Square Sunglasses (Free S...',\n",
       " 'UV Protection Wayfarer Sunglasses (Free Size)',\n",
       " 'UV Protection, Polarized Aviator Sunglasses (60)',\n",
       " 'UV Protection Retro Square Sunglasses (Free Size)',\n",
       " 'Polarized, UV Protection Retro Square Sunglasses (53)',\n",
       " 'Gradient, UV Protection Round Sunglasses (Free Size)',\n",
       " 'Gradient Aviator Sunglasses (55)',\n",
       " 'UV Protection, Polarized, Mirrored Wayfarer Sunglasses ...',\n",
       " 'UV Protection, Polarized, Mirrored Wayfarer Sunglasses ...',\n",
       " 'UV Protection Aviator Sunglasses (58)',\n",
       " 'UV Protection Rectangular Sunglasses (55)',\n",
       " 'UV Protection Aviator Sunglasses (Free Size)',\n",
       " 'UV Protection Aviator Sunglasses (Free Size)',\n",
       " 'UV Protection, Polarized Aviator Sunglasses (32)',\n",
       " 'UV Protection Rectangular Sunglasses (Free Size)',\n",
       " 'Polarized, UV Protection Rectangular Sunglasses (59)',\n",
       " 'UV Protection, Mirrored Wayfarer Sunglasses (53)',\n",
       " 'UV Protection Sports Sunglasses (Free Size)',\n",
       " 'UV Protection, Gradient, Riding Glasses Wayfarer Sungla...',\n",
       " 'UV Protection, Gradient Butterfly, Retro Square Sunglas...',\n",
       " 'UV Protection Over-sized Sunglasses (60)',\n",
       " 'Mirrored, UV Protection Wayfarer Sunglasses (Free Size)',\n",
       " 'Mirrored Aviator Sunglasses (Free Size)',\n",
       " 'UV Protection, Gradient Oval Sunglasses (58)',\n",
       " 'UV Protection Shield Sunglasses (Free Size)',\n",
       " 'UV Protection Rectangular Sunglasses (Free Size)',\n",
       " 'UV Protection Oval Sunglasses (Free Size)',\n",
       " 'UV Protection Retro Square Sunglasses (88)',\n",
       " 'UV Protection, Mirrored Round Sunglasses (Free Size)',\n",
       " 'Mirrored Round Sunglasses (Free Size)',\n",
       " 'UV Protection Clubmaster Sunglasses (Free Size)']"
      ]
     },
     "execution_count": 210,
     "metadata": {},
     "output_type": "execute_result"
    }
   ],
   "source": [
    "description2=[]\n",
    "for i in product_description2:\n",
    "    description2.append(i.text)\n",
    "\n",
    "description2"
   ]
  },
  {
   "cell_type": "code",
   "execution_count": 211,
   "metadata": {},
   "outputs": [
    {
     "data": {
      "text/plain": [
       "[<selenium.webdriver.remote.webelement.WebElement (session=\"8d4755fbe9e6e1fef5720b4c03c04ed0\", element=\"290ac4f4-8dcf-4604-ad08-7f1ce23cdb0f\")>,\n",
       " <selenium.webdriver.remote.webelement.WebElement (session=\"8d4755fbe9e6e1fef5720b4c03c04ed0\", element=\"3a7138d2-e7ad-4840-b631-affceb810d76\")>,\n",
       " <selenium.webdriver.remote.webelement.WebElement (session=\"8d4755fbe9e6e1fef5720b4c03c04ed0\", element=\"8a39a634-b716-4d31-9cf8-5e718b2c9c88\")>,\n",
       " <selenium.webdriver.remote.webelement.WebElement (session=\"8d4755fbe9e6e1fef5720b4c03c04ed0\", element=\"397404c2-3130-4b69-9088-3ff8bad2be66\")>,\n",
       " <selenium.webdriver.remote.webelement.WebElement (session=\"8d4755fbe9e6e1fef5720b4c03c04ed0\", element=\"be56b9ca-9869-4a59-945b-3dec73927213\")>,\n",
       " <selenium.webdriver.remote.webelement.WebElement (session=\"8d4755fbe9e6e1fef5720b4c03c04ed0\", element=\"123f7a51-54d2-4bd6-a375-e722de0711ec\")>,\n",
       " <selenium.webdriver.remote.webelement.WebElement (session=\"8d4755fbe9e6e1fef5720b4c03c04ed0\", element=\"73c63b6b-5526-4b34-a817-f391d0a5e746\")>,\n",
       " <selenium.webdriver.remote.webelement.WebElement (session=\"8d4755fbe9e6e1fef5720b4c03c04ed0\", element=\"85a5804b-f3b5-4528-b486-89cf77537700\")>,\n",
       " <selenium.webdriver.remote.webelement.WebElement (session=\"8d4755fbe9e6e1fef5720b4c03c04ed0\", element=\"cdecfb43-473f-4d22-a05a-1f6b3ee75bdd\")>,\n",
       " <selenium.webdriver.remote.webelement.WebElement (session=\"8d4755fbe9e6e1fef5720b4c03c04ed0\", element=\"f8143db2-238e-4636-b718-6722482dd231\")>,\n",
       " <selenium.webdriver.remote.webelement.WebElement (session=\"8d4755fbe9e6e1fef5720b4c03c04ed0\", element=\"a1aa07b4-c74e-4d3d-b5ab-1ade9ed073fc\")>,\n",
       " <selenium.webdriver.remote.webelement.WebElement (session=\"8d4755fbe9e6e1fef5720b4c03c04ed0\", element=\"a5b78b7e-e1ca-4827-ba13-4e682547fcd6\")>,\n",
       " <selenium.webdriver.remote.webelement.WebElement (session=\"8d4755fbe9e6e1fef5720b4c03c04ed0\", element=\"80567235-53f0-4e64-a976-e9dd9da4f9bd\")>,\n",
       " <selenium.webdriver.remote.webelement.WebElement (session=\"8d4755fbe9e6e1fef5720b4c03c04ed0\", element=\"3e92908e-e5fb-4d5e-9296-cd31971a60d7\")>,\n",
       " <selenium.webdriver.remote.webelement.WebElement (session=\"8d4755fbe9e6e1fef5720b4c03c04ed0\", element=\"41f1457b-cc86-4f7f-b456-831ee1117a7a\")>,\n",
       " <selenium.webdriver.remote.webelement.WebElement (session=\"8d4755fbe9e6e1fef5720b4c03c04ed0\", element=\"e09eb324-78ab-4d89-9f5c-00296722a275\")>,\n",
       " <selenium.webdriver.remote.webelement.WebElement (session=\"8d4755fbe9e6e1fef5720b4c03c04ed0\", element=\"e1af92c6-82fc-46de-a710-1658876e750d\")>,\n",
       " <selenium.webdriver.remote.webelement.WebElement (session=\"8d4755fbe9e6e1fef5720b4c03c04ed0\", element=\"e18933c6-eeda-4592-b047-4ab3663696d1\")>,\n",
       " <selenium.webdriver.remote.webelement.WebElement (session=\"8d4755fbe9e6e1fef5720b4c03c04ed0\", element=\"7ced9d7c-c05f-4836-97fc-75c515a2f768\")>,\n",
       " <selenium.webdriver.remote.webelement.WebElement (session=\"8d4755fbe9e6e1fef5720b4c03c04ed0\", element=\"f2577055-aff1-40e4-9b33-a1fae228517d\")>,\n",
       " <selenium.webdriver.remote.webelement.WebElement (session=\"8d4755fbe9e6e1fef5720b4c03c04ed0\", element=\"0e18ce71-1e23-405c-b6b0-344a7d101ab4\")>,\n",
       " <selenium.webdriver.remote.webelement.WebElement (session=\"8d4755fbe9e6e1fef5720b4c03c04ed0\", element=\"f8b184a8-c70e-4f7f-b811-e8a88401ff80\")>,\n",
       " <selenium.webdriver.remote.webelement.WebElement (session=\"8d4755fbe9e6e1fef5720b4c03c04ed0\", element=\"85538938-4291-4dcf-a19d-9975254a08d8\")>,\n",
       " <selenium.webdriver.remote.webelement.WebElement (session=\"8d4755fbe9e6e1fef5720b4c03c04ed0\", element=\"06a66fc1-c0be-4794-9783-795d57dcebea\")>,\n",
       " <selenium.webdriver.remote.webelement.WebElement (session=\"8d4755fbe9e6e1fef5720b4c03c04ed0\", element=\"de07027d-8acd-4887-ae0a-daa05a276904\")>,\n",
       " <selenium.webdriver.remote.webelement.WebElement (session=\"8d4755fbe9e6e1fef5720b4c03c04ed0\", element=\"b8295a28-436e-4ca7-b919-e630072d37e3\")>,\n",
       " <selenium.webdriver.remote.webelement.WebElement (session=\"8d4755fbe9e6e1fef5720b4c03c04ed0\", element=\"63112fa5-3eb8-422a-8a63-4c2e8f953dd9\")>,\n",
       " <selenium.webdriver.remote.webelement.WebElement (session=\"8d4755fbe9e6e1fef5720b4c03c04ed0\", element=\"b0c9d310-ecc7-4dc7-8318-2671c0bf8e4c\")>,\n",
       " <selenium.webdriver.remote.webelement.WebElement (session=\"8d4755fbe9e6e1fef5720b4c03c04ed0\", element=\"aff1586f-02ee-4b1a-a8bd-0c0ecee8f29a\")>,\n",
       " <selenium.webdriver.remote.webelement.WebElement (session=\"8d4755fbe9e6e1fef5720b4c03c04ed0\", element=\"29701382-198d-4fcf-81f4-0c2461dcce5c\")>,\n",
       " <selenium.webdriver.remote.webelement.WebElement (session=\"8d4755fbe9e6e1fef5720b4c03c04ed0\", element=\"93e60cb6-ac7d-49b9-bce3-b40cd16c4498\")>,\n",
       " <selenium.webdriver.remote.webelement.WebElement (session=\"8d4755fbe9e6e1fef5720b4c03c04ed0\", element=\"b642958d-2761-472e-96f7-191c845a9853\")>,\n",
       " <selenium.webdriver.remote.webelement.WebElement (session=\"8d4755fbe9e6e1fef5720b4c03c04ed0\", element=\"3dec0a8e-80df-46ed-8725-d80cb87bd1aa\")>,\n",
       " <selenium.webdriver.remote.webelement.WebElement (session=\"8d4755fbe9e6e1fef5720b4c03c04ed0\", element=\"7780392c-50ca-4a24-9505-5ba98bfb7e2a\")>,\n",
       " <selenium.webdriver.remote.webelement.WebElement (session=\"8d4755fbe9e6e1fef5720b4c03c04ed0\", element=\"f41fe1b6-c4b4-478c-8723-c10c6bf5c3d3\")>,\n",
       " <selenium.webdriver.remote.webelement.WebElement (session=\"8d4755fbe9e6e1fef5720b4c03c04ed0\", element=\"5fd7e34d-5b4b-4a9e-b6a1-a51fefd9f0f9\")>,\n",
       " <selenium.webdriver.remote.webelement.WebElement (session=\"8d4755fbe9e6e1fef5720b4c03c04ed0\", element=\"85aa43e0-d4bf-4ee5-80ee-b62f3e689290\")>,\n",
       " <selenium.webdriver.remote.webelement.WebElement (session=\"8d4755fbe9e6e1fef5720b4c03c04ed0\", element=\"94a9200c-44aa-4a6d-8b9b-dabfcb6a1d1a\")>,\n",
       " <selenium.webdriver.remote.webelement.WebElement (session=\"8d4755fbe9e6e1fef5720b4c03c04ed0\", element=\"0663d2fa-bf26-4b07-b92a-8a368c63078e\")>,\n",
       " <selenium.webdriver.remote.webelement.WebElement (session=\"8d4755fbe9e6e1fef5720b4c03c04ed0\", element=\"ad159019-bda2-488a-ab0f-9e9cd2c0838d\")>]"
      ]
     },
     "execution_count": 211,
     "metadata": {},
     "output_type": "execute_result"
    }
   ],
   "source": [
    "product_price2=driver.find_elements_by_xpath(\"//div[@class='_30jeq3']\")\n",
    "product_price2"
   ]
  },
  {
   "cell_type": "code",
   "execution_count": 212,
   "metadata": {},
   "outputs": [
    {
     "data": {
      "text/plain": [
       "['₹248',\n",
       " '₹217',\n",
       " '₹284',\n",
       " '₹399',\n",
       " '₹398',\n",
       " '₹319',\n",
       " '₹225',\n",
       " '₹403',\n",
       " '₹299',\n",
       " '₹449',\n",
       " '₹854',\n",
       " '₹711',\n",
       " '₹299',\n",
       " '₹269',\n",
       " '₹449',\n",
       " '₹236',\n",
       " '₹284',\n",
       " '₹314',\n",
       " '₹202',\n",
       " '₹499',\n",
       " '₹331',\n",
       " '₹695',\n",
       " '₹208',\n",
       " '₹364',\n",
       " '₹664',\n",
       " '₹221',\n",
       " '₹319',\n",
       " '₹341',\n",
       " '₹498',\n",
       " '₹664',\n",
       " '₹959',\n",
       " '₹399',\n",
       " '₹498',\n",
       " '₹859',\n",
       " '₹197',\n",
       " '₹284',\n",
       " '₹569',\n",
       " '₹228',\n",
       " '₹399',\n",
       " '₹217']"
      ]
     },
     "execution_count": 212,
     "metadata": {},
     "output_type": "execute_result"
    }
   ],
   "source": [
    "price2=[]\n",
    "for i in product_price2:\n",
    "    price2.append(i.text)\n",
    "\n",
    "price2"
   ]
  },
  {
   "cell_type": "code",
   "execution_count": 213,
   "metadata": {},
   "outputs": [
    {
     "data": {
      "text/plain": [
       "[<selenium.webdriver.remote.webelement.WebElement (session=\"8d4755fbe9e6e1fef5720b4c03c04ed0\", element=\"052c208e-c749-4501-97b2-78ce80843c1a\")>,\n",
       " <selenium.webdriver.remote.webelement.WebElement (session=\"8d4755fbe9e6e1fef5720b4c03c04ed0\", element=\"226e3091-e228-4e4b-ae22-973f306a318a\")>,\n",
       " <selenium.webdriver.remote.webelement.WebElement (session=\"8d4755fbe9e6e1fef5720b4c03c04ed0\", element=\"038bb7d3-41c4-4fbf-9df8-57faf901bf34\")>,\n",
       " <selenium.webdriver.remote.webelement.WebElement (session=\"8d4755fbe9e6e1fef5720b4c03c04ed0\", element=\"326bae23-4f29-4972-b0cd-bb71487efb94\")>,\n",
       " <selenium.webdriver.remote.webelement.WebElement (session=\"8d4755fbe9e6e1fef5720b4c03c04ed0\", element=\"eecc44e3-2153-4eb6-bde2-d2d4f16ff29e\")>,\n",
       " <selenium.webdriver.remote.webelement.WebElement (session=\"8d4755fbe9e6e1fef5720b4c03c04ed0\", element=\"ac803e96-0367-4ddc-99b4-8e2876b27d0a\")>,\n",
       " <selenium.webdriver.remote.webelement.WebElement (session=\"8d4755fbe9e6e1fef5720b4c03c04ed0\", element=\"182eedd6-95e8-4350-b7a8-a8e25f9cecd1\")>,\n",
       " <selenium.webdriver.remote.webelement.WebElement (session=\"8d4755fbe9e6e1fef5720b4c03c04ed0\", element=\"597354ad-1a09-4aca-ade8-306cb675cbcd\")>,\n",
       " <selenium.webdriver.remote.webelement.WebElement (session=\"8d4755fbe9e6e1fef5720b4c03c04ed0\", element=\"8c97f323-02ea-496b-8bc6-f74849566e8e\")>,\n",
       " <selenium.webdriver.remote.webelement.WebElement (session=\"8d4755fbe9e6e1fef5720b4c03c04ed0\", element=\"4c2b09ba-131c-4048-953d-3b6fa4f3c7a0\")>,\n",
       " <selenium.webdriver.remote.webelement.WebElement (session=\"8d4755fbe9e6e1fef5720b4c03c04ed0\", element=\"30219709-bd75-4b61-98fc-1bb7108b8cde\")>,\n",
       " <selenium.webdriver.remote.webelement.WebElement (session=\"8d4755fbe9e6e1fef5720b4c03c04ed0\", element=\"3c90e0cd-e01d-4b01-a312-a26a05373c09\")>,\n",
       " <selenium.webdriver.remote.webelement.WebElement (session=\"8d4755fbe9e6e1fef5720b4c03c04ed0\", element=\"c3d4f2cc-f1cd-49a3-ad27-a9de1a9a0c4a\")>,\n",
       " <selenium.webdriver.remote.webelement.WebElement (session=\"8d4755fbe9e6e1fef5720b4c03c04ed0\", element=\"9212f425-21c9-4c23-8f56-17b557fe7f5e\")>,\n",
       " <selenium.webdriver.remote.webelement.WebElement (session=\"8d4755fbe9e6e1fef5720b4c03c04ed0\", element=\"4e4c5689-bbe2-4754-97b1-08ef5d4ac661\")>,\n",
       " <selenium.webdriver.remote.webelement.WebElement (session=\"8d4755fbe9e6e1fef5720b4c03c04ed0\", element=\"f47d2604-5902-4e70-a604-fb54f44c04da\")>,\n",
       " <selenium.webdriver.remote.webelement.WebElement (session=\"8d4755fbe9e6e1fef5720b4c03c04ed0\", element=\"8918ce51-0806-4c04-a292-2c545138d084\")>,\n",
       " <selenium.webdriver.remote.webelement.WebElement (session=\"8d4755fbe9e6e1fef5720b4c03c04ed0\", element=\"ed4d6166-c35b-4a9f-be15-54e923ffa2c9\")>,\n",
       " <selenium.webdriver.remote.webelement.WebElement (session=\"8d4755fbe9e6e1fef5720b4c03c04ed0\", element=\"cd877c81-5bda-4b47-aa56-36e687b2f371\")>,\n",
       " <selenium.webdriver.remote.webelement.WebElement (session=\"8d4755fbe9e6e1fef5720b4c03c04ed0\", element=\"c8a8cf9e-7137-4275-9e40-b2a2d91a793e\")>,\n",
       " <selenium.webdriver.remote.webelement.WebElement (session=\"8d4755fbe9e6e1fef5720b4c03c04ed0\", element=\"3a3c1d43-460b-4147-b735-30ba4a394256\")>,\n",
       " <selenium.webdriver.remote.webelement.WebElement (session=\"8d4755fbe9e6e1fef5720b4c03c04ed0\", element=\"c7933c53-4ff8-41f3-9409-08ed9365ff96\")>,\n",
       " <selenium.webdriver.remote.webelement.WebElement (session=\"8d4755fbe9e6e1fef5720b4c03c04ed0\", element=\"ac4644a0-af9d-4a18-a2e8-89b6b988afb9\")>,\n",
       " <selenium.webdriver.remote.webelement.WebElement (session=\"8d4755fbe9e6e1fef5720b4c03c04ed0\", element=\"5c45105b-f4d3-4620-9581-7b94d82aa6c3\")>,\n",
       " <selenium.webdriver.remote.webelement.WebElement (session=\"8d4755fbe9e6e1fef5720b4c03c04ed0\", element=\"1308e16f-750b-4bcd-a886-c0543a266d3e\")>,\n",
       " <selenium.webdriver.remote.webelement.WebElement (session=\"8d4755fbe9e6e1fef5720b4c03c04ed0\", element=\"f4540ecf-0952-4cec-9c54-d7d8ec62e415\")>,\n",
       " <selenium.webdriver.remote.webelement.WebElement (session=\"8d4755fbe9e6e1fef5720b4c03c04ed0\", element=\"fea85648-f28f-4104-b7b2-1f75e5936aad\")>,\n",
       " <selenium.webdriver.remote.webelement.WebElement (session=\"8d4755fbe9e6e1fef5720b4c03c04ed0\", element=\"90a7d61c-3fe2-4dc5-a3f4-85afb72a71e5\")>,\n",
       " <selenium.webdriver.remote.webelement.WebElement (session=\"8d4755fbe9e6e1fef5720b4c03c04ed0\", element=\"0f8e1683-875a-41b2-9f73-203326b7dd2e\")>,\n",
       " <selenium.webdriver.remote.webelement.WebElement (session=\"8d4755fbe9e6e1fef5720b4c03c04ed0\", element=\"a0e83283-2850-4bd1-ab35-938c1c12ccb2\")>,\n",
       " <selenium.webdriver.remote.webelement.WebElement (session=\"8d4755fbe9e6e1fef5720b4c03c04ed0\", element=\"cb03465c-9ecf-426d-8612-b198ea121214\")>,\n",
       " <selenium.webdriver.remote.webelement.WebElement (session=\"8d4755fbe9e6e1fef5720b4c03c04ed0\", element=\"834e103f-e7d4-42a3-a98e-065ac43b6c83\")>,\n",
       " <selenium.webdriver.remote.webelement.WebElement (session=\"8d4755fbe9e6e1fef5720b4c03c04ed0\", element=\"f11caa53-763c-497a-83e7-81834ccd2c94\")>,\n",
       " <selenium.webdriver.remote.webelement.WebElement (session=\"8d4755fbe9e6e1fef5720b4c03c04ed0\", element=\"fd671811-4ddd-4561-b66c-3231ee6c5d13\")>,\n",
       " <selenium.webdriver.remote.webelement.WebElement (session=\"8d4755fbe9e6e1fef5720b4c03c04ed0\", element=\"5615fb32-b4d7-4d45-97b8-23155de7f900\")>,\n",
       " <selenium.webdriver.remote.webelement.WebElement (session=\"8d4755fbe9e6e1fef5720b4c03c04ed0\", element=\"531ea2e9-5505-4454-960b-dcc1bb7a146c\")>,\n",
       " <selenium.webdriver.remote.webelement.WebElement (session=\"8d4755fbe9e6e1fef5720b4c03c04ed0\", element=\"b8ed5cb2-1718-4e0f-bf21-a81863b56adf\")>,\n",
       " <selenium.webdriver.remote.webelement.WebElement (session=\"8d4755fbe9e6e1fef5720b4c03c04ed0\", element=\"0b3012d4-4198-43be-b337-c1d6545c28e0\")>,\n",
       " <selenium.webdriver.remote.webelement.WebElement (session=\"8d4755fbe9e6e1fef5720b4c03c04ed0\", element=\"3c30ee2a-b00d-4be1-83e3-1340d4163d37\")>,\n",
       " <selenium.webdriver.remote.webelement.WebElement (session=\"8d4755fbe9e6e1fef5720b4c03c04ed0\", element=\"a15a1209-eed1-458c-b04d-9f5b731fedea\")>]"
      ]
     },
     "execution_count": 213,
     "metadata": {},
     "output_type": "execute_result"
    }
   ],
   "source": [
    "product_discount2=driver.find_elements_by_xpath(\"//div[@class='_3Ay6Sb']\")\n",
    "product_discount2"
   ]
  },
  {
   "cell_type": "code",
   "execution_count": 214,
   "metadata": {},
   "outputs": [
    {
     "data": {
      "text/plain": [
       "['80% off',\n",
       " '81% off',\n",
       " '76% off',\n",
       " '73% off',\n",
       " '73% off',\n",
       " '84% off',\n",
       " '67% off',\n",
       " '72% off',\n",
       " '62% off',\n",
       " '77% off',\n",
       " '5% off',\n",
       " '64% off',\n",
       " '80% off',\n",
       " '73% off',\n",
       " '77% off',\n",
       " '79% off',\n",
       " '71% off',\n",
       " '75% off',\n",
       " '74% off',\n",
       " '66% off',\n",
       " '79% off',\n",
       " '13% off',\n",
       " '86% off',\n",
       " '75% off',\n",
       " '55% off',\n",
       " '77% off',\n",
       " '83% off',\n",
       " '82% off',\n",
       " '67% off',\n",
       " '66% off',\n",
       " '4% off',\n",
       " '73% off',\n",
       " '67% off',\n",
       " '4% off',\n",
       " '83% off',\n",
       " '81% off',\n",
       " '71% off',\n",
       " '88% off',\n",
       " '80% off',\n",
       " '56% off']"
      ]
     },
     "execution_count": 214,
     "metadata": {},
     "output_type": "execute_result"
    }
   ],
   "source": [
    "discount2=[]\n",
    "for i in product_discount2:\n",
    "    discount2.append(i.text)\n",
    "\n",
    "discount2"
   ]
  },
  {
   "cell_type": "markdown",
   "metadata": {},
   "source": [
    "7. Q7: Scrape 100 reviews data from flipkart.com for iphone11 phone. You have to \n",
    "go the link: https://www.flipkart.com/apple-iphone-11-black-64-gb-includes\u0002earpods-power\u0002adapter/p/itm0f37c2240b217?pid=MOBFKCTSVZAXUHGR&lid=LSTMOBFKC\n",
    "TSVZAXUHGREPBFGI&marketplace.\n",
    "\n",
    "As shown in the above page you have to scrape the tick marked attributes.\n",
    "These are \n",
    "1. Rating \n",
    "2. Review_summary \n",
    "3. Full review\n",
    "You have to scrape this data for first 100 reviews."
   ]
  },
  {
   "cell_type": "code",
   "execution_count": 215,
   "metadata": {},
   "outputs": [],
   "source": [
    "import selenium\n",
    "import pandas as pd\n",
    "from selenium import webdriver"
   ]
  },
  {
   "cell_type": "code",
   "execution_count": 216,
   "metadata": {},
   "outputs": [],
   "source": [
    "driver=webdriver.Chrome(\"chromedriver.exe\") "
   ]
  },
  {
   "cell_type": "code",
   "execution_count": 217,
   "metadata": {},
   "outputs": [],
   "source": [
    "url='https://www.flipkart.com/apple-iphone-11-black-64-gb-includes-earpods-power-adapter/product-reviews/itm0f37c2240b217?pid=MOBFKCTSVZAXUHGR&lid=LSTMOBFKCTSVZAXUHGREPBFGI&marketplace=FLIPKART'\n",
    "driver.get(url) "
   ]
  },
  {
   "cell_type": "code",
   "execution_count": 218,
   "metadata": {},
   "outputs": [
    {
     "data": {
      "text/plain": [
       "[<selenium.webdriver.remote.webelement.WebElement (session=\"5157dc4d08b19988093ed808ff5d6e12\", element=\"355d1ff3-6ea0-49a6-992e-c1f94675dba4\")>,\n",
       " <selenium.webdriver.remote.webelement.WebElement (session=\"5157dc4d08b19988093ed808ff5d6e12\", element=\"850551e2-b2e2-4170-9ac8-aabbd41eaf95\")>,\n",
       " <selenium.webdriver.remote.webelement.WebElement (session=\"5157dc4d08b19988093ed808ff5d6e12\", element=\"409db197-9ef9-4590-86ad-84be7f517559\")>,\n",
       " <selenium.webdriver.remote.webelement.WebElement (session=\"5157dc4d08b19988093ed808ff5d6e12\", element=\"1fa34aa9-387e-423c-b9d1-108ecf3d21fc\")>,\n",
       " <selenium.webdriver.remote.webelement.WebElement (session=\"5157dc4d08b19988093ed808ff5d6e12\", element=\"3e1eed0c-9b6f-4d39-9600-ac91ba8a348d\")>,\n",
       " <selenium.webdriver.remote.webelement.WebElement (session=\"5157dc4d08b19988093ed808ff5d6e12\", element=\"e90dade8-b8c5-40d4-b4d6-e62bb9d8d5e1\")>,\n",
       " <selenium.webdriver.remote.webelement.WebElement (session=\"5157dc4d08b19988093ed808ff5d6e12\", element=\"62fc9e8f-d09a-47fd-8abe-38046e48114d\")>,\n",
       " <selenium.webdriver.remote.webelement.WebElement (session=\"5157dc4d08b19988093ed808ff5d6e12\", element=\"ef990825-4478-4c44-a066-b95116a1c69e\")>,\n",
       " <selenium.webdriver.remote.webelement.WebElement (session=\"5157dc4d08b19988093ed808ff5d6e12\", element=\"42d5c65f-d1e2-46a5-a4b6-cd6bc794f045\")>,\n",
       " <selenium.webdriver.remote.webelement.WebElement (session=\"5157dc4d08b19988093ed808ff5d6e12\", element=\"e1153639-0a8b-4da0-8b62-2576e1990509\")>]"
      ]
     },
     "execution_count": 218,
     "metadata": {},
     "output_type": "execute_result"
    }
   ],
   "source": [
    "rating_tags=driver.find_elements_by_xpath(\"//div[@class='_3LWZlK _1BLPMq']\")\n",
    "rating_tags"
   ]
  },
  {
   "cell_type": "code",
   "execution_count": 219,
   "metadata": {},
   "outputs": [
    {
     "data": {
      "text/plain": [
       "['5', '5', '5', '5', '5', '5', '5', '4', '5', '5']"
      ]
     },
     "execution_count": 219,
     "metadata": {},
     "output_type": "execute_result"
    }
   ],
   "source": [
    "ratings=[]\n",
    "for i in rating_tags:\n",
    "    ratings.append(i.text)\n",
    "\n",
    "ratings"
   ]
  },
  {
   "cell_type": "code",
   "execution_count": 220,
   "metadata": {},
   "outputs": [
    {
     "data": {
      "text/plain": [
       "[<selenium.webdriver.remote.webelement.WebElement (session=\"5157dc4d08b19988093ed808ff5d6e12\", element=\"356d69b8-7a3e-4e47-82ee-ad7077cfe11c\")>,\n",
       " <selenium.webdriver.remote.webelement.WebElement (session=\"5157dc4d08b19988093ed808ff5d6e12\", element=\"b59dee80-baf9-4512-9af3-92dfcd7ccd4c\")>,\n",
       " <selenium.webdriver.remote.webelement.WebElement (session=\"5157dc4d08b19988093ed808ff5d6e12\", element=\"f47cb263-a4ca-4c84-b38b-fd6b1d712736\")>,\n",
       " <selenium.webdriver.remote.webelement.WebElement (session=\"5157dc4d08b19988093ed808ff5d6e12\", element=\"62e3aa77-7ecd-4585-b58d-b5b7f94e6737\")>,\n",
       " <selenium.webdriver.remote.webelement.WebElement (session=\"5157dc4d08b19988093ed808ff5d6e12\", element=\"9d491b1f-1201-4252-a1fd-8df51b71b4c9\")>,\n",
       " <selenium.webdriver.remote.webelement.WebElement (session=\"5157dc4d08b19988093ed808ff5d6e12\", element=\"facf5f56-ca0d-4239-89fc-9848090a842d\")>,\n",
       " <selenium.webdriver.remote.webelement.WebElement (session=\"5157dc4d08b19988093ed808ff5d6e12\", element=\"9f61afb7-d243-4b80-83ac-78d2b643d777\")>,\n",
       " <selenium.webdriver.remote.webelement.WebElement (session=\"5157dc4d08b19988093ed808ff5d6e12\", element=\"d3b822eb-b5ee-431a-9656-d89da0a760fb\")>,\n",
       " <selenium.webdriver.remote.webelement.WebElement (session=\"5157dc4d08b19988093ed808ff5d6e12\", element=\"30c008cd-00d0-40a6-bcc0-3be5827fb294\")>,\n",
       " <selenium.webdriver.remote.webelement.WebElement (session=\"5157dc4d08b19988093ed808ff5d6e12\", element=\"1bb6efa3-4976-472f-a00f-64c5fff58ff9\")>]"
      ]
     },
     "execution_count": 220,
     "metadata": {},
     "output_type": "execute_result"
    }
   ],
   "source": [
    "review_tags=driver.find_elements_by_xpath(\"//p[@class='_2-N8zT']\")\n",
    "review_tags"
   ]
  },
  {
   "cell_type": "code",
   "execution_count": 221,
   "metadata": {},
   "outputs": [
    {
     "data": {
      "text/plain": [
       "['Brilliant',\n",
       " 'Simply awesome',\n",
       " 'Best in the market!',\n",
       " 'Perfect product!',\n",
       " 'Fabulous!',\n",
       " 'Worth every penny',\n",
       " 'Great product',\n",
       " 'Good choice',\n",
       " 'Worth every penny',\n",
       " 'Highly recommended']"
      ]
     },
     "execution_count": 221,
     "metadata": {},
     "output_type": "execute_result"
    }
   ],
   "source": [
    "review_summary=[]\n",
    "for i in review_tags:\n",
    "    review_summary.append(i.text)\n",
    "\n",
    "review_summary"
   ]
  },
  {
   "cell_type": "code",
   "execution_count": 222,
   "metadata": {},
   "outputs": [
    {
     "data": {
      "text/plain": [
       "[<selenium.webdriver.remote.webelement.WebElement (session=\"5157dc4d08b19988093ed808ff5d6e12\", element=\"2f024260-55c7-404f-8992-2e12b50e795d\")>,\n",
       " <selenium.webdriver.remote.webelement.WebElement (session=\"5157dc4d08b19988093ed808ff5d6e12\", element=\"8a352204-1c76-4b5e-8b8c-6a763ba2321e\")>,\n",
       " <selenium.webdriver.remote.webelement.WebElement (session=\"5157dc4d08b19988093ed808ff5d6e12\", element=\"05906107-4964-4d97-a9b8-dd2a56350509\")>,\n",
       " <selenium.webdriver.remote.webelement.WebElement (session=\"5157dc4d08b19988093ed808ff5d6e12\", element=\"d7fe702a-d9b2-48f9-b9fb-028da3d1c899\")>,\n",
       " <selenium.webdriver.remote.webelement.WebElement (session=\"5157dc4d08b19988093ed808ff5d6e12\", element=\"685b3667-c748-41df-8663-66657cdb24b7\")>,\n",
       " <selenium.webdriver.remote.webelement.WebElement (session=\"5157dc4d08b19988093ed808ff5d6e12\", element=\"10588371-a2c9-4e60-baad-7c497dcca0d4\")>,\n",
       " <selenium.webdriver.remote.webelement.WebElement (session=\"5157dc4d08b19988093ed808ff5d6e12\", element=\"6ecc43d0-cb9e-4abf-b02c-6f0c50164417\")>,\n",
       " <selenium.webdriver.remote.webelement.WebElement (session=\"5157dc4d08b19988093ed808ff5d6e12\", element=\"c6e34a9d-7be3-4355-8908-2abfbb814f4e\")>,\n",
       " <selenium.webdriver.remote.webelement.WebElement (session=\"5157dc4d08b19988093ed808ff5d6e12\", element=\"b1decb04-dcca-4f9d-8272-ca20d6c7ccf3\")>,\n",
       " <selenium.webdriver.remote.webelement.WebElement (session=\"5157dc4d08b19988093ed808ff5d6e12\", element=\"85733b8a-b667-41b3-9233-933fe83b23a8\")>]"
      ]
     },
     "execution_count": 222,
     "metadata": {},
     "output_type": "execute_result"
    }
   ],
   "source": [
    "review=driver.find_elements_by_xpath(\"//div[@class='t-ZTKy']\")\n",
    "review"
   ]
  },
  {
   "cell_type": "code",
   "execution_count": 223,
   "metadata": {},
   "outputs": [
    {
     "data": {
      "text/plain": [
       "['The Best Phone for the MoneyThe iPhone 11 offers superb cameras, a more durable design and excellent battery life for an affordable price.Compelling ultra-wide cameraNew Night mode is excellentLong battery life',\n",
       " 'Really satisfied with the Product I received... It’s totally genuine and the packaging was also really good so if ur planning to buy just go for it.',\n",
       " 'Great iPhone very snappy experience as apple kind. Upgraded from iPhone 7.Pros-Camera top class- Battery top performed-Chipset no need to say as apple kind-Security as you expect from apple- Display super bright industry leading colouraccuracy and super responsive-Build quality as expect from apple sturdypremium durable beautiful stylish.-Os most stable os in smartphone industryCons-No 5G-Display is not based on OLED technology-Charger headphones and 1 apple stic...READ MORE',\n",
       " 'Amazing phone with great cameras and better battery which gives you the best performance. I just love the camera .',\n",
       " 'This is my first iOS phone. I am very happy with this product. Very much satisfied with this. I love this phone.',\n",
       " 'Previously I was using one plus 3t it was a great phoneAnd then I decided to upgrade I am stuck between Samsung s10 plus or iPhone 11I have seen the specs and everything were good except the display it’s somewhere between 720-1080 and it’s not even an amoled it’s an LCD displayBut I decided to go with iPhone because I have never used an IOS device I have Been an android user from the past 9 years I ordered IPhone 11 (128gb) product redMy experience after using 3 weeks1. The delivery ...READ MORE',\n",
       " 'Amazing Powerful and Durable Gadget.I’m am very happy with the camera picture quality, Amazing face id unlocked in dark room, Strong battery with perfect screen size as you can carry easily in pocket. This is my third iPhone.I shifted from android Samsung Note series to iPhone because of the strong build quality and peace of mind for next 3-4 years.Don’t think to much just go for it and I suggest you to go for minimum 128gb variant or more 256gb.I’ve attached my puppy pics and no fi...READ MORE',\n",
       " 'So far it’s been an AMAZING experience coming back to iOS after nearly a decade but it’s not as versatile as android though phone is sturdy dropped it accidentally a couple of times and nothing happened fortunately camera is awesome',\n",
       " 'i11 is worthy to buy, too much happy with the product. Thank u flipkart I received the item on time..loved it..',\n",
       " 'iphone 11 is a very good phone to buy only if you can compromise for the display. The display on this is device is pretty good but you can get other options with better displays in this price segment.If you can survive with an HD+ LCD panel with thicker bezels and a notch up top then this is a very good phone for you.Cameras are awesome, battery backup excellent, great performance and a decent premium look. Good job Apple !']"
      ]
     },
     "execution_count": 223,
     "metadata": {},
     "output_type": "execute_result"
    }
   ],
   "source": [
    "full_review=[]\n",
    "for i in review:\n",
    "    full_review.append(i.text.replace(\"\\n\",\"\"))\n",
    "\n",
    "full_review"
   ]
  },
  {
   "cell_type": "code",
   "execution_count": 224,
   "metadata": {},
   "outputs": [],
   "source": [
    "next_button=driver.find_element_by_xpath(\"//a[@class='_1LKTO3']\")\n",
    "next_button.click()"
   ]
  },
  {
   "cell_type": "code",
   "execution_count": 225,
   "metadata": {},
   "outputs": [
    {
     "data": {
      "text/plain": [
       "['5', '5', '5', '5', '5', '5', '5', '4', '5', '5']"
      ]
     },
     "execution_count": 225,
     "metadata": {},
     "output_type": "execute_result"
    }
   ],
   "source": [
    "rating_tags1=driver.find_elements_by_xpath(\"//div[@class='_3LWZlK _1BLPMq']\")\n",
    "\n",
    "ratings1=[]\n",
    "for i in rating_tags1:\n",
    "    ratings1.append(i.text)\n",
    "\n",
    "ratings1"
   ]
  },
  {
   "cell_type": "code",
   "execution_count": 226,
   "metadata": {},
   "outputs": [
    {
     "data": {
      "text/plain": [
       "['Brilliant',\n",
       " 'Simply awesome',\n",
       " 'Best in the market!',\n",
       " 'Perfect product!',\n",
       " 'Fabulous!',\n",
       " 'Worth every penny',\n",
       " 'Great product',\n",
       " 'Good choice',\n",
       " 'Worth every penny',\n",
       " 'Highly recommended']"
      ]
     },
     "execution_count": 226,
     "metadata": {},
     "output_type": "execute_result"
    }
   ],
   "source": [
    "review_tags1=driver.find_elements_by_xpath(\"//p[@class='_2-N8zT']\")\n",
    "\n",
    "review_summary1=[]\n",
    "for i in review_tags1:\n",
    "    review_summary1.append(i.text)\n",
    "\n",
    "review_summary1"
   ]
  },
  {
   "cell_type": "code",
   "execution_count": 227,
   "metadata": {},
   "outputs": [
    {
     "data": {
      "text/plain": [
       "['The Best Phone for the MoneyThe iPhone 11 offers superb cameras, a more durable design and excellent battery life for an affordable price.Compelling ultra-wide cameraNew Night mode is excellentLong battery life',\n",
       " 'Really satisfied with the Product I received... It’s totally genuine and the packaging was also really good so if ur planning to buy just go for it.',\n",
       " 'Great iPhone very snappy experience as apple kind. Upgraded from iPhone 7.Pros-Camera top class- Battery top performed-Chipset no need to say as apple kind-Security as you expect from apple- Display super bright industry leading colouraccuracy and super responsive-Build quality as expect from apple sturdypremium durable beautiful stylish.-Os most stable os in smartphone industryCons-No 5G-Display is not based on OLED technology-Charger headphones and 1 apple stic...READ MORE',\n",
       " 'Amazing phone with great cameras and better battery which gives you the best performance. I just love the camera .',\n",
       " 'This is my first iOS phone. I am very happy with this product. Very much satisfied with this. I love this phone.',\n",
       " 'Previously I was using one plus 3t it was a great phoneAnd then I decided to upgrade I am stuck between Samsung s10 plus or iPhone 11I have seen the specs and everything were good except the display it’s somewhere between 720-1080 and it’s not even an amoled it’s an LCD displayBut I decided to go with iPhone because I have never used an IOS device I have Been an android user from the past 9 years I ordered IPhone 11 (128gb) product redMy experience after using 3 weeks1. The delivery ...READ MORE',\n",
       " 'Amazing Powerful and Durable Gadget.I’m am very happy with the camera picture quality, Amazing face id unlocked in dark room, Strong battery with perfect screen size as you can carry easily in pocket. This is my third iPhone.I shifted from android Samsung Note series to iPhone because of the strong build quality and peace of mind for next 3-4 years.Don’t think to much just go for it and I suggest you to go for minimum 128gb variant or more 256gb.I’ve attached my puppy pics and no fi...READ MORE',\n",
       " 'So far it’s been an AMAZING experience coming back to iOS after nearly a decade but it’s not as versatile as android though phone is sturdy dropped it accidentally a couple of times and nothing happened fortunately camera is awesome',\n",
       " 'i11 is worthy to buy, too much happy with the product. Thank u flipkart I received the item on time..loved it..',\n",
       " 'iphone 11 is a very good phone to buy only if you can compromise for the display. The display on this is device is pretty good but you can get other options with better displays in this price segment.If you can survive with an HD+ LCD panel with thicker bezels and a notch up top then this is a very good phone for you.Cameras are awesome, battery backup excellent, great performance and a decent premium look. Good job Apple !']"
      ]
     },
     "execution_count": 227,
     "metadata": {},
     "output_type": "execute_result"
    }
   ],
   "source": [
    "review1=driver.find_elements_by_xpath(\"//div[@class='t-ZTKy']\")\n",
    "\n",
    "full_review1=[]\n",
    "for i in review1:\n",
    "    full_review1.append(i.text.replace(\"\\n\",\"\"))\n",
    "\n",
    "full_review1"
   ]
  },
  {
   "cell_type": "code",
   "execution_count": 228,
   "metadata": {},
   "outputs": [],
   "source": [
    "next_button1=driver.find_elements_by_xpath(\"//a[@class='_1LKTO3']\")[-1]\n",
    "next_button1.click()"
   ]
  },
  {
   "cell_type": "code",
   "execution_count": 229,
   "metadata": {},
   "outputs": [
    {
     "data": {
      "text/plain": [
       "['5', '5', '5', '5', '5', '5', '5', '5', '5', '5']"
      ]
     },
     "execution_count": 229,
     "metadata": {},
     "output_type": "execute_result"
    }
   ],
   "source": [
    "rating_tags2=driver.find_elements_by_xpath(\"//div[@class='_3LWZlK _1BLPMq']\")\n",
    "\n",
    "ratings2=[]\n",
    "for i in rating_tags2:\n",
    "    ratings2.append(i.text)\n",
    "\n",
    "ratings2"
   ]
  },
  {
   "cell_type": "code",
   "execution_count": 230,
   "metadata": {},
   "outputs": [
    {
     "data": {
      "text/plain": [
       "['Highly recommended',\n",
       " 'Perfect product!',\n",
       " 'Perfect product!',\n",
       " 'Classy product',\n",
       " 'Highly recommended',\n",
       " 'Worth every penny',\n",
       " 'Perfect product!',\n",
       " 'Simply awesome',\n",
       " 'Worth every penny',\n",
       " 'Terrific']"
      ]
     },
     "execution_count": 230,
     "metadata": {},
     "output_type": "execute_result"
    }
   ],
   "source": [
    "review_tags2=driver.find_elements_by_xpath(\"//p[@class='_2-N8zT']\")\n",
    "\n",
    "review_summary2=[]\n",
    "for i in review_tags2:\n",
    "    review_summary2.append(i.text)\n",
    "\n",
    "review_summary2"
   ]
  },
  {
   "cell_type": "code",
   "execution_count": 231,
   "metadata": {},
   "outputs": [
    {
     "data": {
      "text/plain": [
       "['What a camera .....just awesome ..you can feel this iPhone just awesome . Good for gaming also ...try pubg in hd it’s just wow',\n",
       " 'It’s a must buy who is looking for an upgrade from previous generation of iPhones. If you are using XR then still you can hold on for sometime and upgrade to 2020 model else this phone is a must buy . Camera quality is amazing and wide angle is something to count upon. Performance wise it’s amazing and feels premium while holding in hand. So a big YES for this device. Go for 128 GB variant as the 4K videos will occupy lots of space and the storage can get over very quickly. Try to buy it with...READ MORE',\n",
       " 'Value for money❤️❤️Its awesome mobile phone in the world ...Display was very good and bright ..Trust me freinds you r never regret after Buying..Just go for it....I love this phone and i switch to iphone x to 11',\n",
       " 'Totally in love with this ❤ the camera quality is amazing just love it 😘😘😘 itsss dammnnnnnn amazing... Must buy iPhone 11 this is my best experience ever ☀👌👌🧡🧡🧡🧡🧡 thanku apple ❤',\n",
       " \"It's my first time to use iOS phone and I am loving my upgradation 😍😍 I love the color, I love the assebility of the phone....I need to learn more about its functionality, but as far as I have seen, it's quite easy and it has a lot of functions to work on, specially if you are a content writer or a blogger you get a lot of content creation platforms and they are really amazing.This phone not only for good quality photography but a lot of other task too.😍💯\",\n",
       " 'Best budget Iphone till date ❤️ go for it guys without second thought. Let me explain you guys about Camera, Display, battery, and performance.Camera: at this price range there is no comparison of camera, you’ll love the picture quality as well as video quality. I am a Vlogger I wanted an iPhone with 4k video by front camera and I got this phone and I am more than happy 😃Battery: I use this phone roughly as I am active social media person and I have a youtube channel. so the battery ba...READ MORE',\n",
       " \"Iphone is just awesome.. battery backup is very very nice.. continuously for 10 hours we can use it.camera is just awesome.. display is just fab.i love it alot..i had to wait 15 days for it as i pre ordered it..overalll it's worth the price..these all images are clicked by my iPhone..and i love it.\",\n",
       " 'Excellent camera, good performance, no lag. The lcd display is also good.. but difference come when we watch movie in prime and Netflix, the colours are not vibrant.. as we see in amoled display.. and the charger in box is of 5 watts.. takes more than 3 hours to charge from 0 to 100.. so guys be prepare to buy 18 watts charger . Finally I am an android user, it was my first Iapple phone, I promise u guys the iOS is so smooth.. overall the phone is damn good.... close eyes to buy it.. thanks t...READ MORE',\n",
       " 'It’s been almost a month since I have been using this phone. I upgraded from an iPhone 8. The main issue with my 8 was battery and this phone is just awesome when it comes to battery. It lasts a day and a half for me with my regular use , internet connected always with 4gCan’t move forward without saying this. Battery of this phone is a life saver when I am traveling or at work when I don’t get the option to chargeCamera is superb. Front cam selfies and back cam photos are just awesome....READ MORE',\n",
       " 'Really worth of money. i just love it. It is the best phone ever.']"
      ]
     },
     "execution_count": 231,
     "metadata": {},
     "output_type": "execute_result"
    }
   ],
   "source": [
    "review2=driver.find_elements_by_xpath(\"//div[@class='t-ZTKy']\")\n",
    "\n",
    "full_review2=[]\n",
    "for i in review2:\n",
    "    full_review2.append(i.text.replace(\"\\n\",\"\"))\n",
    "\n",
    "full_review2"
   ]
  },
  {
   "cell_type": "code",
   "execution_count": 232,
   "metadata": {},
   "outputs": [],
   "source": [
    "next_button2=driver.find_elements_by_xpath(\"//a[@class='_1LKTO3']\")[-1]\n",
    "next_button2.click()"
   ]
  },
  {
   "cell_type": "code",
   "execution_count": 233,
   "metadata": {},
   "outputs": [
    {
     "data": {
      "text/plain": [
       "['5', '5', '5', '5', '5', '5', '5', '5', '5', '5']"
      ]
     },
     "execution_count": 233,
     "metadata": {},
     "output_type": "execute_result"
    }
   ],
   "source": [
    "rating_tags3=driver.find_elements_by_xpath(\"//div[@class='_3LWZlK _1BLPMq']\")\n",
    "\n",
    "ratings3=[]\n",
    "for i in rating_tags3:\n",
    "    ratings3.append(i.text)\n",
    "\n",
    "ratings3"
   ]
  },
  {
   "cell_type": "code",
   "execution_count": 234,
   "metadata": {},
   "outputs": [
    {
     "data": {
      "text/plain": [
       "['Highly recommended',\n",
       " 'Perfect product!',\n",
       " 'Perfect product!',\n",
       " 'Classy product',\n",
       " 'Highly recommended',\n",
       " 'Worth every penny',\n",
       " 'Perfect product!',\n",
       " 'Simply awesome',\n",
       " 'Worth every penny',\n",
       " 'Terrific']"
      ]
     },
     "execution_count": 234,
     "metadata": {},
     "output_type": "execute_result"
    }
   ],
   "source": [
    "review_tags3=driver.find_elements_by_xpath(\"//p[@class='_2-N8zT']\")\n",
    "\n",
    "review_summary3=[]\n",
    "for i in review_tags3:\n",
    "    review_summary3.append(i.text)\n",
    "\n",
    "review_summary3"
   ]
  },
  {
   "cell_type": "code",
   "execution_count": 235,
   "metadata": {},
   "outputs": [
    {
     "data": {
      "text/plain": [
       "['What a camera .....just awesome ..you can feel this iPhone just awesome . Good for gaming also ...try pubg in hd it’s just wow',\n",
       " 'It’s a must buy who is looking for an upgrade from previous generation of iPhones. If you are using XR then still you can hold on for sometime and upgrade to 2020 model else this phone is a must buy . Camera quality is amazing and wide angle is something to count upon. Performance wise it’s amazing and feels premium while holding in hand. So a big YES for this device. Go for 128 GB variant as the 4K videos will occupy lots of space and the storage can get over very quickly. Try to buy it with...READ MORE',\n",
       " 'Value for money❤️❤️Its awesome mobile phone in the world ...Display was very good and bright ..Trust me freinds you r never regret after Buying..Just go for it....I love this phone and i switch to iphone x to 11',\n",
       " 'Totally in love with this ❤ the camera quality is amazing just love it 😘😘😘 itsss dammnnnnnn amazing... Must buy iPhone 11 this is my best experience ever ☀👌👌🧡🧡🧡🧡🧡 thanku apple ❤',\n",
       " \"It's my first time to use iOS phone and I am loving my upgradation 😍😍 I love the color, I love the assebility of the phone....I need to learn more about its functionality, but as far as I have seen, it's quite easy and it has a lot of functions to work on, specially if you are a content writer or a blogger you get a lot of content creation platforms and they are really amazing.This phone not only for good quality photography but a lot of other task too.😍💯\",\n",
       " 'Best budget Iphone till date ❤️ go for it guys without second thought. Let me explain you guys about Camera, Display, battery, and performance.Camera: at this price range there is no comparison of camera, you’ll love the picture quality as well as video quality. I am a Vlogger I wanted an iPhone with 4k video by front camera and I got this phone and I am more than happy 😃Battery: I use this phone roughly as I am active social media person and I have a youtube channel. so the battery ba...READ MORE',\n",
       " \"Iphone is just awesome.. battery backup is very very nice.. continuously for 10 hours we can use it.camera is just awesome.. display is just fab.i love it alot..i had to wait 15 days for it as i pre ordered it..overalll it's worth the price..these all images are clicked by my iPhone..and i love it.\",\n",
       " 'Excellent camera, good performance, no lag. The lcd display is also good.. but difference come when we watch movie in prime and Netflix, the colours are not vibrant.. as we see in amoled display.. and the charger in box is of 5 watts.. takes more than 3 hours to charge from 0 to 100.. so guys be prepare to buy 18 watts charger . Finally I am an android user, it was my first Iapple phone, I promise u guys the iOS is so smooth.. overall the phone is damn good.... close eyes to buy it.. thanks t...READ MORE',\n",
       " 'It’s been almost a month since I have been using this phone. I upgraded from an iPhone 8. The main issue with my 8 was battery and this phone is just awesome when it comes to battery. It lasts a day and a half for me with my regular use , internet connected always with 4gCan’t move forward without saying this. Battery of this phone is a life saver when I am traveling or at work when I don’t get the option to chargeCamera is superb. Front cam selfies and back cam photos are just awesome....READ MORE',\n",
       " 'Really worth of money. i just love it. It is the best phone ever.']"
      ]
     },
     "execution_count": 235,
     "metadata": {},
     "output_type": "execute_result"
    }
   ],
   "source": [
    "review3=driver.find_elements_by_xpath(\"//div[@class='t-ZTKy']\")\n",
    "\n",
    "full_review3=[]\n",
    "for i in review3:\n",
    "    full_review3.append(i.text.replace(\"\\n\",\"\"))\n",
    "\n",
    "full_review3"
   ]
  },
  {
   "cell_type": "code",
   "execution_count": 236,
   "metadata": {},
   "outputs": [],
   "source": [
    "next_button3=driver.find_elements_by_xpath(\"//a[@class='_1LKTO3']\")[-1]\n",
    "next_button3.click()"
   ]
  },
  {
   "cell_type": "code",
   "execution_count": 237,
   "metadata": {},
   "outputs": [
    {
     "data": {
      "text/plain": [
       "['5', '5', '4', '5', '5', '5', '5', '4', '5', '5']"
      ]
     },
     "execution_count": 237,
     "metadata": {},
     "output_type": "execute_result"
    }
   ],
   "source": [
    "rating_tags4=driver.find_elements_by_xpath(\"//div[@class='_3LWZlK _1BLPMq']\")\n",
    "\n",
    "ratings4=[]\n",
    "for i in rating_tags4:\n",
    "    ratings4.append(i.text)\n",
    "\n",
    "ratings4"
   ]
  },
  {
   "cell_type": "code",
   "execution_count": 238,
   "metadata": {},
   "outputs": [
    {
     "data": {
      "text/plain": [
       "['Worth every penny',\n",
       " 'Wonderful',\n",
       " 'Nice product',\n",
       " 'Classy product',\n",
       " 'Perfect product!',\n",
       " 'Brilliant',\n",
       " 'Must buy!',\n",
       " 'Good choice',\n",
       " 'Wonderful',\n",
       " 'Perfect product!']"
      ]
     },
     "execution_count": 238,
     "metadata": {},
     "output_type": "execute_result"
    }
   ],
   "source": [
    "review_tags4=driver.find_elements_by_xpath(\"//p[@class='_2-N8zT']\")\n",
    "\n",
    "review_summary4=[]\n",
    "for i in review_tags4:\n",
    "    review_summary4.append(i.text)\n",
    "\n",
    "review_summary4"
   ]
  },
  {
   "cell_type": "code",
   "execution_count": 239,
   "metadata": {},
   "outputs": [
    {
     "data": {
      "text/plain": [
       "['Smooth like butter, camera like fantabulous, sound is crystal clear & its red color is damn attractive, i am just loving it. Must buy if you love photography.Lucky to get it in sale, thank you Flipkart.',\n",
       " 'This is my first ever I phone. Before this I was using my google nexus 5. But moving from android to iOS is a great experience. It’s worth at this price. I will highly recommend it if you want to move to iOS. The best part of this phone is it’s camera and it’s battery life. This two things have won my heart. I loved it. Happy to have it in my hand. Still exploring its features. And can’t forget to mention Flipkart service. Very prompt service and fast delivery.',\n",
       " 'Awesome Phone. Slightly high price but worth. Better than iPhone XR.Camera is superb and wide angle camera is very clear.12MP selfie camera is also very good.A13 Chip gives a very good and smooth performance.',\n",
       " 'Superb Product !!!A big and worthy upgrade from mi 3S to iphone 11 .Totally loved it !',\n",
       " 'Battery backup is extraordinary, camera is decent & performance offered by A13 bionic is awsome. The display is good in practical usage like the visibility of display is very good in direct sun light compare to pro models. Iam extremely satisfied for the money I spent.',\n",
       " 'I have migrated from OP 7pro... and trust me, iPhone 11 is totally worth it.. following are the reasons:-1)there is ABSOLUTELY NO ISSUE WITH THE DISPLAY... its crisp, sharp and I found it to be much much better than OP7 pro. Netflix, Prime video all run crisply... you won’t miss a thing. True Tone works flawlessly...the display brightness is perfect. OP have not calibrated their screens properly.2) iPhone 11 series have really good cameras... others have spoken in depth about them.3) bat...READ MORE',\n",
       " 'It’s an amazing product from apple and the camera is simply superb. Phone is faster.Night shot is simply superb and detailing and colour differentiation from camera is an added advantageThis review I have written from iPhone 11 only and I am glad to say outside.Cons wise if we see HD+ display only, no battery percentage indicator as in older iPhone 8.No assistive touch control button in itNo oleophobic coating on back panel glass and finger prints are visible but since I bought mint gr...READ MORE',\n",
       " 'Looking so good 👍 😍 super 👌 stylish 😎 phoneClean box 📦 good 👍 delivery 👌 fast deliveryOriginal box Original iphone 📱 👌 😍😍😍',\n",
       " 'I just directly switch from iphone 6s to iphone 11 .The best premium smartphone I recommend to everyone. Excellent quality and colors the iphone have in 11 series.Camera quality is just awesome and the major feel when we hold in our hands. The sound quality and volume is also higher then the previous models.I will recommend to buy iphone 11 instead of pro models , there is nothing much difference as this model contains everything which fulfill our needs.Only one thing that I dislike abo...READ MORE',\n",
       " 'After 1 month use I found camera quality best compared to my previous Samsung note 10+.Display not good as note 10 also charging too slow.Apple should add fast charger like 11 plus and pro.Best phone for daily use']"
      ]
     },
     "execution_count": 239,
     "metadata": {},
     "output_type": "execute_result"
    }
   ],
   "source": [
    "review4=driver.find_elements_by_xpath(\"//div[@class='t-ZTKy']\")\n",
    "\n",
    "full_review4=[]\n",
    "for i in review4:\n",
    "    full_review4.append(i.text.replace(\"\\n\",\"\"))\n",
    "\n",
    "full_review4"
   ]
  },
  {
   "cell_type": "code",
   "execution_count": 240,
   "metadata": {},
   "outputs": [],
   "source": [
    "next_button4=driver.find_elements_by_xpath(\"//a[@class='_1LKTO3']\")[-1]\n",
    "next_button4.click()"
   ]
  },
  {
   "cell_type": "code",
   "execution_count": 241,
   "metadata": {},
   "outputs": [
    {
     "data": {
      "text/plain": [
       "['5', '5', '4', '5', '5', '5', '5', '4', '5', '5']"
      ]
     },
     "execution_count": 241,
     "metadata": {},
     "output_type": "execute_result"
    }
   ],
   "source": [
    "rating_tags5=driver.find_elements_by_xpath(\"//div[@class='_3LWZlK _1BLPMq']\")\n",
    "\n",
    "ratings5=[]\n",
    "for i in rating_tags5:\n",
    "    ratings5.append(i.text)\n",
    "\n",
    "ratings5"
   ]
  },
  {
   "cell_type": "code",
   "execution_count": 242,
   "metadata": {},
   "outputs": [
    {
     "data": {
      "text/plain": [
       "['Worth every penny',\n",
       " 'Wonderful',\n",
       " 'Nice product',\n",
       " 'Classy product',\n",
       " 'Perfect product!',\n",
       " 'Brilliant',\n",
       " 'Must buy!',\n",
       " 'Good choice',\n",
       " 'Wonderful',\n",
       " 'Perfect product!']"
      ]
     },
     "execution_count": 242,
     "metadata": {},
     "output_type": "execute_result"
    }
   ],
   "source": [
    "review_tags5=driver.find_elements_by_xpath(\"//p[@class='_2-N8zT']\")\n",
    "\n",
    "review_summary5=[]\n",
    "for i in review_tags5:\n",
    "    review_summary5.append(i.text)\n",
    "\n",
    "review_summary5"
   ]
  },
  {
   "cell_type": "code",
   "execution_count": 243,
   "metadata": {},
   "outputs": [
    {
     "data": {
      "text/plain": [
       "['Smooth like butter, camera like fantabulous, sound is crystal clear & its red color is damn attractive, i am just loving it. Must buy if you love photography.Lucky to get it in sale, thank you Flipkart.',\n",
       " 'This is my first ever I phone. Before this I was using my google nexus 5. But moving from android to iOS is a great experience. It’s worth at this price. I will highly recommend it if you want to move to iOS. The best part of this phone is it’s camera and it’s battery life. This two things have won my heart. I loved it. Happy to have it in my hand. Still exploring its features. And can’t forget to mention Flipkart service. Very prompt service and fast delivery.',\n",
       " 'Awesome Phone. Slightly high price but worth. Better than iPhone XR.Camera is superb and wide angle camera is very clear.12MP selfie camera is also very good.A13 Chip gives a very good and smooth performance.',\n",
       " 'Superb Product !!!A big and worthy upgrade from mi 3S to iphone 11 .Totally loved it !',\n",
       " 'Battery backup is extraordinary, camera is decent & performance offered by A13 bionic is awsome. The display is good in practical usage like the visibility of display is very good in direct sun light compare to pro models. Iam extremely satisfied for the money I spent.',\n",
       " 'I have migrated from OP 7pro... and trust me, iPhone 11 is totally worth it.. following are the reasons:-1)there is ABSOLUTELY NO ISSUE WITH THE DISPLAY... its crisp, sharp and I found it to be much much better than OP7 pro. Netflix, Prime video all run crisply... you won’t miss a thing. True Tone works flawlessly...the display brightness is perfect. OP have not calibrated their screens properly.2) iPhone 11 series have really good cameras... others have spoken in depth about them.3) bat...READ MORE',\n",
       " 'It’s an amazing product from apple and the camera is simply superb. Phone is faster.Night shot is simply superb and detailing and colour differentiation from camera is an added advantageThis review I have written from iPhone 11 only and I am glad to say outside.Cons wise if we see HD+ display only, no battery percentage indicator as in older iPhone 8.No assistive touch control button in itNo oleophobic coating on back panel glass and finger prints are visible but since I bought mint gr...READ MORE',\n",
       " 'Looking so good 👍 😍 super 👌 stylish 😎 phoneClean box 📦 good 👍 delivery 👌 fast deliveryOriginal box Original iphone 📱 👌 😍😍😍',\n",
       " 'I just directly switch from iphone 6s to iphone 11 .The best premium smartphone I recommend to everyone. Excellent quality and colors the iphone have in 11 series.Camera quality is just awesome and the major feel when we hold in our hands. The sound quality and volume is also higher then the previous models.I will recommend to buy iphone 11 instead of pro models , there is nothing much difference as this model contains everything which fulfill our needs.Only one thing that I dislike abo...READ MORE',\n",
       " 'After 1 month use I found camera quality best compared to my previous Samsung note 10+.Display not good as note 10 also charging too slow.Apple should add fast charger like 11 plus and pro.Best phone for daily use']"
      ]
     },
     "execution_count": 243,
     "metadata": {},
     "output_type": "execute_result"
    }
   ],
   "source": [
    "review5=driver.find_elements_by_xpath(\"//div[@class='t-ZTKy']\")\n",
    "\n",
    "full_review5=[]\n",
    "for i in review5:\n",
    "    full_review5.append(i.text.replace(\"\\n\",\"\"))\n",
    "\n",
    "full_review5"
   ]
  },
  {
   "cell_type": "code",
   "execution_count": 244,
   "metadata": {},
   "outputs": [],
   "source": [
    "next_button5=driver.find_elements_by_xpath(\"//a[@class='_1LKTO3']\")[-1]\n",
    "next_button5.click()"
   ]
  },
  {
   "cell_type": "code",
   "execution_count": 245,
   "metadata": {},
   "outputs": [
    {
     "data": {
      "text/plain": [
       "['5', '5', '5', '5', '5', '5', '5', '4', '5']"
      ]
     },
     "execution_count": 245,
     "metadata": {},
     "output_type": "execute_result"
    }
   ],
   "source": [
    "rating_tags6=driver.find_elements_by_xpath(\"//div[@class='_3LWZlK _1BLPMq']\")\n",
    "\n",
    "ratings6=[]\n",
    "for i in rating_tags6:\n",
    "    ratings6.append(i.text)\n",
    "\n",
    "ratings6"
   ]
  },
  {
   "cell_type": "code",
   "execution_count": 246,
   "metadata": {},
   "outputs": [
    {
     "data": {
      "text/plain": [
       "['Terrific purchase',\n",
       " 'Simply awesome',\n",
       " 'Great product',\n",
       " 'Mind-blowing purchase',\n",
       " 'Terrific purchase',\n",
       " 'Excellent',\n",
       " 'Simply awesome',\n",
       " 'Good quality product',\n",
       " 'Very poor',\n",
       " 'Classy product']"
      ]
     },
     "execution_count": 246,
     "metadata": {},
     "output_type": "execute_result"
    }
   ],
   "source": [
    "review_tags6=driver.find_elements_by_xpath(\"//p[@class='_2-N8zT']\")\n",
    "\n",
    "review_summary6=[]\n",
    "for i in review_tags6:\n",
    "    review_summary6.append(i.text)\n",
    "\n",
    "review_summary6"
   ]
  },
  {
   "cell_type": "code",
   "execution_count": 247,
   "metadata": {},
   "outputs": [
    {
     "data": {
      "text/plain": [
       "['Upgraded from iphone 6 to 11 best phone for iphone users battery is much better than other iphones camera is awesome love to use it.camera is so clear in night.',\n",
       " \"It's very high performances devise i am like the service of flipkart delevary very fast and packing very nice perfect phone\",\n",
       " 'Well you all know the specifications . One of a kind. Best iPhone till date. Many enhancements to the camera app with many options. Love the glass body with matte finish in the lens area on the back. Lovely colours to choose from. Best battery in an iPhone till date, enough to last more than a day in normal usage. I tested my iPhone 11 battery and lasted for than 24 hours after full charge still with 30% battery charge left. Watched movies for some time. Normal usage on calls, browsing, musi...READ MORE',\n",
       " 'This will help you more. See if you are planning to buy iPhone 11. I will say. Yes. But there are some plans I just want to disclose before you buy. 1) If you are an existing iPhone X/XS/XS Max/ XR user, better you guys do not think it to buy. You guys have more or less better gadget. 2) If you are an android user and planning to buy premium phone. I will suggest them to please buy iPhone instead of buying an Android. I bet you will never go back to android after using IOS. Now I want to shar...READ MORE',\n",
       " 'The built quality is not very premium.The battery back is great .The LCD panel is not so sharp but the brightness level is very High .Camera is super duper awesome.The red colour which people think is bright is actually very soothing and excellent colour to choose from .The A13 Bionic chip is really a flagship processor and can beat any phone which even has 12 gb ram .Camera module is very great and looks very stylish.',\n",
       " 'Amazing camera and feel super machine I am not describe my feeling but this is amazing Phone I am so lucky I have this',\n",
       " 'Really good actually this is my first apple product am using its really awesome performance wise excellent. Am really happy with this iphone11',\n",
       " 'it is very good at performance. Camera is best like before and very smooth response even in water. Don’t buy 12 mini buy iPhone 11 , it is far better than 12 mini believe me ! Have a nice day \\uf8ff ☺️',\n",
       " 'Reviewing again after 5 months. At the beginning the battery and performance was good but it degraded soon. Also I was facing heating issues. The mobile will heat up like a stove sometimes. You cannot even play Pubg even in low settings properly, performance is not a problem but heating is. Also if you play that game for 10 mins the brightness will be automatically down due to over heating even when the auto brightness is set to off. This will not be solved even if u manually increase the bri...READ MORE',\n",
       " 'We are on apple ecosystem for almost eight years now with couple of iPads and iPhones, including Xr.Bought iPhone 11 as a gift to my daughter who loves it. We chose for a purple coloured one. Believe me it is gorgeous and towards the lighter shade. Dazzling and brilliant!The phone is great and does excellent RAM management like any other Apple device.The screen, though a LCD and lesser ppi as compared to other flagship phones of competitor brands, is a delight to watch with perfect re...READ MORE']"
      ]
     },
     "execution_count": 247,
     "metadata": {},
     "output_type": "execute_result"
    }
   ],
   "source": [
    "review6=driver.find_elements_by_xpath(\"//div[@class='t-ZTKy']\")\n",
    "\n",
    "full_review6=[]\n",
    "for i in review6:\n",
    "    full_review6.append(i.text.replace(\"\\n\",\"\"))\n",
    "\n",
    "full_review6"
   ]
  },
  {
   "cell_type": "code",
   "execution_count": 248,
   "metadata": {},
   "outputs": [],
   "source": [
    "next_button6=driver.find_elements_by_xpath(\"//a[@class='_1LKTO3']\")[-1]\n",
    "next_button6.click()"
   ]
  },
  {
   "cell_type": "code",
   "execution_count": 249,
   "metadata": {},
   "outputs": [
    {
     "data": {
      "text/plain": [
       "['5', '5', '5', '5', '5', '5', '5', '4', '5', '5']"
      ]
     },
     "execution_count": 249,
     "metadata": {},
     "output_type": "execute_result"
    }
   ],
   "source": [
    "rating_tags7=driver.find_elements_by_xpath(\"//div[@class='_3LWZlK _1BLPMq']\")\n",
    "\n",
    "ratings7=[]\n",
    "for i in rating_tags7:\n",
    "    ratings7.append(i.text)\n",
    "\n",
    "ratings7"
   ]
  },
  {
   "cell_type": "code",
   "execution_count": 250,
   "metadata": {},
   "outputs": [
    {
     "data": {
      "text/plain": [
       "['Perfect product!',\n",
       " 'Must buy!',\n",
       " 'Fabulous!',\n",
       " 'Mind-blowing purchase',\n",
       " 'Mind-blowing purchase',\n",
       " 'Wonderful',\n",
       " 'Great product',\n",
       " 'Very Good',\n",
       " 'Classy product',\n",
       " 'Perfect product!']"
      ]
     },
     "execution_count": 250,
     "metadata": {},
     "output_type": "execute_result"
    }
   ],
   "source": [
    "review_tags7=driver.find_elements_by_xpath(\"//p[@class='_2-N8zT']\")\n",
    "\n",
    "review_summary7=[]\n",
    "for i in review_tags7:\n",
    "    review_summary7.append(i.text)\n",
    "\n",
    "review_summary7"
   ]
  },
  {
   "cell_type": "code",
   "execution_count": 251,
   "metadata": {},
   "outputs": [
    {
     "data": {
      "text/plain": [
       "['It is just awesome mobile for this price from Apple,After 10 days reviewBattery enough for 1 day even 24*7 Internet will be on and mostly internet usageCamera is just awesome cool , android 64 MP is equal to this just 12 MPA13 Bionic chip will give more high performance without hangingAudio stereo speakers will give Dolby atoms sound with crystal clearVideo recording is like cinematic shots of every sec can be a 4K 60fps. Just awesome this phoneiPhone 11 loved one',\n",
       " 'Best Apple iPhone that i have bought at a very reasonable price, camera quality is next level just awesome n of superior quality android phones not even close(RIP) to that and also battery is really good but packaging by Flipkart of iPhone was very poor of such a expensive product, firstly im bit worried about the quality of product if i purchased it through online how was the product but i think now this was mine best decision to bought it through Flipkart online because i got genuine Apple...READ MORE',\n",
       " \"I can say I'm damn impressed with iPhone 11. As they says iPhone 11 have the toughest glass ever in the smartphone which you'll find on the front and back and it's totally smooth. The fit and finish is full apple quality - there's no sense that any cheaping out has happened in the construction. Without saying it's camera features this review won't complete. The iPhone 11 has a dual camera system, consisting of a wide angle len's that's pretty much same as found on the iPhone XR last year, but...READ MORE\",\n",
       " 'Best Quality Product OF iPhone Series , Sound Quality & Camera quality is very awesome, Battery Life is very Sufficient for 24 hr Backup With Full Internet Access , I love this this Product too much , It is very fast & making me Very fast in all my daily RoutineHighlights;1.Camera: 5 STAR2.Video Recording: 5 star3.Night mODE sHOOTING & Camera:4 star4. Audio Quality: Awesome5. Battery : 5 Star6. Touch:5 Star7. Processor: Very FastThe M...READ MORE',\n",
       " 'First thanks to Flipkart for this amazing deal and phone is outstanding. I upgraded from iPhone 7 and this is like very big upgrade. But the packaging was very basic I expected a good packaging as they only wrapped one layer of bubble wrap which I don’t think is enough to protect this expensive phone. And I recommend this phone and seller as well.And I’m posting this review after using it for 4 days.',\n",
       " 'Superfast delivery by Flipkart. Thanks.1. iPhone 11 is a pretty solid phone for the money you are paying.2. All the bad reviews about the display is confusing. It’s not that bad.3. I switched from a Oneplus 7t. I have no complaints about the display quality of iPhone. Yes, it’s not OLED, so, we are missing on the deep blacks. But that’s it. It is a very colour accurate display. Gets adequately bright and I could not find any pixelation.4. Performance is one of the best, if not best, in ...READ MORE',\n",
       " \"Again back to apple iphone after a gap of 2-3 years. It's pleasure to use iOS and the quality product by Apple. Iphone 11 still works like a beast in 2021 also. It really capable of doing day to day usage as well as hard core gaming. Battery is awesome. I'm really too much satisfied with it. Apart fto the very gorgious IPS LCD (AMOLED will be better) everything is mind boggling. Iphone💕.\",\n",
       " 'impressive super phone and best in class camera ,sound and face unlock is super fast just see and phone is unlock and fast in daily apps use',\n",
       " 'Well while switching from android to iOS the first thing you need to be careful about is that you will loose all your whatsapp chat backups as both are different operating systems. Camera clarity is awesome and though being an lcd screen clarity and resolution is good. Battery backup is also good unlike previous gen iPhone. So far the experience is good will Padre after a few months of usage.P.S the black is more of a dark grey shade and not jet black',\n",
       " 'In love with this iphone great performance,camera ,battery everything. Go for it have a uncompareble battery backup, no doubts in iPhone camera here You can see the picture which is shot on my iPhone In love with this iphone great performance,camera ,battery everything. Go for it have a uncompareble battery backup, no doubts in iPhone camera here You can see the picture which is shot on my iPhone In love with this iphone great performance,camera ,battery everything. Go for it have a uncompare...READ MORE']"
      ]
     },
     "execution_count": 251,
     "metadata": {},
     "output_type": "execute_result"
    }
   ],
   "source": [
    "review7=driver.find_elements_by_xpath(\"//div[@class='t-ZTKy']\")\n",
    "\n",
    "full_review7=[]\n",
    "for i in review7:\n",
    "    full_review7.append(i.text.replace(\"\\n\",\"\"))\n",
    "\n",
    "full_review7"
   ]
  },
  {
   "cell_type": "code",
   "execution_count": 252,
   "metadata": {},
   "outputs": [],
   "source": [
    "next_button7=driver.find_elements_by_xpath(\"//a[@class='_1LKTO3']\")[-1]\n",
    "next_button7.click()"
   ]
  },
  {
   "cell_type": "code",
   "execution_count": 253,
   "metadata": {},
   "outputs": [
    {
     "data": {
      "text/plain": [
       "['5', '5', '5', '4', '5', '5', '5', '5', '5', '5']"
      ]
     },
     "execution_count": 253,
     "metadata": {},
     "output_type": "execute_result"
    }
   ],
   "source": [
    "rating_tags8=driver.find_elements_by_xpath(\"//div[@class='_3LWZlK _1BLPMq']\")\n",
    "\n",
    "ratings8=[]\n",
    "for i in rating_tags8:\n",
    "    ratings8.append(i.text)\n",
    "\n",
    "ratings8"
   ]
  },
  {
   "cell_type": "code",
   "execution_count": 254,
   "metadata": {},
   "outputs": [
    {
     "data": {
      "text/plain": [
       "['Just wow!',\n",
       " 'Awesome',\n",
       " 'Terrific',\n",
       " 'Pretty good',\n",
       " 'Terrific purchase',\n",
       " 'Awesome',\n",
       " 'Classy product',\n",
       " 'Brilliant',\n",
       " 'Terrific',\n",
       " 'Perfect product!']"
      ]
     },
     "execution_count": 254,
     "metadata": {},
     "output_type": "execute_result"
    }
   ],
   "source": [
    "review_tags8=driver.find_elements_by_xpath(\"//p[@class='_2-N8zT']\")\n",
    "\n",
    "review_summary8=[]\n",
    "for i in review_tags8:\n",
    "    review_summary8.append(i.text)\n",
    "\n",
    "review_summary8"
   ]
  },
  {
   "cell_type": "code",
   "execution_count": 255,
   "metadata": {},
   "outputs": [
    {
     "data": {
      "text/plain": [
       "['Best in class. Battery backup is good especially when you play games like Pubg COD. But it is sort of heavy when you hold in hands. Portrait mode is best to click pictures. Stage light effect is awesome. Try to click photos outside in nature because photos inside home or room will not give you the quality in any phone even in DSLR.',\n",
       " 'Very excited to have this phone. This phone has the real power unlike the android phones having SD 855 . The battery life is very good and the camera quality is excellent as comapred to redmi and other phones except google pixel. I M enjoying every single bit of it. Would recommed only if you have the budget.',\n",
       " \"I upgraded (downgraded?) from my iPhone X since the phone fell down and I didn't want to repair the screen. The box that the phone came in was super slim and I was worried that there'd be no 5W charger with it and my fears were confirmed. However, thankfully I had the 18W USB-C PD charger from Apple which I bought for my iPhone X and it worked perfectly. The charging time is as lethargic as ever though and it takes about 1:30 mins or even 2 hours depending on charge remaining. I'll list some ...READ MORE\",\n",
       " 'I was using Iphone 6s and also Oneplus 6t. Both mobiles were perfectly alright in Photos, gaming, and smooth interface . My 6s mobile getting battery issue. thought upgrade to 11. Really like this mobile of its Internal storage (compare to 6s) , camera and its touch feeling. Its a worth buying mobile for me.',\n",
       " 'Its Very awesome product working and good camera quality and all about best product and also flipkart is very great deal and offer nice price',\n",
       " 'I am using this phone for 5 days and its one of the best camera out there ❤️ the screen is not oled and i am coming from iphone xs so its little bit not up to the mark i would sayBut overall value for money💕😍the battery back up is far better than my iphone xs and its worth in my apple ecosystem💫❤️if u are an apple User and have the eco system then go for it❤️though i will be getting the new iphone but its pretty good💫',\n",
       " 'Best and amazing product.....phone looks so premium.... battary is also good as expected .... Wide angle camera is so addictive ...if you are a IOS lover....then this phone will be the best choice for you all!!💯🔥',\n",
       " 'Excellent camera and display touching very nice and smooth very improvement against iPhone XR and new processor is very fast',\n",
       " \"I got this beast today. And I must say the picture quality of its camera is awesome. Both the cameras works fine.As for as the processing is concerned, it runs without any lag. You can play and do whatever you want without a glitch.The battery runs for a day with medium and high workload.The display is good and the speakers are working fine.The earphones doesn't have any base and you can use it for calling mostly.The charging time is approximately for 90 minutes for full charging...READ MORE\",\n",
       " 'Awesome purchase. Amazing phone with good battery backup. It’s a top notch device. White colour looks amazing. Phone has a few extra feature than iPhone XR. Overall, this is value for money']"
      ]
     },
     "execution_count": 255,
     "metadata": {},
     "output_type": "execute_result"
    }
   ],
   "source": [
    "review8=driver.find_elements_by_xpath(\"//div[@class='t-ZTKy']\")\n",
    "\n",
    "full_review8=[]\n",
    "for i in review8:\n",
    "    full_review8.append(i.text.replace(\"\\n\",\"\"))\n",
    "\n",
    "full_review8"
   ]
  },
  {
   "cell_type": "code",
   "execution_count": 256,
   "metadata": {},
   "outputs": [],
   "source": [
    "next_button8=driver.find_elements_by_xpath(\"//a[@class='_1LKTO3']\")[-1]\n",
    "next_button8.click()"
   ]
  },
  {
   "cell_type": "code",
   "execution_count": 257,
   "metadata": {},
   "outputs": [
    {
     "data": {
      "text/plain": [
       "['5', '5', '5', '5', '5', '4', '5', '5', '5']"
      ]
     },
     "execution_count": 257,
     "metadata": {},
     "output_type": "execute_result"
    }
   ],
   "source": [
    "rating_tags9=driver.find_elements_by_xpath(\"//div[@class='_3LWZlK _1BLPMq']\")\n",
    "\n",
    "ratings9=[]\n",
    "for i in rating_tags9:\n",
    "    ratings9.append(i.text)\n",
    "\n",
    "ratings9"
   ]
  },
  {
   "cell_type": "code",
   "execution_count": 258,
   "metadata": {},
   "outputs": [
    {
     "data": {
      "text/plain": [
       "['Awesome',\n",
       " 'Perfect product!',\n",
       " 'Very poor',\n",
       " 'Fabulous!',\n",
       " 'Excellent',\n",
       " 'Must buy!',\n",
       " 'Value-for-money',\n",
       " 'Best in the market!',\n",
       " 'Brilliant',\n",
       " 'Terrific purchase']"
      ]
     },
     "execution_count": 258,
     "metadata": {},
     "output_type": "execute_result"
    }
   ],
   "source": [
    "review_tags9=driver.find_elements_by_xpath(\"//p[@class='_2-N8zT']\")\n",
    "\n",
    "review_summary9=[]\n",
    "for i in review_tags9:\n",
    "    review_summary9.append(i.text)\n",
    "\n",
    "review_summary9"
   ]
  },
  {
   "cell_type": "code",
   "execution_count": 259,
   "metadata": {},
   "outputs": [
    {
     "data": {
      "text/plain": [
       "['Always love the apple products, upgraded from old iPhone 6S plus to this after having my first baby. I just love to click baby’s photos with it. Overall I just love this phone. Battery back up is okay, sound quality is good. Haven’t tested yet waterproof yet. Only one thing I hate is apple could have given charger & headphones in box.',\n",
       " 'Value for money5 star ratingExcellent cameraBattery backup full day in single charge.Tougher and water resistant design, glossy back.The screen has excellent brightness and contrast.Apple A13 Bionic is the fastest smartphone chip on the planet.Excellent battery life, fast charging support.Stereo speakers with great quality.',\n",
       " 'Please DONT buy from here,I purchased Apple iPhone 11. with an exchange of IPhone 7, the exchange did not go well, iPhone 7 had a small scratch out side screen which i could never identify till date, but the FLIPKART person could, so he reduced 50% from exchange rate. I decided not to trade in, but paid money.iPhone 11 Detail Below---------------------------------------------It came with no charging, then i have put for charging, it took lot of time for charging, the phone also showe...READ MORE',\n",
       " 'awesome phone to have. it has got many smart features apart from mind blowing looks, camera, display, battery and sound. have fallen in love with this phone. must buy phone if you have got enough money. thanks to flipkart and apple of course..',\n",
       " 'Its a fabulous mobile look awesome performance unbeaten camera like dslr battery good i think this is a beast of mobile',\n",
       " 'Dear friends... I want to share my experience with you about this amazing I phone 11....this is my first iPhone and special things about this mobile is it has great camera, battery backup and awesome display.... I mean everything is perfect.loved it 👍👍👍',\n",
       " \"Just got this iphone 11And it is most powerful mobile phone I have used everSo,go for it if you want a phone with best specification like camera,battery backup,display, A13 bionic chipThat's my review about this phone but yours can be differ from me....\",\n",
       " \"The best all rounder iphone. Flipkart is doing a great job. They're delivery services are blazing fast. I got delivery on the same day. Genuine Apple Product. Working great. Talking about review There's no need of review for iphones. They're simply the best.\",\n",
       " 'Amazing phone and on great deal I received with super fast delivery by Flipkart...',\n",
       " 'finally an iPhone with very nice battery backup. update from iPhone 7 and happy to have it. camera is not up to the mark in low light but overall a recommended phone if your budget allows 😀']"
      ]
     },
     "execution_count": 259,
     "metadata": {},
     "output_type": "execute_result"
    }
   ],
   "source": [
    "review9=driver.find_elements_by_xpath(\"//div[@class='t-ZTKy']\")\n",
    "\n",
    "full_review9=[]\n",
    "for i in review9:\n",
    "    full_review9.append(i.text.replace(\"\\n\",\"\"))\n",
    "\n",
    "full_review9"
   ]
  },
  {
   "cell_type": "markdown",
   "metadata": {},
   "source": [
    "Q8: Scrape data for first 100 sneakers you find when you visit flipkart.com and \n",
    "search for “sneakers” in the search field.\n",
    "You have to scrape 4 attributes of each sneaker :\n",
    "1. Brand\n",
    "2. Product Description\n",
    "3. Price\n",
    "4. discount %"
   ]
  },
  {
   "cell_type": "code",
   "execution_count": 261,
   "metadata": {},
   "outputs": [],
   "source": [
    "import selenium\n",
    "import pandas as pd\n",
    "from selenium import webdriver"
   ]
  },
  {
   "cell_type": "code",
   "execution_count": 262,
   "metadata": {},
   "outputs": [],
   "source": [
    "driver=webdriver.Chrome(\"chromedriver.exe\")"
   ]
  },
  {
   "cell_type": "code",
   "execution_count": 263,
   "metadata": {},
   "outputs": [],
   "source": [
    "url='https://www.flipkart.com/'\n",
    "driver.get(url)"
   ]
  },
  {
   "cell_type": "code",
   "execution_count": 264,
   "metadata": {},
   "outputs": [
    {
     "data": {
      "text/plain": [
       "<selenium.webdriver.remote.webelement.WebElement (session=\"3f6947bf59ca68e518ec220697c85982\", element=\"785b6aa7-0f9e-405e-adf2-ee1a89823a1b\")>"
      ]
     },
     "execution_count": 264,
     "metadata": {},
     "output_type": "execute_result"
    }
   ],
   "source": [
    "search=driver.find_element_by_xpath('//input[@title=\"Search for products, brands and more\"]')\n",
    "search"
   ]
  },
  {
   "cell_type": "code",
   "execution_count": 267,
   "metadata": {},
   "outputs": [],
   "source": [
    "search.send_keys(\"sneakers\")"
   ]
  },
  {
   "cell_type": "code",
   "execution_count": 268,
   "metadata": {},
   "outputs": [],
   "source": [
    "search_btn=driver.find_element_by_xpath(\"//button[@class='L0Z3Pu']\")\n",
    "search_btn.click()"
   ]
  },
  {
   "cell_type": "code",
   "execution_count": 269,
   "metadata": {},
   "outputs": [
    {
     "data": {
      "text/plain": [
       "['Magnolia',\n",
       " 'BRUTON',\n",
       " 'Chevit',\n",
       " 'ESSENCE',\n",
       " 'Longwalk',\n",
       " 'ASTEROID',\n",
       " 'luxury fashion',\n",
       " 'ESSENCE',\n",
       " 'PEHANOSA',\n",
       " 'BIRDE',\n",
       " 'Creer',\n",
       " 'ESSENCE',\n",
       " 'Numenzo',\n",
       " 'Numenzo',\n",
       " 'Numenzo',\n",
       " 'ESSENCE',\n",
       " 'Shoes Bank',\n",
       " 'believe',\n",
       " 'Absolute comfort',\n",
       " 'ESSENCE',\n",
       " 'ASTEROID',\n",
       " 'World Wear Footwear',\n",
       " 'Kraasa',\n",
       " 'ESSENCE',\n",
       " 'Airland',\n",
       " 'SCATCHITE',\n",
       " 'Numenzo',\n",
       " 'Numenzo',\n",
       " 'Arohi',\n",
       " 'RODDICK SHOES',\n",
       " 'restinfoot',\n",
       " 'bluemaker',\n",
       " 'HOC',\n",
       " 'VIPSJAZZY',\n",
       " 'Robbie jones',\n",
       " 'OZJI',\n",
       " 'RODDICK SHOES',\n",
       " 'bluemaker',\n",
       " 'World Wear Footwear',\n",
       " 'Nilatin']"
      ]
     },
     "execution_count": 269,
     "metadata": {},
     "output_type": "execute_result"
    }
   ],
   "source": [
    "brand_name=driver.find_elements_by_xpath(\"//div[@class='_2WkVRV']\")\n",
    "\n",
    "brand_titles=[]\n",
    "for i in brand_name:\n",
    "    brand_titles.append(i.text)\n",
    "\n",
    "brand_titles"
   ]
  },
  {
   "cell_type": "code",
   "execution_count": 270,
   "metadata": {},
   "outputs": [
    {
     "data": {
      "text/plain": [
       "['Sneakers For Men',\n",
       " 'Combo Pack Of 4 Casual Shoes Loafer Shoes Sneakers For ...',\n",
       " 'Perfect & Affordable Combo Pack of 02 Pairs Sneakers Ou...',\n",
       " 'Sneakers For Men',\n",
       " 'Men Boxer Sneakers For Men',\n",
       " \"Original Luxury Branded Fashionable Men's Casual Walkin...\",\n",
       " 'New Collection Pair of Stylish Shoe Sneakers For Men',\n",
       " 'Sneakers For Men',\n",
       " 'Sneakers For Men',\n",
       " 'Birde Trendy Casual Shoes Sneakers For Men',\n",
       " 'Sneakers For Men',\n",
       " 'White Sneaker For Men Sneakers For Men',\n",
       " 'Sneakers For Men',\n",
       " 'Sneakers For Men',\n",
       " \"White Sneaker For Men's/Boy's Sneakers For Men\",\n",
       " 'Sneakers for men(black_6) Sneakers For Men',\n",
       " 'Luxury Fashionable casual sneaker shoes and shoes Sneak...',\n",
       " \"Original Luxury Branded Fashionable Men's Casual Walkin...\",\n",
       " '5011-Latest Collection Stylish Casual Loafer Sneakers S...',\n",
       " 'Series 7 Sneakers For Men',\n",
       " 'New Trendy Sneakers For Men',\n",
       " 'shoe Sneakers For Men',\n",
       " 'Sneakers Sneakers For Men',\n",
       " 'Sneakers For Men',\n",
       " 'Sneakers For Men',\n",
       " 'Sneakers For Men',\n",
       " 'Fashion Outdoor Canvas Casual Light Weight Lace-up Even...',\n",
       " \"Casual shoes,Sneakers for men's,shoes for men's Sneaker...\",\n",
       " 'casual for men (blue 10) Sneakers For Men',\n",
       " 'Luxury Fashionable Breathable Casual Sneakers Shoes For...',\n",
       " 'Sneakers For Men',\n",
       " 'Sneakers For Men',\n",
       " 'Fashion Outdoor Canvas Casual Light Weight Lace-up Even...',\n",
       " 'casual for men (blue 08) Sneakers For Men',\n",
       " 'Men 5014 Latest Collection Stylish Casual Sports Loafer...',\n",
       " 'Black Sneaker For Men Sneakers For Men']"
      ]
     },
     "execution_count": 270,
     "metadata": {},
     "output_type": "execute_result"
    }
   ],
   "source": [
    "product_description=driver.find_elements_by_xpath(\"//a[@class='IRpwTa']\")\n",
    "\n",
    "description=[]\n",
    "for i in product_description:\n",
    "    description.append(i.text)\n",
    "\n",
    "description"
   ]
  },
  {
   "cell_type": "code",
   "execution_count": 271,
   "metadata": {},
   "outputs": [
    {
     "data": {
      "text/plain": [
       "['₹356',\n",
       " '₹474',\n",
       " '₹599',\n",
       " '₹463',\n",
       " '₹236',\n",
       " '₹499',\n",
       " '₹449',\n",
       " '₹463',\n",
       " '₹375',\n",
       " '₹359',\n",
       " '₹398',\n",
       " '₹463',\n",
       " '₹429',\n",
       " '₹449',\n",
       " '₹449',\n",
       " '₹463',\n",
       " '₹349',\n",
       " '₹449',\n",
       " '₹198',\n",
       " '₹399',\n",
       " '₹499',\n",
       " '₹240',\n",
       " '₹444',\n",
       " '₹399',\n",
       " '₹264',\n",
       " '₹398',\n",
       " '₹398',\n",
       " '₹449',\n",
       " '₹460',\n",
       " '₹474',\n",
       " '₹349',\n",
       " '₹449',\n",
       " '₹378',\n",
       " '₹379',\n",
       " '₹499',\n",
       " '₹446',\n",
       " '₹474',\n",
       " '₹449',\n",
       " '₹240',\n",
       " '₹449']"
      ]
     },
     "execution_count": 271,
     "metadata": {},
     "output_type": "execute_result"
    }
   ],
   "source": [
    "product_price=driver.find_elements_by_xpath(\"//div[@class='_30jeq3']\")\n",
    "product_price\n",
    "\n",
    "price=[]\n",
    "for i in product_price:\n",
    "    price.append(i.text)\n",
    "\n",
    "price"
   ]
  },
  {
   "cell_type": "code",
   "execution_count": 272,
   "metadata": {},
   "outputs": [
    {
     "data": {
      "text/plain": [
       "['64% off',\n",
       " '86% off',\n",
       " '66% off',\n",
       " '53% off',\n",
       " '52% off',\n",
       " '75% off',\n",
       " '65% off',\n",
       " '53% off',\n",
       " '62% off',\n",
       " '28% off',\n",
       " '60% off',\n",
       " '53% off',\n",
       " '66% off',\n",
       " '77% off',\n",
       " '65% off',\n",
       " '53% off',\n",
       " '65% off',\n",
       " '55% off',\n",
       " '60% off',\n",
       " '60% off',\n",
       " '50% off',\n",
       " '51% off',\n",
       " '55% off',\n",
       " '60% off',\n",
       " '47% off',\n",
       " '60% off',\n",
       " '60% off',\n",
       " '77% off',\n",
       " '53% off',\n",
       " '52% off',\n",
       " '65% off',\n",
       " '55% off',\n",
       " '81% off',\n",
       " '62% off',\n",
       " '50% off',\n",
       " '55% off',\n",
       " '52% off',\n",
       " '55% off',\n",
       " '51% off',\n",
       " '65% off']"
      ]
     },
     "execution_count": 272,
     "metadata": {},
     "output_type": "execute_result"
    }
   ],
   "source": [
    "product_discount=driver.find_elements_by_xpath(\"//div[@class='_3Ay6Sb']\")\n",
    "product_discount\n",
    "\n",
    "discount=[]\n",
    "for i in product_discount:\n",
    "    discount.append(i.text)\n",
    "\n",
    "discount"
   ]
  },
  {
   "cell_type": "code",
   "execution_count": 273,
   "metadata": {},
   "outputs": [],
   "source": [
    "next_button=driver.find_element_by_xpath(\"//a[@class='_1LKTO3']\")\n",
    "next_button.click()"
   ]
  },
  {
   "cell_type": "code",
   "execution_count": 274,
   "metadata": {},
   "outputs": [
    {
     "data": {
      "text/plain": [
       "['RODDICK SHOES',\n",
       " 'SPARX',\n",
       " 'SPARX',\n",
       " 'Echor',\n",
       " 'BIRDE',\n",
       " 'Kreverse',\n",
       " 'Axter',\n",
       " 'otoos',\n",
       " 'SHOEFLY',\n",
       " 'D-SNEAKERZ',\n",
       " 'Chevit',\n",
       " 'India hub',\n",
       " 'BRUTON',\n",
       " 'BIRDE',\n",
       " 'SHOEFLY',\n",
       " 'Baogi',\n",
       " 'bluemaker',\n",
       " 'BRUTON',\n",
       " 'TR',\n",
       " 'Absolutee shoes',\n",
       " 'Zorth',\n",
       " 'Jack Diamond',\n",
       " 'Jack Diamond',\n",
       " 'bentino',\n",
       " 'Zsyto',\n",
       " 'BIRDE',\n",
       " 'Chevit',\n",
       " 'pollachief',\n",
       " 'SPARX',\n",
       " 'SPARX',\n",
       " 'Labbin',\n",
       " 'BRUTON',\n",
       " 'Robbie jones',\n",
       " 'Magnolia',\n",
       " 'Robbie jones',\n",
       " 'bluemaker',\n",
       " 'D-SNEAKERZ',\n",
       " 'PUMA',\n",
       " 'Zorth',\n",
       " 'CALCADOS']"
      ]
     },
     "execution_count": 274,
     "metadata": {},
     "output_type": "execute_result"
    }
   ],
   "source": [
    "brand_name1=driver.find_elements_by_xpath(\"//div[@class='_2WkVRV']\")\n",
    "\n",
    "brand_titles1=[]\n",
    "for i in brand_name1:\n",
    "    brand_titles1.append(i.text)\n",
    "\n",
    "brand_titles1"
   ]
  },
  {
   "cell_type": "code",
   "execution_count": 275,
   "metadata": {},
   "outputs": [
    {
     "data": {
      "text/plain": [
       "['Fashion Outdoor Canvas Casual Light Weight Lace-up Even...',\n",
       " 'SM-322 Sneakers For Men',\n",
       " 'Raptor Sneakers For Men',\n",
       " 'Combo Pack of 2 Casual Shoes Sneakers For Men',\n",
       " 'Sneakers For Men',\n",
       " 'New Collection of Combo Pack of 2 Stylish Shoes Sneaker...',\n",
       " 'Sneakers For Men',\n",
       " 'Combo Men Pack of 2 Loafers Shoes Sneakers For Men',\n",
       " \"Casual , Partywear Sneakers Shoes For Men's And Boys Wh...\",\n",
       " 'Unique & Perfect Collection Combo Pack of 02 Shoes for ...',\n",
       " 'Sneakers For Men',\n",
       " 'Modern & Trendy Collection Combo Pack of 02 Shoes for M...',\n",
       " 'Birde Trendy Casual Shoes Sneakers For Men',\n",
       " 'Combo Men Pack of 2 Loafers Shoes Sneakers For Men',\n",
       " 'casual for men (beige 06) Sneakers For Men',\n",
       " 'Sneakers For Men',\n",
       " 'ABSOLUTEE SHOES ORANGE GYM SHOE FOR MEN Sneakers For Me...',\n",
       " 'New Fashion Outdoor Trendy Lightweight Casual,Canvas St...',\n",
       " 'Sneakers For Men',\n",
       " \"Men's Stylish Casual Shoes Sneakers For Men\",\n",
       " 'Smart Casuals Canvas Shoes Combo pack of 2 Sneakers For...',\n",
       " 'Casual Sneaker for Men Sneakers For Men',\n",
       " 'Men White Sneakers Sneakers For Men',\n",
       " 'SM-675 Sneakers For Men',\n",
       " 'Casual Sneakers White Shoes For Men And Boys Sneakers F...',\n",
       " 'Combo Pack Of 3 Latest Casual Shoes Sneakers For Men',\n",
       " 'Sneakers For Men',\n",
       " 'White Sneakers Sneakers For Men',\n",
       " 'Casual Sneakers Shoes For Men Sneakers For Men',\n",
       " 'casual for men (beige 10) Sneakers For Men',\n",
       " \"Casual , Partywear Sneakers Shoes For Men's And Boys Re...\",\n",
       " 'Puma Kor IDP Sneakers For Men',\n",
       " 'Sneakers For Men',\n",
       " 'Relaxed Attractive Combo pack of 4 Sneakers For Men']"
      ]
     },
     "execution_count": 275,
     "metadata": {},
     "output_type": "execute_result"
    }
   ],
   "source": [
    "product_description1=driver.find_elements_by_xpath(\"//a[@class='IRpwTa']\")\n",
    "product_description1\n",
    "\n",
    "description1=[]\n",
    "for i in product_description1:\n",
    "    description1.append(i.text)\n",
    "\n",
    "description1"
   ]
  },
  {
   "cell_type": "code",
   "execution_count": 276,
   "metadata": {},
   "outputs": [
    {
     "data": {
      "text/plain": [
       "['₹474',\n",
       " '₹769',\n",
       " '₹649',\n",
       " '₹429',\n",
       " '₹472',\n",
       " '₹266',\n",
       " '₹599',\n",
       " '₹499',\n",
       " '₹362',\n",
       " '₹348',\n",
       " '₹599',\n",
       " '₹399',\n",
       " '₹444',\n",
       " '₹283',\n",
       " '₹362',\n",
       " '₹378',\n",
       " '₹449',\n",
       " '₹168',\n",
       " '₹499',\n",
       " '₹629',\n",
       " '₹435',\n",
       " '₹630',\n",
       " '₹627',\n",
       " '₹399',\n",
       " '₹398',\n",
       " '₹359',\n",
       " '₹399',\n",
       " '₹468',\n",
       " '₹623',\n",
       " '₹745',\n",
       " '₹399',\n",
       " '₹526',\n",
       " '₹499',\n",
       " '₹311',\n",
       " '₹399',\n",
       " '₹449',\n",
       " '₹346',\n",
       " '₹1,400',\n",
       " '₹439',\n",
       " '₹499']"
      ]
     },
     "execution_count": 276,
     "metadata": {},
     "output_type": "execute_result"
    }
   ],
   "source": [
    "product_price1=driver.find_elements_by_xpath(\"//div[@class='_30jeq3']\")\n",
    "product_price1\n",
    "\n",
    "price1=[]\n",
    "for i in product_price1:\n",
    "    price1.append(i.text)\n",
    "\n",
    "price1"
   ]
  },
  {
   "cell_type": "code",
   "execution_count": 277,
   "metadata": {},
   "outputs": [
    {
     "data": {
      "text/plain": [
       "['52% off',\n",
       " '23% off',\n",
       " '7% off',\n",
       " '57% off',\n",
       " '52% off',\n",
       " '73% off',\n",
       " '39% off',\n",
       " '50% off',\n",
       " '63% off',\n",
       " '47% off',\n",
       " '60% off',\n",
       " '80% off',\n",
       " '82% off',\n",
       " '43% off',\n",
       " '72% off',\n",
       " '62% off',\n",
       " '55% off',\n",
       " '71% off',\n",
       " '75% off',\n",
       " '68% off',\n",
       " '56% off',\n",
       " '36% off',\n",
       " '37% off',\n",
       " '60% off',\n",
       " '69% off',\n",
       " '28% off',\n",
       " '60% off',\n",
       " '53% off',\n",
       " '16% off',\n",
       " '17% off',\n",
       " '60% off',\n",
       " '82% off',\n",
       " '50% off',\n",
       " '68% off',\n",
       " '60% off',\n",
       " '55% off',\n",
       " '65% off',\n",
       " '64% off',\n",
       " '56% off',\n",
       " '75% off']"
      ]
     },
     "execution_count": 277,
     "metadata": {},
     "output_type": "execute_result"
    }
   ],
   "source": [
    "product_discount1=driver.find_elements_by_xpath(\"//div[@class='_3Ay6Sb']\")\n",
    "product_discount1\n",
    "\n",
    "discount1=[]\n",
    "for i in product_discount1:\n",
    "    discount1.append(i.text)\n",
    "\n",
    "discount1"
   ]
  },
  {
   "cell_type": "code",
   "execution_count": 278,
   "metadata": {},
   "outputs": [],
   "source": [
    "next_button1=driver.find_elements_by_xpath(\"//a[@class='_1LKTO3']\")[-1]\n",
    "next_button1.click()"
   ]
  },
  {
   "cell_type": "code",
   "execution_count": 279,
   "metadata": {},
   "outputs": [
    {
     "data": {
      "text/plain": [
       "['SHOEFLY',\n",
       " 'SPARX',\n",
       " 'Kraasa',\n",
       " 'ESSENCE',\n",
       " 'SPARX',\n",
       " 'BRUTON',\n",
       " 'SPARX',\n",
       " 'pollachief',\n",
       " 'BIRDE',\n",
       " 'Rising Wolf',\n",
       " 'bluemaker',\n",
       " 'BOLTAGO',\n",
       " 'T-ROCK',\n",
       " 'KANEGGYE',\n",
       " 'WRIZT',\n",
       " 'BRUTON',\n",
       " 'RED TAPE',\n",
       " 'SPARX',\n",
       " 'Edoeviv',\n",
       " 'bluemaker',\n",
       " 'BRUTON',\n",
       " 'BIRDE',\n",
       " 'SPARX',\n",
       " 'CALCADOS',\n",
       " 'SPARX',\n",
       " 'SHOEFLY',\n",
       " 'bluemaker',\n",
       " 'PUMA',\n",
       " 'Extoes',\n",
       " 'PUMA',\n",
       " 'D-SNEAKERZ',\n",
       " 'Chevit',\n",
       " 'SPARX',\n",
       " 'India hub',\n",
       " 'PUMA',\n",
       " 'Extoes',\n",
       " 'Robbie jones',\n",
       " 'SPARX',\n",
       " 'Zsyto',\n",
       " 'PUMA']"
      ]
     },
     "execution_count": 279,
     "metadata": {},
     "output_type": "execute_result"
    }
   ],
   "source": [
    "brand_name2=driver.find_elements_by_xpath(\"//div[@class='_2WkVRV']\")\n",
    "brand_name2\n",
    "\n",
    "brand_titles2=[]\n",
    "for i in brand_name2:\n",
    "    brand_titles2.append(i.text)\n",
    "\n",
    "brand_titles2"
   ]
  },
  {
   "cell_type": "code",
   "execution_count": 280,
   "metadata": {},
   "outputs": [
    {
     "data": {
      "text/plain": [
       "['Combo Men Pack of 2 Loafers Shoes Sneakers For Men',\n",
       " 'SM-482 Sneakers For Men',\n",
       " 'Shark-41 Sneakers For Men',\n",
       " 'Sneakers For Men',\n",
       " 'SM-162 Sneakers For Men',\n",
       " 'Modern Trendy Shoes Sneakers For Men',\n",
       " 'SD-323 Sneakers For Men',\n",
       " 'Casual Sneaker for Men Sneakers For Men',\n",
       " 'Birde Trendy Casual Shoes Sneakers For Men',\n",
       " 'Sneakers For Men',\n",
       " 'casual shoe for men Sneakers For Men',\n",
       " 'casual shoes Sneakers For Men',\n",
       " 'Synthetic Leather Casual Partywear Wedding Sneakers Sho...',\n",
       " 'Sneakers For Men',\n",
       " 'Combo Pack Of 3 Latest Casual Shoes Sneakers For Men',\n",
       " \"Luxury Branded Fashionable Men's Casual Walking Partywe...\",\n",
       " 'casual for men (beige 10) Sneakers For Men',\n",
       " 'Combo Pack Of 2 Casual Shoes Sneakers Shoes Sneakers Fo...',\n",
       " 'Trendy Casual Shoes Sneakers For Men',\n",
       " 'Casual Sneakers Sneakers For Men',\n",
       " 'Relaxed Attractive Combo pack of 4 Sneakers For Men',\n",
       " 'Canvas Casual Partywear Outdoor Sneakers Shoes For Mens...',\n",
       " 'Combo Men Pack of 2 Loafers Shoes Sneakers For Men',\n",
       " 'casual for men Sneakers For Men',\n",
       " 'X-Ray Sneakers For Men',\n",
       " 'Modern Trendy Shoes Combo pack of 4 Sneakers For Men',\n",
       " 'Puma Smash Vulc Sneakers For Men',\n",
       " \"Casual , Partywear Sneakers Shoes For Men's And Boys Wh...\",\n",
       " 'Speed Set of 5 Pairs Sneakers Outdoors Casuals for Men ...',\n",
       " 'X-Ray 2 Square Mid WTR Sneakers For Men',\n",
       " 'Relaxed Attractive Combo pack of 4 Sneakers For Men',\n",
       " 'Casual Sneakers Shoes For Men And Boys Sneakers For Men',\n",
       " 'SM-322 Sneakers For Men',\n",
       " 'Acrux IDP Sneakers For Men']"
      ]
     },
     "execution_count": 280,
     "metadata": {},
     "output_type": "execute_result"
    }
   ],
   "source": [
    "product_description2=driver.find_elements_by_xpath(\"//a[@class='IRpwTa']\")\n",
    "product_description2\n",
    "\n",
    "description2=[]\n",
    "for i in product_description2:\n",
    "    description2.append(i.text)\n",
    "\n",
    "description2"
   ]
  },
  {
   "cell_type": "code",
   "execution_count": 281,
   "metadata": {},
   "outputs": [
    {
     "data": {
      "text/plain": [
       "['₹362',\n",
       " '₹985',\n",
       " '₹444',\n",
       " '₹463',\n",
       " '₹849',\n",
       " '₹319',\n",
       " '₹625',\n",
       " '₹468',\n",
       " '₹283',\n",
       " '₹569',\n",
       " '₹449',\n",
       " '₹474',\n",
       " '₹379',\n",
       " '₹399',\n",
       " '₹445',\n",
       " '₹526',\n",
       " '₹1,049',\n",
       " '₹660',\n",
       " '₹499',\n",
       " '₹449',\n",
       " '₹499',\n",
       " '₹283',\n",
       " '₹1,000',\n",
       " '₹499',\n",
       " '₹630',\n",
       " '₹362',\n",
       " '₹449',\n",
       " '₹3,500',\n",
       " '₹789',\n",
       " '₹1,900',\n",
       " '₹384',\n",
       " '₹899',\n",
       " '₹809',\n",
       " '₹449',\n",
       " '₹3,690',\n",
       " '₹449',\n",
       " '₹474',\n",
       " '₹719',\n",
       " '₹398',\n",
       " '₹1,650']"
      ]
     },
     "execution_count": 281,
     "metadata": {},
     "output_type": "execute_result"
    }
   ],
   "source": [
    "product_price2=driver.find_elements_by_xpath(\"//div[@class='_30jeq3']\")\n",
    "product_price2\n",
    "\n",
    "price2=[]\n",
    "for i in product_price2:\n",
    "    price2.append(i.text)\n",
    "\n",
    "price2"
   ]
  },
  {
   "cell_type": "code",
   "execution_count": 282,
   "metadata": {},
   "outputs": [
    {
     "data": {
      "text/plain": [
       "['63% off',\n",
       " '26% off',\n",
       " '55% off',\n",
       " '53% off',\n",
       " '10% off',\n",
       " '75% off',\n",
       " '16% off',\n",
       " '53% off',\n",
       " '43% off',\n",
       " '64% off',\n",
       " '55% off',\n",
       " '52% off',\n",
       " '62% off',\n",
       " '20% off',\n",
       " '55% off',\n",
       " '82% off',\n",
       " '87% off',\n",
       " '17% off',\n",
       " '37% off',\n",
       " '55% off',\n",
       " '80% off',\n",
       " '43% off',\n",
       " '23% off',\n",
       " '75% off',\n",
       " '15% off',\n",
       " '70% off',\n",
       " '55% off',\n",
       " '49% off',\n",
       " '47% off',\n",
       " '49% off',\n",
       " '61% off',\n",
       " '63% off',\n",
       " '10% off',\n",
       " '85% off',\n",
       " '58% off',\n",
       " '77% off',\n",
       " '52% off',\n",
       " '23% off',\n",
       " '60% off',\n",
       " '49% off']"
      ]
     },
     "execution_count": 282,
     "metadata": {},
     "output_type": "execute_result"
    }
   ],
   "source": [
    "product_discount2=driver.find_elements_by_xpath(\"//div[@class='_3Ay6Sb']\")\n",
    "product_discount2\n",
    "\n",
    "discount2=[]\n",
    "for i in product_discount2:\n",
    "    discount2.append(i.text)\n",
    "\n",
    "discount2"
   ]
  },
  {
   "cell_type": "markdown",
   "metadata": {},
   "source": [
    "Q9: Go to the link - https://www.myntra.com/shoes\n",
    "Set Price filter to “Rs. 6649 to Rs. 13099” , Color filter to “Black”, And then scrape First 100 shoes data you get. The data should include “Brand” of \n",
    "the shoes , Short Shoe description, price of the shoe as shown in the below image.\n",
    "\n"
   ]
  },
  {
   "cell_type": "code",
   "execution_count": 296,
   "metadata": {},
   "outputs": [],
   "source": [
    "import selenium\n",
    "import pandas as pd\n",
    "from selenium import webdriver"
   ]
  },
  {
   "cell_type": "code",
   "execution_count": 297,
   "metadata": {},
   "outputs": [],
   "source": [
    "driver=webdriver.Chrome(\"chromedriver.exe\")"
   ]
  },
  {
   "cell_type": "code",
   "execution_count": 298,
   "metadata": {},
   "outputs": [],
   "source": [
    "url='https://www.myntra.com/shoes'\n",
    "driver.get(url) "
   ]
  },
  {
   "cell_type": "code",
   "execution_count": 305,
   "metadata": {},
   "outputs": [],
   "source": [
    "color_filter=driver.find_element_by_xpath(\"//span[@class='colour-num']\").click()"
   ]
  },
  {
   "cell_type": "code",
   "execution_count": 308,
   "metadata": {},
   "outputs": [],
   "source": [
    "price_filter=driver.find_element_by_xpath(\"//ul[@class='price-list']\").click()"
   ]
  },
  {
   "cell_type": "code",
   "execution_count": 311,
   "metadata": {},
   "outputs": [
    {
     "data": {
      "text/plain": [
       "['Rs. 6999',\n",
       " 'Rs. 6999',\n",
       " 'Rs. 6999',\n",
       " 'Rs. 8099Rs. 8999(10% OFF)',\n",
       " 'Rs. 8999Rs. 14999(40% OFF)',\n",
       " 'Rs. 7999',\n",
       " 'Rs. 10999',\n",
       " 'Rs. 7149Rs. 10999(35% OFF)',\n",
       " 'Rs. 11999',\n",
       " 'Rs. 12749Rs. 16999(25% OFF)',\n",
       " 'Rs. 8490',\n",
       " 'Rs. 6999Rs. 9999(30% OFF)',\n",
       " 'Rs. 7195',\n",
       " 'Rs. 6999',\n",
       " 'Rs. 7599',\n",
       " 'Rs. 7149Rs. 12999(45% OFF)',\n",
       " 'Rs. 8999Rs. 9999(10% OFF)',\n",
       " 'Rs. 10999',\n",
       " 'Rs. 9999',\n",
       " 'Rs. 6999',\n",
       " 'Rs. 7649Rs. 8999(15% OFF)',\n",
       " 'Rs. 10999',\n",
       " 'Rs. 6999',\n",
       " 'Rs. 7999',\n",
       " 'Rs. 12999',\n",
       " 'Rs. 8999Rs. 9999(10% OFF)',\n",
       " 'Rs. 9999',\n",
       " 'Rs. 8990',\n",
       " 'Rs. 6999',\n",
       " 'Rs. 7999',\n",
       " 'Rs. 11199Rs. 13999(20% OFF)',\n",
       " 'Rs. 9999',\n",
       " 'Rs. 9999',\n",
       " 'Rs. 9999',\n",
       " 'Rs. 9999',\n",
       " 'Rs. 8999',\n",
       " 'Rs. 8999',\n",
       " 'Rs. 6999',\n",
       " 'Rs. 9999',\n",
       " 'Rs. 7499',\n",
       " 'Rs. 8999Rs. 9999(10% OFF)',\n",
       " 'Rs. 8999',\n",
       " 'Rs. 11999',\n",
       " 'Rs. 9999',\n",
       " 'Rs. 9999',\n",
       " 'Rs. 7999',\n",
       " 'Rs. 6999',\n",
       " 'Rs. 12999',\n",
       " 'Rs. 7999',\n",
       " 'Rs. 10999']"
      ]
     },
     "execution_count": 311,
     "metadata": {},
     "output_type": "execute_result"
    }
   ],
   "source": [
    "product_price=driver.find_elements_by_xpath(\"//div[@class='product-price']\")\n",
    "\n",
    "price=[]\n",
    "for i in product_price:\n",
    "    price.append(i.text)\n",
    "\n",
    "price"
   ]
  },
  {
   "cell_type": "code",
   "execution_count": 310,
   "metadata": {},
   "outputs": [
    {
     "data": {
      "text/plain": [
       "['Puma',\n",
       " 'Puma',\n",
       " 'Puma',\n",
       " 'Hush Puppies',\n",
       " 'Puma',\n",
       " 'Puma',\n",
       " 'Puma',\n",
       " 'UNDER ARMOUR',\n",
       " 'UNDER ARMOUR',\n",
       " 'Puma',\n",
       " 'J.FONTINI',\n",
       " 'Hush Puppies',\n",
       " 'Nike',\n",
       " 'Puma',\n",
       " 'Tommy Hilfiger',\n",
       " 'Puma',\n",
       " 'Hush Puppies',\n",
       " 'UNDER ARMOUR',\n",
       " 'UNDER ARMOUR',\n",
       " 'Tommy Hilfiger',\n",
       " 'Calvin Klein',\n",
       " 'Geox',\n",
       " 'FORCLAZ By Decathlon',\n",
       " 'UNDER ARMOUR',\n",
       " 'ROSSO BRUNELLO',\n",
       " 'Hush Puppies',\n",
       " 'PUMA Motorsport',\n",
       " 'J.FONTINI',\n",
       " 'UNDER ARMOUR',\n",
       " 'PUMA Motorsport',\n",
       " 'ASICS',\n",
       " 'Quechua By Decathlon',\n",
       " 'Puma',\n",
       " 'Bugatti',\n",
       " 'Geox',\n",
       " 'ASICS',\n",
       " 'PUMA Hoops',\n",
       " 'Tommy Hilfiger',\n",
       " 'Puma',\n",
       " 'Puma',\n",
       " 'Hush Puppies',\n",
       " 'UNDER ARMOUR',\n",
       " 'ROSSO BRUNELLO',\n",
       " 'Puma',\n",
       " 'Geox',\n",
       " 'PUMA Motorsport',\n",
       " 'Puma',\n",
       " 'ROSSO BRUNELLO',\n",
       " 'PUMA Motorsport',\n",
       " 'RARE RABBIT']"
      ]
     },
     "execution_count": 310,
     "metadata": {},
     "output_type": "execute_result"
    }
   ],
   "source": [
    "brand_name=driver.find_elements_by_xpath(\"//h3[@class='product-brand']\")\n",
    "brand_name\n",
    "\n",
    "brand_titles=[]\n",
    "for i in brand_name:\n",
    "    brand_titles.append(i.text)\n",
    "\n",
    "brand_titles"
   ]
  },
  {
   "cell_type": "code",
   "execution_count": 312,
   "metadata": {},
   "outputs": [
    {
     "data": {
      "text/plain": [
       "['Men Cell Fraction Fade Running',\n",
       " 'Men BlackTraining or Gym Shoes',\n",
       " 'Mesh Hybrid Fuego Running',\n",
       " 'Men Solid Leather Formal Slip-Ons',\n",
       " 'Women Deviate Nitro Running',\n",
       " 'Men FUSE Training Shoes',\n",
       " 'Men Velocity Nitro Running',\n",
       " 'Women HOVR Sonic 4 Running',\n",
       " 'Men HOVR Infinite Running',\n",
       " 'Men Football Shoes',\n",
       " 'Men Black Leather Loafers',\n",
       " 'Men Leather Slip-On Sneakers',\n",
       " \"Men BlazerLow '77 Sneakers\",\n",
       " 'Men Black Shoes',\n",
       " 'Men Striped Leather Sneakers',\n",
       " 'Women Eternity Nitro Running',\n",
       " 'Men Formal Derbys',\n",
       " 'Women HOVR Sonic 4 FnRn',\n",
       " 'Men HOVR Sonic STRT Tech Shoes',\n",
       " 'Men Leather Sneakers',\n",
       " 'Men Loafers',\n",
       " 'Men Printed Slip-On Sneakers',\n",
       " 'TREKKING 100 Boots',\n",
       " 'Women Charged Vantage ClrShft',\n",
       " 'Men Solid Leather Formal Monk Shoes',\n",
       " 'Men Solid Leather Formal Derbys',\n",
       " 'Unisex FerrariRS-Fast Sneakers',\n",
       " 'Men Solid Loafers',\n",
       " 'Women Charged Assert 8 Running',\n",
       " 'Unisex Ferrari Drift8 Sneakers',\n",
       " 'Women GlideRide Running Shoes',\n",
       " 'Men Trekking Shoes',\n",
       " 'Men Liberate NITRO Running',\n",
       " 'Men Running Shoes',\n",
       " 'Men Solid Sneakers',\n",
       " 'Women Running Shoes',\n",
       " 'Unisex Clyde Basketball Shoes',\n",
       " 'Men Lightweight Sneakers',\n",
       " 'Unisex RS-Z Running Shoes',\n",
       " 'Women Provoke XT FTR Shoes',\n",
       " 'Men Solid Leather Formal Slip-Ons',\n",
       " 'Women Charged Bandit 6 Running',\n",
       " 'Men Leather Formal Loafers',\n",
       " 'Unisex Leather Trainers',\n",
       " 'Men Sneakers',\n",
       " 'Scuderia Ferrari A3ROCAT Shoes',\n",
       " 'Unisex Colourblocked Sneakers',\n",
       " 'Men Leather Formal Loafers',\n",
       " 'Mercedes F1 Drift Cat Shoes',\n",
       " 'Men Leather Flat Boots']"
      ]
     },
     "execution_count": 312,
     "metadata": {},
     "output_type": "execute_result"
    }
   ],
   "source": [
    "product_description1=driver.find_elements_by_xpath(\"//h4[@class='product-product']\")\n",
    "product_description1\n",
    "\n",
    "description1=[]\n",
    "for i in product_description1:\n",
    "    description1.append(i.text)\n",
    "\n",
    "description1"
   ]
  },
  {
   "cell_type": "code",
   "execution_count": 313,
   "metadata": {},
   "outputs": [],
   "source": [
    "next_button=driver.find_element_by_xpath(\"//li[@class='pagination-next']\")\n",
    "next_button.click()"
   ]
  },
  {
   "cell_type": "code",
   "execution_count": 314,
   "metadata": {},
   "outputs": [
    {
     "data": {
      "text/plain": [
       "['Rs. 9999',\n",
       " 'Rs. 11199Rs. 13999(20% OFF)',\n",
       " 'Rs. 6990',\n",
       " 'Rs. 7600',\n",
       " 'Rs. 12999',\n",
       " 'Rs. 6993Rs. 9990(30% OFF)',\n",
       " 'Rs. 6999',\n",
       " 'Rs. 7006Rs. 7149(2% OFF)',\n",
       " 'Rs. 6999',\n",
       " 'Rs. 7999',\n",
       " 'Rs. 9999',\n",
       " 'Rs. 7693Rs. 10990(30% OFF)',\n",
       " 'Rs. 12999',\n",
       " 'Rs. 11999',\n",
       " 'Rs. 10999',\n",
       " 'Rs. 8990',\n",
       " 'Rs. 7039Rs. 10999(36% OFF)',\n",
       " 'Rs. 7990',\n",
       " 'Rs. 7990',\n",
       " 'Rs. 7990',\n",
       " 'Rs. 7773Rs. 8449(8% OFF)',\n",
       " 'Rs. 10399Rs. 12999(20% OFF)',\n",
       " 'Rs. 10295',\n",
       " 'Rs. 7499Rs. 9999(25% OFF)',\n",
       " 'Rs. 8999',\n",
       " 'Rs. 12999',\n",
       " 'Rs. 9093Rs. 12990(30% OFF)',\n",
       " 'Rs. 9999',\n",
       " 'Rs. 7999',\n",
       " 'Rs. 7199Rs. 8999(20% OFF)',\n",
       " 'Rs. 8999',\n",
       " 'Rs. 8999',\n",
       " 'Rs. 8900',\n",
       " 'Rs. 6993Rs. 9990(30% OFF)',\n",
       " 'Rs. 8500',\n",
       " 'Rs. 8000',\n",
       " 'Rs. 10493Rs. 14990(30% OFF)',\n",
       " 'Rs. 7192Rs. 8990(20% OFF)',\n",
       " 'Rs. 11242Rs. 14990(25% OFF)',\n",
       " 'Rs. 6990',\n",
       " 'Rs. 10999',\n",
       " 'Rs. 11999',\n",
       " 'Rs. 9999',\n",
       " 'Rs. 11999',\n",
       " 'Rs. 6995',\n",
       " 'Rs. 7599',\n",
       " 'Rs. 7992Rs. 9990(20% OFF)',\n",
       " 'Rs. 7192Rs. 8990(20% OFF)',\n",
       " 'Rs. 7999',\n",
       " 'Rs. 6999']"
      ]
     },
     "execution_count": 314,
     "metadata": {},
     "output_type": "execute_result"
    }
   ],
   "source": [
    "product_price1=driver.find_elements_by_xpath(\"//div[@class='product-price']\")\n",
    "\n",
    "price1=[]\n",
    "for i in product_price1:\n",
    "    price1.append(i.text)\n",
    "\n",
    "price1"
   ]
  },
  {
   "cell_type": "code",
   "execution_count": 315,
   "metadata": {},
   "outputs": [
    {
     "data": {
      "text/plain": [
       "['Geox',\n",
       " 'ASICS',\n",
       " 'J.FONTINI',\n",
       " 'Saint G',\n",
       " 'ROSSO BRUNELLO',\n",
       " 'Heel & Buckle London',\n",
       " 'Puma',\n",
       " 'KIPRUN By Decathlon',\n",
       " 'PUMA Motorsport',\n",
       " 'Puma',\n",
       " 'Puma',\n",
       " 'Heel & Buckle London',\n",
       " 'Cole Haan',\n",
       " 'Cole Haan',\n",
       " 'Cole Haan',\n",
       " 'Ruosh',\n",
       " 'VIONIC',\n",
       " 'J.FONTINI',\n",
       " 'J.FONTINI',\n",
       " 'J.FONTINI',\n",
       " 'Kalenji By Decathlon',\n",
       " 'Puma',\n",
       " 'Nike',\n",
       " 'PUMA Motorsport',\n",
       " 'Geox',\n",
       " 'Puma',\n",
       " 'Heel & Buckle London',\n",
       " 'ASICS',\n",
       " 'ASICS',\n",
       " 'ASICS',\n",
       " 'Bugatti',\n",
       " 'Bugatti',\n",
       " 'Saint G',\n",
       " 'Heel & Buckle London',\n",
       " 'Saint G',\n",
       " 'Saint G',\n",
       " 'Kenneth Cole',\n",
       " 'Heel & Buckle London',\n",
       " 'Geox',\n",
       " 'J.FONTINI',\n",
       " 'Geox',\n",
       " 'Geox',\n",
       " 'Geox',\n",
       " 'Cole Haan',\n",
       " 'Florsheim',\n",
       " 'Tommy Hilfiger',\n",
       " 'Heel & Buckle London',\n",
       " 'Heel & Buckle London',\n",
       " 'PUMA Motorsport',\n",
       " 'Puma']"
      ]
     },
     "execution_count": 315,
     "metadata": {},
     "output_type": "execute_result"
    }
   ],
   "source": [
    "brand_name1=driver.find_elements_by_xpath(\"//h3[@class='product-brand']\")\n",
    "brand_name1\n",
    "\n",
    "brand_titles1=[]\n",
    "for i in brand_name1:\n",
    "    brand_titles1.append(i.text)\n",
    "\n",
    "brand_titles1"
   ]
  },
  {
   "cell_type": "code",
   "execution_count": 316,
   "metadata": {},
   "outputs": [
    {
     "data": {
      "text/plain": [
       "['Men Sneakers',\n",
       " 'Women GlideRide Running Shoes',\n",
       " 'Men Solid Leather Formal Derbys',\n",
       " 'Women Leather Heeled Boots',\n",
       " 'Men Leather Formal Loafers',\n",
       " 'Women Solid Leather Gladiators',\n",
       " 'Women RS-Curve City Sneakers',\n",
       " 'Women Running Shoes',\n",
       " 'Women BMW M Motorsport Shoes',\n",
       " 'Women Fuse Moto Training Shoes',\n",
       " 'Women Liberate NITRO Running',\n",
       " 'Men Leather Sneakers',\n",
       " 'Men Wingtip Oxford Sneakers',\n",
       " 'Men GENERATION ZEROGRAND STITCHLITE',\n",
       " 'Leather Sneakers',\n",
       " 'Men Solid Leather Formal Monks',\n",
       " 'Men Textured Sneakers',\n",
       " 'Men Textured Leather Loafers',\n",
       " 'Men Solid Leather Loafers',\n",
       " 'Men Textured Leather Loafers',\n",
       " 'Men KD500 Running Shoe',\n",
       " 'Men Running Shoes',\n",
       " 'Women Air Zoom Running Shoes',\n",
       " 'Unisex BMW MMS RS-FastSneakers',\n",
       " 'Men Leather Formal Slip-Ons',\n",
       " 'Men Jamming 2.0 Running Shoes',\n",
       " 'Men Tassel Leather Loafer',\n",
       " 'Men Tennis Shoes',\n",
       " 'Men Black Running Sports Shoes',\n",
       " 'Men GEL-GLYDE 3 MX Running',\n",
       " 'Men Black Walking Shoes',\n",
       " 'Men Walking Shoes',\n",
       " 'Women Leather Heeled Boots',\n",
       " 'Women Solid Leather Heels',\n",
       " 'Women Leather Heeled Boots',\n",
       " 'Women Heeled Boots',\n",
       " 'Women Leather Pumps',\n",
       " 'Women Peep Toe Heels',\n",
       " 'Men Leather Formal Slip-Ons',\n",
       " 'Men Textured Leather Loafers',\n",
       " 'Men Solid Sneakers',\n",
       " 'Men Leather Flat Boots',\n",
       " 'Men Leather Driving Shoes',\n",
       " 'Women Open Toe Flats',\n",
       " 'Men Solid Leather Formal Derbys',\n",
       " 'Men Suede Sneakers',\n",
       " 'Men Leather Formal Loafers',\n",
       " 'Women Leather Pumps',\n",
       " 'Unisex Mercedes F1 Sneakers',\n",
       " 'Unisex Pacer Future Sneakers']"
      ]
     },
     "execution_count": 316,
     "metadata": {},
     "output_type": "execute_result"
    }
   ],
   "source": [
    "product_description2=driver.find_elements_by_xpath(\"//h4[@class='product-product']\")\n",
    "product_description2\n",
    "\n",
    "description2=[]\n",
    "for i in product_description2:\n",
    "    description2.append(i.text)\n",
    "\n",
    "description2"
   ]
  },
  {
   "cell_type": "code",
   "execution_count": null,
   "metadata": {},
   "outputs": [],
   "source": []
  },
  {
   "cell_type": "code",
   "execution_count": null,
   "metadata": {},
   "outputs": [],
   "source": []
  },
  {
   "cell_type": "markdown",
   "metadata": {},
   "source": [
    "Q10: Go to webpage https://www.amazon.in/\n",
    " Enter “Laptop” in the search field and then click the search icon.\n",
    " Then set CPU Type filter to “Intel Core i7” and “Intel Core i9” and After setting the filters scrape first 10 laptops data. You have to scrape 3 attributes \n",
    "for each laptop:\n",
    "1. title\n",
    "2. Ratings\n",
    "3. Price"
   ]
  },
  {
   "cell_type": "code",
   "execution_count": 283,
   "metadata": {},
   "outputs": [],
   "source": [
    "import selenium\n",
    "import pandas as pd\n",
    "from selenium import webdriver"
   ]
  },
  {
   "cell_type": "code",
   "execution_count": 284,
   "metadata": {},
   "outputs": [],
   "source": [
    "driver=webdriver.Chrome(\"chromedriver.exe\") "
   ]
  },
  {
   "cell_type": "code",
   "execution_count": 285,
   "metadata": {},
   "outputs": [],
   "source": [
    "url='https://www.amazon.in/'\n",
    "driver.get(url) "
   ]
  },
  {
   "cell_type": "code",
   "execution_count": 286,
   "metadata": {},
   "outputs": [],
   "source": [
    "search_box = driver.find_element_by_id('twotabsearchtextbox').send_keys(\"Laptop\")"
   ]
  },
  {
   "cell_type": "code",
   "execution_count": 287,
   "metadata": {},
   "outputs": [],
   "source": [
    "search_button = driver.find_element_by_id(\"nav-search-submit-text\").click()"
   ]
  },
  {
   "cell_type": "code",
   "execution_count": 288,
   "metadata": {},
   "outputs": [],
   "source": [
    "cpu_filter=driver.find_element_by_xpath(\"//span[@class='a-size-base a-color-base' and text()='Intel Core i7']\")\n",
    "cpu_filter.click()"
   ]
  },
  {
   "cell_type": "code",
   "execution_count": 289,
   "metadata": {},
   "outputs": [],
   "source": [
    "cpu_filter1=driver.find_element_by_xpath(\"//span[@class='a-size-base a-color-base' and text()='Intel Core i9']\")\n",
    "cpu_filter1.click()"
   ]
  },
  {
   "cell_type": "code",
   "execution_count": 290,
   "metadata": {},
   "outputs": [
    {
     "data": {
      "text/plain": [
       "[<selenium.webdriver.remote.webelement.WebElement (session=\"54da69c25aaeefb224d255a7bc4e588d\", element=\"22b13c50-f1c4-4851-96c4-94b4eb0ea9d9\")>,\n",
       " <selenium.webdriver.remote.webelement.WebElement (session=\"54da69c25aaeefb224d255a7bc4e588d\", element=\"1fecacc8-c916-484f-8c34-685639ec0c48\")>,\n",
       " <selenium.webdriver.remote.webelement.WebElement (session=\"54da69c25aaeefb224d255a7bc4e588d\", element=\"c065973a-977f-4134-8e34-c66ee4b6a762\")>,\n",
       " <selenium.webdriver.remote.webelement.WebElement (session=\"54da69c25aaeefb224d255a7bc4e588d\", element=\"46c8016a-ec11-4de2-b1c9-29e31c2a6ad8\")>,\n",
       " <selenium.webdriver.remote.webelement.WebElement (session=\"54da69c25aaeefb224d255a7bc4e588d\", element=\"030b7faf-25b6-4358-ad88-e41d33ab1227\")>,\n",
       " <selenium.webdriver.remote.webelement.WebElement (session=\"54da69c25aaeefb224d255a7bc4e588d\", element=\"cfa9f4b2-0bca-45f6-87fa-7fc72b4762c2\")>,\n",
       " <selenium.webdriver.remote.webelement.WebElement (session=\"54da69c25aaeefb224d255a7bc4e588d\", element=\"7aa64315-0e4b-441e-b6d6-82c0b3e35962\")>,\n",
       " <selenium.webdriver.remote.webelement.WebElement (session=\"54da69c25aaeefb224d255a7bc4e588d\", element=\"3de32873-a4c8-43a2-aec9-7deb70339e78\")>,\n",
       " <selenium.webdriver.remote.webelement.WebElement (session=\"54da69c25aaeefb224d255a7bc4e588d\", element=\"92bd8f4c-cfd1-482e-9d5f-cd09d7b0fe87\")>,\n",
       " <selenium.webdriver.remote.webelement.WebElement (session=\"54da69c25aaeefb224d255a7bc4e588d\", element=\"431c78f1-706c-43d2-9f2f-6c104b5a28d1\")>,\n",
       " <selenium.webdriver.remote.webelement.WebElement (session=\"54da69c25aaeefb224d255a7bc4e588d\", element=\"7da83c47-04ce-4e12-a4e7-d12d531a7c5e\")>,\n",
       " <selenium.webdriver.remote.webelement.WebElement (session=\"54da69c25aaeefb224d255a7bc4e588d\", element=\"995396af-8ae6-4017-9950-fc11eb785915\")>,\n",
       " <selenium.webdriver.remote.webelement.WebElement (session=\"54da69c25aaeefb224d255a7bc4e588d\", element=\"8f27134e-ee96-4c5e-b7d5-f84406697742\")>,\n",
       " <selenium.webdriver.remote.webelement.WebElement (session=\"54da69c25aaeefb224d255a7bc4e588d\", element=\"c0434a7b-5fb0-4542-be2c-ad7f595d3202\")>,\n",
       " <selenium.webdriver.remote.webelement.WebElement (session=\"54da69c25aaeefb224d255a7bc4e588d\", element=\"b61420c4-a0f6-47df-9b92-3070f1d7f945\")>,\n",
       " <selenium.webdriver.remote.webelement.WebElement (session=\"54da69c25aaeefb224d255a7bc4e588d\", element=\"2c9bede6-21b0-4c7e-a331-e84a897cc8a8\")>,\n",
       " <selenium.webdriver.remote.webelement.WebElement (session=\"54da69c25aaeefb224d255a7bc4e588d\", element=\"a23effb2-0b60-4dcd-a65e-bf8e145545f9\")>,\n",
       " <selenium.webdriver.remote.webelement.WebElement (session=\"54da69c25aaeefb224d255a7bc4e588d\", element=\"d3b38b1b-ac55-451b-9f4c-2ad5167f99c1\")>,\n",
       " <selenium.webdriver.remote.webelement.WebElement (session=\"54da69c25aaeefb224d255a7bc4e588d\", element=\"b1f3a90d-6398-4111-91c3-9bc588b6ff81\")>,\n",
       " <selenium.webdriver.remote.webelement.WebElement (session=\"54da69c25aaeefb224d255a7bc4e588d\", element=\"4d61ae99-c2b6-448b-9449-33a983a6c9c2\")>,\n",
       " <selenium.webdriver.remote.webelement.WebElement (session=\"54da69c25aaeefb224d255a7bc4e588d\", element=\"97b1ea03-cd9d-47cb-ad3a-a9641cf0d396\")>,\n",
       " <selenium.webdriver.remote.webelement.WebElement (session=\"54da69c25aaeefb224d255a7bc4e588d\", element=\"fbfa94da-b39b-4e4b-bfeb-78aecc7e7918\")>,\n",
       " <selenium.webdriver.remote.webelement.WebElement (session=\"54da69c25aaeefb224d255a7bc4e588d\", element=\"c2114a33-d0ac-41be-ab24-a2b0de678cbf\")>,\n",
       " <selenium.webdriver.remote.webelement.WebElement (session=\"54da69c25aaeefb224d255a7bc4e588d\", element=\"520551e4-f443-41b0-bfae-c2c2db748ab9\")>,\n",
       " <selenium.webdriver.remote.webelement.WebElement (session=\"54da69c25aaeefb224d255a7bc4e588d\", element=\"217f647f-5537-49fe-98d0-dc5714441c89\")>,\n",
       " <selenium.webdriver.remote.webelement.WebElement (session=\"54da69c25aaeefb224d255a7bc4e588d\", element=\"36aa9e6b-204c-47a0-993e-3435f6df5327\")>,\n",
       " <selenium.webdriver.remote.webelement.WebElement (session=\"54da69c25aaeefb224d255a7bc4e588d\", element=\"54503eb9-5831-4e1a-b79e-fce7c2537f86\")>]"
      ]
     },
     "execution_count": 290,
     "metadata": {},
     "output_type": "execute_result"
    }
   ],
   "source": [
    "titles_lap=driver.find_elements_by_xpath(\"//span[@class='a-size-medium a-color-base a-text-normal']\")\n",
    "titles_lap"
   ]
  },
  {
   "cell_type": "code",
   "execution_count": 291,
   "metadata": {},
   "outputs": [
    {
     "data": {
      "text/plain": [
       "['Dell XPS 9370 13.3-inch FHD Display Thin & Light Laptop (8th Gen i7-8550U/16GB/512GB SSD/Win 10 + MS Office/Integrated Graphics), Gold',\n",
       " 'HP Envy 11th Gen Core i7 Processor 13.3-inch (33.78 cms) FHD Touchscreen Laptop (16GB/1TB SSD/Win 10/NVIDIA MX450 2GB/Natural Silver/1.3 kg), 13-ba1018TX',\n",
       " 'Mi Notebook Horizon Edition 14 Intel Core i7-10510U 10th Gen Thin and Light Laptop(8GB/512GB SSD/Windows 10/Nvidia MX350 2GB Graphics/Grey/1.35Kg)(Without Webcam) XMA1904-AF',\n",
       " 'Lenovo IdeaPad S540 11th Gen Intel Core i7 13.3\" QHD IPS Thin & Light Laptop (16GB/512GB SSD/Windows 10/MS Office 2019/Intel Iris Xe Graphics/Iron Grey/1.28Kg), 82H1002CIN',\n",
       " 'ASUS ROG G703GI-E5148T 17.3\" (43.94 cms) FHD 144Hz/3ms Gaming Laptop (8th Gen Intel Core i9-8950HK/64GB/2TB SSHD + 1.5TB NVMe SSD/Windows 10/GTX 1080 8GB Graphics/4.70 Kg), Aluminum',\n",
       " 'Fujitsu UH-X 11th Gen Intel Core i7 13.3” (33.78cm) FHD IPS 400Nits 2-in1 Touch Convertible Laptop (16GB/1TB SSD/Win10/Office/Iris Xe Graphics/Backlit Kb/Black/997gms), 4ZR1D71993',\n",
       " 'HP Pavilion 13(2021) 11th Gen Intel Core i7 Laptop, 16GB RAM, 1TB SSD, 13.3-inch(33.8 cm) FHD Screen, Win 10, MS Office, Ceramic White, 1.24 Kg (13-bb0078TU)',\n",
       " 'Lenovo IdeaPad Flex 5 11th Gen Intel Core i7 14\"(35.56cm) FHD IPS 2-in-1 Touchscreen Laptop(16GB/512GB SSD/Windows 10/MS Office/Lenovo Digital Pen/Fingerprint Reader/Graphite Grey/1.5Kg), 82HS0092IN',\n",
       " 'ASUS TUF Gaming F17 (2021), 17.3-inch (43.94 cms) FHD 144Hz, Intel Core i7-11800H 11th Gen, GeForce RTX 3050 Ti 4GB Graphics, Gaming Laptop (16GB/1TB SSD/Windows 10/Eclipse Gray/2.6 Kg) FX766HE-HX022T',\n",
       " 'MSI GF75 Thin, Intel i7-10750H, 17.3\" (43.9 cm) FHD IPS-Level 144Hz Panel Laptop (8GB/512GB NVMe SSD/Windows 10 Home/Nvidia GTX1650 4GB GDDR6/Black/2.2Kg), 10SCXR-654IN']"
      ]
     },
     "execution_count": 291,
     "metadata": {},
     "output_type": "execute_result"
    }
   ],
   "source": [
    "Lap_titles=[]\n",
    "for i in titles_lap:\n",
    "    Lap_titles.append(i.text)\n",
    "\n",
    "Lap_titles[0:10]"
   ]
  },
  {
   "cell_type": "code",
   "execution_count": 292,
   "metadata": {},
   "outputs": [
    {
     "data": {
      "text/plain": [
       "[<selenium.webdriver.remote.webelement.WebElement (session=\"54da69c25aaeefb224d255a7bc4e588d\", element=\"9183edd2-e67c-4418-985b-96e6c0f2d25b\")>,\n",
       " <selenium.webdriver.remote.webelement.WebElement (session=\"54da69c25aaeefb224d255a7bc4e588d\", element=\"ec5ab87a-28dc-4fa4-bf60-26fc436cc364\")>,\n",
       " <selenium.webdriver.remote.webelement.WebElement (session=\"54da69c25aaeefb224d255a7bc4e588d\", element=\"1e6c2758-ebff-474d-add0-cae34a51b8a7\")>,\n",
       " <selenium.webdriver.remote.webelement.WebElement (session=\"54da69c25aaeefb224d255a7bc4e588d\", element=\"ae8feeb8-7b9f-4826-abe4-216623df1546\")>,\n",
       " <selenium.webdriver.remote.webelement.WebElement (session=\"54da69c25aaeefb224d255a7bc4e588d\", element=\"32a979e5-e546-41cb-b24a-a55734826314\")>,\n",
       " <selenium.webdriver.remote.webelement.WebElement (session=\"54da69c25aaeefb224d255a7bc4e588d\", element=\"67874c81-c7dd-4321-b74b-1d310dc3c24f\")>,\n",
       " <selenium.webdriver.remote.webelement.WebElement (session=\"54da69c25aaeefb224d255a7bc4e588d\", element=\"104feb03-f120-415c-8c38-12cdca55fb01\")>,\n",
       " <selenium.webdriver.remote.webelement.WebElement (session=\"54da69c25aaeefb224d255a7bc4e588d\", element=\"0074ba16-715f-45fb-937d-6b6d17974b8c\")>,\n",
       " <selenium.webdriver.remote.webelement.WebElement (session=\"54da69c25aaeefb224d255a7bc4e588d\", element=\"13ec25ac-05ec-4f74-af38-30a69c6c8c6e\")>,\n",
       " <selenium.webdriver.remote.webelement.WebElement (session=\"54da69c25aaeefb224d255a7bc4e588d\", element=\"23efb5bb-2c68-4726-b245-b89ee4b0faa9\")>,\n",
       " <selenium.webdriver.remote.webelement.WebElement (session=\"54da69c25aaeefb224d255a7bc4e588d\", element=\"c7a64266-3947-437e-998f-e6dab777e77b\")>,\n",
       " <selenium.webdriver.remote.webelement.WebElement (session=\"54da69c25aaeefb224d255a7bc4e588d\", element=\"09b5924b-7c9c-4ee7-b02c-449da0406b3d\")>,\n",
       " <selenium.webdriver.remote.webelement.WebElement (session=\"54da69c25aaeefb224d255a7bc4e588d\", element=\"7e4ed397-759d-44e7-813d-b7b913179215\")>,\n",
       " <selenium.webdriver.remote.webelement.WebElement (session=\"54da69c25aaeefb224d255a7bc4e588d\", element=\"5ac8b614-c4e5-4ce7-b192-4afc544eb715\")>,\n",
       " <selenium.webdriver.remote.webelement.WebElement (session=\"54da69c25aaeefb224d255a7bc4e588d\", element=\"1d46c7cf-45a7-4bdd-a7a1-beb82e9d99ff\")>,\n",
       " <selenium.webdriver.remote.webelement.WebElement (session=\"54da69c25aaeefb224d255a7bc4e588d\", element=\"0cbd8aa1-c5ea-457c-ab19-41940dd1f034\")>,\n",
       " <selenium.webdriver.remote.webelement.WebElement (session=\"54da69c25aaeefb224d255a7bc4e588d\", element=\"62691b28-dccd-476f-b37e-3ec648c57512\")>,\n",
       " <selenium.webdriver.remote.webelement.WebElement (session=\"54da69c25aaeefb224d255a7bc4e588d\", element=\"025547ee-980d-4628-92a7-32874ce182e9\")>,\n",
       " <selenium.webdriver.remote.webelement.WebElement (session=\"54da69c25aaeefb224d255a7bc4e588d\", element=\"abc0a159-e91c-48cf-94d2-84244d2973b1\")>,\n",
       " <selenium.webdriver.remote.webelement.WebElement (session=\"54da69c25aaeefb224d255a7bc4e588d\", element=\"76966657-d3ea-4650-91a2-b8aced4f89ff\")>,\n",
       " <selenium.webdriver.remote.webelement.WebElement (session=\"54da69c25aaeefb224d255a7bc4e588d\", element=\"e848c045-5617-4c15-a39a-e2df53363557\")>,\n",
       " <selenium.webdriver.remote.webelement.WebElement (session=\"54da69c25aaeefb224d255a7bc4e588d\", element=\"a4881dfd-90bf-4a1e-8f31-3c7baa96c8b2\")>,\n",
       " <selenium.webdriver.remote.webelement.WebElement (session=\"54da69c25aaeefb224d255a7bc4e588d\", element=\"79b56c3a-c228-467a-a841-f84e263040ca\")>,\n",
       " <selenium.webdriver.remote.webelement.WebElement (session=\"54da69c25aaeefb224d255a7bc4e588d\", element=\"e9e9c2f7-3556-4e57-9fc1-e0b49fb699cf\")>]"
      ]
     },
     "execution_count": 292,
     "metadata": {},
     "output_type": "execute_result"
    }
   ],
   "source": [
    "rating=driver.find_elements_by_xpath(\"//span[@class='a-size-base']\")\n",
    "rating"
   ]
  },
  {
   "cell_type": "code",
   "execution_count": 293,
   "metadata": {},
   "outputs": [
    {
     "data": {
      "text/plain": [
       "['11', '231', '815', '101', '31', '29', '4', '66', '19', '66']"
      ]
     },
     "execution_count": 293,
     "metadata": {},
     "output_type": "execute_result"
    }
   ],
   "source": [
    "lap_rating=[]\n",
    "for i in rating:\n",
    "    lap_rating.append(i.text)\n",
    "\n",
    "lap_rating[0:10]"
   ]
  },
  {
   "cell_type": "code",
   "execution_count": 294,
   "metadata": {},
   "outputs": [
    {
     "data": {
      "text/plain": [
       "[<selenium.webdriver.remote.webelement.WebElement (session=\"54da69c25aaeefb224d255a7bc4e588d\", element=\"1bb150ec-d5a6-4bbf-8b12-2a8de7cad013\")>,\n",
       " <selenium.webdriver.remote.webelement.WebElement (session=\"54da69c25aaeefb224d255a7bc4e588d\", element=\"d201a148-343b-4dec-9585-b75f589f93e3\")>,\n",
       " <selenium.webdriver.remote.webelement.WebElement (session=\"54da69c25aaeefb224d255a7bc4e588d\", element=\"81931a4d-48ff-448f-8255-122c2fd73a12\")>,\n",
       " <selenium.webdriver.remote.webelement.WebElement (session=\"54da69c25aaeefb224d255a7bc4e588d\", element=\"d678baaf-b2ff-4553-8980-11375b20de7d\")>,\n",
       " <selenium.webdriver.remote.webelement.WebElement (session=\"54da69c25aaeefb224d255a7bc4e588d\", element=\"e1f42a95-e31c-4c21-8492-93847c4e7f53\")>,\n",
       " <selenium.webdriver.remote.webelement.WebElement (session=\"54da69c25aaeefb224d255a7bc4e588d\", element=\"9d85b2ac-afcc-416f-847a-56c139c99411\")>,\n",
       " <selenium.webdriver.remote.webelement.WebElement (session=\"54da69c25aaeefb224d255a7bc4e588d\", element=\"210b302f-7a07-459f-87a0-5ccaf89321fe\")>,\n",
       " <selenium.webdriver.remote.webelement.WebElement (session=\"54da69c25aaeefb224d255a7bc4e588d\", element=\"c66d5970-5691-4c59-84ca-edc212383c8d\")>,\n",
       " <selenium.webdriver.remote.webelement.WebElement (session=\"54da69c25aaeefb224d255a7bc4e588d\", element=\"576692f9-898d-4c6d-aaef-2069c046daca\")>,\n",
       " <selenium.webdriver.remote.webelement.WebElement (session=\"54da69c25aaeefb224d255a7bc4e588d\", element=\"7a5dc9a9-2619-4d83-b405-43302db91a9b\")>,\n",
       " <selenium.webdriver.remote.webelement.WebElement (session=\"54da69c25aaeefb224d255a7bc4e588d\", element=\"6f4a5b6b-05fa-478a-9036-785a01055c94\")>,\n",
       " <selenium.webdriver.remote.webelement.WebElement (session=\"54da69c25aaeefb224d255a7bc4e588d\", element=\"78a64883-3b2d-4e36-9ea6-9b671d7be330\")>,\n",
       " <selenium.webdriver.remote.webelement.WebElement (session=\"54da69c25aaeefb224d255a7bc4e588d\", element=\"dc9b0b1f-93f5-460f-8df8-6e19a82d5b6f\")>,\n",
       " <selenium.webdriver.remote.webelement.WebElement (session=\"54da69c25aaeefb224d255a7bc4e588d\", element=\"c78e627b-6b63-4507-aa46-062c0090bc98\")>,\n",
       " <selenium.webdriver.remote.webelement.WebElement (session=\"54da69c25aaeefb224d255a7bc4e588d\", element=\"c91f648d-f848-45e1-9413-14e2da780a6b\")>,\n",
       " <selenium.webdriver.remote.webelement.WebElement (session=\"54da69c25aaeefb224d255a7bc4e588d\", element=\"ccef7fef-7c9c-438e-b327-982988d3c36b\")>,\n",
       " <selenium.webdriver.remote.webelement.WebElement (session=\"54da69c25aaeefb224d255a7bc4e588d\", element=\"177a52d3-b1d1-4087-8ac5-ee6abab77599\")>,\n",
       " <selenium.webdriver.remote.webelement.WebElement (session=\"54da69c25aaeefb224d255a7bc4e588d\", element=\"5c369a46-6a9a-49fc-b677-c6fe079497e9\")>,\n",
       " <selenium.webdriver.remote.webelement.WebElement (session=\"54da69c25aaeefb224d255a7bc4e588d\", element=\"b58d2ea4-4fe1-4024-b765-912017710a46\")>,\n",
       " <selenium.webdriver.remote.webelement.WebElement (session=\"54da69c25aaeefb224d255a7bc4e588d\", element=\"1f4f325b-8ae6-4c1c-8b13-59c367222cbd\")>,\n",
       " <selenium.webdriver.remote.webelement.WebElement (session=\"54da69c25aaeefb224d255a7bc4e588d\", element=\"9c39bd0e-f429-4a8b-9021-15f180b978d6\")>,\n",
       " <selenium.webdriver.remote.webelement.WebElement (session=\"54da69c25aaeefb224d255a7bc4e588d\", element=\"fd3507bc-c8c6-450a-9298-b8d0c7cbe3c3\")>,\n",
       " <selenium.webdriver.remote.webelement.WebElement (session=\"54da69c25aaeefb224d255a7bc4e588d\", element=\"c2e10ddc-4408-44ab-94f7-20cff9c2c71a\")>]"
      ]
     },
     "execution_count": 294,
     "metadata": {},
     "output_type": "execute_result"
    }
   ],
   "source": [
    "price=driver.find_elements_by_xpath(\"//span[@class='a-price-whole']\")\n",
    "price"
   ]
  },
  {
   "cell_type": "code",
   "execution_count": 295,
   "metadata": {},
   "outputs": [
    {
     "data": {
      "text/plain": [
       "['1,14,990',\n",
       " '1,23,350',\n",
       " '57,990',\n",
       " '77,990',\n",
       " '5,56,524',\n",
       " '1,07,990',\n",
       " '92,990',\n",
       " '98,500',\n",
       " '1,13,990',\n",
       " '74,990']"
      ]
     },
     "execution_count": 295,
     "metadata": {},
     "output_type": "execute_result"
    }
   ],
   "source": [
    "lap_price=[]\n",
    "for i in price:\n",
    "    lap_price.append(i.text)\n",
    "\n",
    "lap_price[0:10]"
   ]
  },
  {
   "cell_type": "code",
   "execution_count": null,
   "metadata": {},
   "outputs": [],
   "source": []
  },
  {
   "cell_type": "code",
   "execution_count": null,
   "metadata": {},
   "outputs": [],
   "source": []
  }
 ],
 "metadata": {
  "kernelspec": {
   "display_name": "Python 3",
   "language": "python",
   "name": "python3"
  },
  "language_info": {
   "codemirror_mode": {
    "name": "ipython",
    "version": 3
   },
   "file_extension": ".py",
   "mimetype": "text/x-python",
   "name": "python",
   "nbconvert_exporter": "python",
   "pygments_lexer": "ipython3",
   "version": "3.8.5"
  }
 },
 "nbformat": 4,
 "nbformat_minor": 4
}
